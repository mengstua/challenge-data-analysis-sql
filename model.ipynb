{
 "cells": [
  {
   "cell_type": "code",
   "execution_count": 3,
   "id": "9e120d3c",
   "metadata": {},
   "outputs": [],
   "source": [
    "import sqlite3\n",
    "\n",
    "db_file = \"data/kbo_database.db\"\n",
    "connection = sqlite3.connect(db_file, isolation_level=None, check_same_thread=False)\n",
    "cursor = connection.cursor()\n",
    "\n"
   ]
  },
  {
   "cell_type": "code",
   "execution_count": 3,
   "id": "9aff5bfa",
   "metadata": {},
   "outputs": [
    {
     "data": {
      "text/plain": [
       "<sqlite3.Cursor at 0x1801f6e5c40>"
      ]
     },
     "execution_count": 3,
     "metadata": {},
     "output_type": "execute_result"
    }
   ],
   "source": [
    "cursor.execute(\"SELECT name FROM sqlite_master WHERE type='table';\")"
   ]
  },
  {
   "cell_type": "code",
   "execution_count": 4,
   "id": "5074536e",
   "metadata": {},
   "outputs": [
    {
     "name": "stdout",
     "output_type": "stream",
     "text": [
      "Tables in the database:\n",
      "denomination\n",
      "branch\n",
      "activity\n",
      "establishment\n",
      "address\n",
      "contact\n",
      "meta\n",
      "code\n",
      "enterprise\n"
     ]
    }
   ],
   "source": [
    "# Fetch and print the table names\n",
    "tables = cursor.fetchall()\n",
    "print(\"Tables in the database:\")\n",
    "for table in tables:\n",
    "    print(table[0])\n",
    "\n",
    "# Close the connection\n",
    "connection.close()"
   ]
  },
  {
   "cell_type": "code",
   "execution_count": 6,
   "id": "110970af",
   "metadata": {},
   "outputs": [
    {
     "name": "stdout",
     "output_type": "stream",
     "text": [
      "EntityNumber\n",
      "Language\n",
      "TypeOfDenomination\n",
      "Denomination\n"
     ]
    }
   ],
   "source": [
    "# Connect to the SQLite database file\n",
    "connection = sqlite3.connect(db_file, isolation_level=None, check_same_thread=False)\n",
    "\n",
    "# Create a cursor object\n",
    "cursor = connection.cursor()\n",
    "\n",
    "# Query to fetch column names from a specific table\n",
    "table_name = \"denomination\"\n",
    "cursor.execute(f\"PRAGMA table_info({table_name});\")\n",
    "\n",
    "# Fetch and display column names\n",
    "columns = cursor.fetchall()\n",
    "for column in columns:\n",
    "    print(column[1])  # The second element contains the column name\n",
    "\n",
    "# Close the connection\n",
    "connection.close()\n"
   ]
  },
  {
   "cell_type": "code",
   "execution_count": 7,
   "id": "324e2ed3",
   "metadata": {},
   "outputs": [
    {
     "name": "stdout",
     "output_type": "stream",
     "text": [
      "Id\n",
      "StartDate\n",
      "EnterpriseNumber\n"
     ]
    }
   ],
   "source": [
    "# Connect to the SQLite database file\n",
    "connection = sqlite3.connect(db_file, isolation_level=None, check_same_thread=False)\n",
    "\n",
    "# Create a cursor object\n",
    "cursor = connection.cursor()\n",
    "\n",
    "# Querying to fetchin column names from a specific table\n",
    "table_name = \"Branch\"\n",
    "cursor.execute(f\"PRAGMA table_info({table_name});\")\n",
    "\n",
    "# Fetching and displaying column names\n",
    "columns = cursor.fetchall()\n",
    "for column in columns:\n",
    "    print(column[1])  # The second element contains the column name\n",
    "\n",
    "# Close the connection\n",
    "connection.close()"
   ]
  },
  {
   "cell_type": "code",
   "execution_count": 7,
   "id": "332bee0c",
   "metadata": {},
   "outputs": [
    {
     "name": "stdout",
     "output_type": "stream",
     "text": [
      "Table: denomination\n",
      "  Column: EntityNumber\n",
      "  Column: Language\n",
      "  Column: TypeOfDenomination\n",
      "  Column: Denomination\n",
      "./n\n",
      "Table: branch\n",
      "  Column: Id\n",
      "  Column: StartDate\n",
      "  Column: EnterpriseNumber\n",
      "./n\n",
      "Table: activity\n",
      "  Column: EntityNumber\n",
      "  Column: ActivityGroup\n",
      "  Column: NaceVersion\n",
      "  Column: NaceCode\n",
      "  Column: Classification\n",
      "./n\n",
      "Table: establishment\n",
      "  Column: EstablishmentNumber\n",
      "  Column: StartDate\n",
      "  Column: EnterpriseNumber\n",
      "./n\n",
      "Table: address\n",
      "  Column: EntityNumber\n",
      "  Column: TypeOfAddress\n",
      "  Column: CountryNL\n",
      "  Column: CountryFR\n",
      "  Column: Zipcode\n",
      "  Column: MunicipalityNL\n",
      "  Column: MunicipalityFR\n",
      "  Column: StreetNL\n",
      "  Column: StreetFR\n",
      "  Column: HouseNumber\n",
      "  Column: Box\n",
      "  Column: ExtraAddressInfo\n",
      "  Column: DateStrikingOff\n",
      "./n\n",
      "Table: contact\n",
      "  Column: EntityNumber\n",
      "  Column: EntityContact\n",
      "  Column: ContactType\n",
      "  Column: Value\n",
      "./n\n",
      "Table: meta\n",
      "  Column: Variable\n",
      "  Column: Value\n",
      "./n\n",
      "Table: code\n",
      "  Column: Category\n",
      "  Column: Code\n",
      "  Column: Language\n",
      "  Column: Description\n",
      "./n\n",
      "Table: enterprise\n",
      "  Column: EnterpriseNumber\n",
      "  Column: Status\n",
      "  Column: JuridicalSituation\n",
      "  Column: TypeOfEnterprise\n",
      "  Column: JuridicalForm\n",
      "  Column: JuridicalFormCAC\n",
      "  Column: StartDate\n",
      "./n\n"
     ]
    }
   ],
   "source": [
    "\n",
    "\n",
    "# Connect to the SQLite database\n",
    "\n",
    "#  database file path\n",
    "db_path = \"data/kbo_database.db\"  \n",
    "conn = sqlite3.connect(db_path)\n",
    "cursor = conn.cursor()\n",
    "\n",
    "# Get all table names\n",
    "cursor.execute(\"SELECT name FROM sqlite_master WHERE type='table';\")\n",
    "tables = cursor.fetchall()\n",
    "\n",
    "\n",
    "for table in tables:\n",
    "    table_name = table[0]\n",
    "    print(f\"Table: {table_name}\")\n",
    "    \n",
    "    # Get column information\n",
    "    cursor.execute(f\"PRAGMA table_info({table_name});\")\n",
    "    columns = cursor.fetchall()\n",
    "   \n",
    "    \n",
    "    # Print column names\n",
    "    for column in columns:\n",
    "        print(f\"  Column: {column[1]}\")  # column[1] contains the column name\n",
    "    print('./n')\n",
    "# Close the connection\n",
    "connection.close()"
   ]
  },
  {
   "cell_type": "code",
   "execution_count": 8,
   "id": "7bc988a8",
   "metadata": {},
   "outputs": [
    {
     "ename": "OperationalError",
     "evalue": "no such column: address_id",
     "output_type": "error",
     "traceback": [
      "\u001b[31m---------------------------------------------------------------------------\u001b[39m",
      "\u001b[31mOperationalError\u001b[39m                          Traceback (most recent call last)",
      "\u001b[36mCell\u001b[39m\u001b[36m \u001b[39m\u001b[32mIn[8]\u001b[39m\u001b[32m, line 9\u001b[39m\n\u001b[32m      6\u001b[39m cursor = connection.cursor()\n\u001b[32m      8\u001b[39m \u001b[38;5;66;03m# Execute query\u001b[39;00m\n\u001b[32m----> \u001b[39m\u001b[32m9\u001b[39m \u001b[43mcursor\u001b[49m\u001b[43m.\u001b[49m\u001b[43mexecute\u001b[49m\u001b[43m(\u001b[49m\u001b[33;43m\"\"\"\u001b[39;49m\n\u001b[32m     10\u001b[39m \u001b[33;43m    SELECT * \u001b[39;49m\n\u001b[32m     11\u001b[39m \u001b[33;43m    FROM address\u001b[39;49m\n\u001b[32m     12\u001b[39m \u001b[33;43m    group by address_id\u001b[39;49m\n\u001b[32m     13\u001b[39m \u001b[33;43m    ORDER BY address_id DESC\u001b[39;49m\n\u001b[32m     14\u001b[39m \u001b[33;43m    LIMIT 100;\u001b[39;49m\n\u001b[32m     15\u001b[39m \u001b[33;43m\"\"\"\u001b[39;49m\u001b[43m)\u001b[49m\n\u001b[32m     17\u001b[39m \u001b[38;5;66;03m# Fetch results and convert to DataFrame\u001b[39;00m\n\u001b[32m     18\u001b[39m rows = cursor.fetchall()\n",
      "\u001b[31mOperationalError\u001b[39m: no such column: address_id"
     ]
    }
   ],
   "source": [
    "import sqlite3  \n",
    "import pandas as pd\n",
    "\n",
    "# create connection\n",
    "connection = sqlite3.connect(db_file)\n",
    "cursor = connection.cursor()\n",
    "\n",
    "# Execute query\n",
    "cursor.execute(\"\"\"\n",
    "    SELECT * \n",
    "    FROM address\n",
    "    group by address_id\n",
    "    ORDER BY address_id DESC\n",
    "    LIMIT 100;\n",
    "\"\"\")\n",
    "\n",
    "# Fetch results and convert to DataFrame\n",
    "rows = cursor.fetchall()\n",
    "columns = [desc[0] for desc in cursor.description]  # get column names\n",
    "address_df = pd.DataFrame(rows, columns=columns)\n",
    "\n",
    "print(address_df.head(100))"
   ]
  },
  {
   "cell_type": "markdown",
   "id": "20b3f536",
   "metadata": {},
   "source": [
    "Must-have features\n",
    "Write SQL queries to analyze the database and extract meaningful business insights.\n",
    "You must write at least 10 SQL queries that demonstrate your analytical skills and bring value. Some examples of questions to explore:\n",
    "Which percentage of companies are under which juridical form?\n",
    "What is the distribution of company statuses?\n",
    "Calculate average company age by sector (NACE codes)\n",
    "Track company creation trends over time with time-based analysis\n",
    "Compare geographical distribution of companies\n",
    "Find growth trends by sector with year-over-year analysis\n",
    "Detect seasonal patterns for company creation\n",
    "Create your own analytical queries that showcase advanced SQL concepts like:\n",
    "Complex joins (INNER, LEFT, RIGHT)\n",
    "CASE statements\n",
    "Date/time functions\n",
    "Aggregate functions\n",
    "GROUP BY\n",
    "ORDER BY"
   ]
  },
  {
   "cell_type": "code",
   "execution_count": null,
   "id": "dc4c23df",
   "metadata": {},
   "outputs": [],
   "source": [
    "quer = \"SELECT cout(JuridicalForm) AS numbber \n",
    "\"FROM address\"\n"
   ]
  },
  {
   "cell_type": "code",
   "execution_count": 2,
   "id": "a8f4facc",
   "metadata": {},
   "outputs": [
    {
     "ename": "NameError",
     "evalue": "name 'sqlite3' is not defined",
     "output_type": "error",
     "traceback": [
      "\u001b[31m---------------------------------------------------------------------------\u001b[39m",
      "\u001b[31mNameError\u001b[39m                                 Traceback (most recent call last)",
      "\u001b[36mCell\u001b[39m\u001b[36m \u001b[39m\u001b[32mIn[2]\u001b[39m\u001b[32m, line 8\u001b[39m\n\u001b[32m      1\u001b[39m query1 = \u001b[33m\"\"\"\u001b[39m\u001b[33mSELECT \u001b[39m\n\u001b[32m      2\u001b[39m \u001b[33m        COUNT(JuridicalForm) *100 / COUNT(EnterpriseNumber) AS company_jucidical_forms,\u001b[39m\n\u001b[32m      3\u001b[39m \u001b[33m        100 - COUNT(JuridicalForm) *100 / COUNT(EnterpriseNumber) AS company_without_jucidical_forms\u001b[39m\n\u001b[32m      4\u001b[39m \u001b[33m    FROM enterprise\u001b[39m\n\u001b[32m      5\u001b[39m \u001b[33m    \u001b[39m\u001b[33m\"\"\"\u001b[39m\n\u001b[32m      7\u001b[39m \u001b[38;5;66;03m# Create connection\u001b[39;00m\n\u001b[32m----> \u001b[39m\u001b[32m8\u001b[39m conn = \u001b[43msqlite3\u001b[49m.connect(db_file)\n\u001b[32m     10\u001b[39m \u001b[38;5;66;03m# Using pandas to execute query and load into DataFrame\u001b[39;00m\n\u001b[32m     11\u001b[39m address_df = pd.read_sql_query(query1, conn)\n",
      "\u001b[31mNameError\u001b[39m: name 'sqlite3' is not defined"
     ]
    }
   ],
   "source": [
    "query1 = \"\"\"SELECT \n",
    "        COUNT(JuridicalForm) *100 / COUNT(EnterpriseNumber) AS company_jucidical_forms,\n",
    "        100 - COUNT(JuridicalForm) *100 / COUNT(EnterpriseNumber) AS company_without_jucidical_forms\n",
    "    FROM enterprise\n",
    "    \"\"\"\n",
    "\n",
    "# Create connection\n",
    "conn = sqlite3.connect(db_file)\n",
    "\n",
    "# Using pandas to execute query and load into DataFrame\n",
    "address_df = pd.read_sql_query(query1, conn)\n",
    "print(address_df.head())"
   ]
  },
  {
   "cell_type": "code",
   "execution_count": null,
   "id": "5c4e03c8",
   "metadata": {},
   "outputs": [
    {
     "data": {
      "application/vnd.plotly.v1+json": {
       "config": {
        "plotlyServerURL": "https://plot.ly"
       },
       "data": [
        {
         "hole": 0.4,
         "labels": [
          "With JuridicalForm",
          "Without JuridicalForm"
         ],
         "type": "pie",
         "values": [
          1153201,
          773045
         ]
        }
       ],
       "layout": {
        "height": 400,
        "legend": {
         "x": 1,
         "xanchor": "center",
         "y": 1.1,
         "yanchor": "top"
        },
        "template": {
         "data": {
          "bar": [
           {
            "error_x": {
             "color": "#2a3f5f"
            },
            "error_y": {
             "color": "#2a3f5f"
            },
            "marker": {
             "line": {
              "color": "#E5ECF6",
              "width": 0.5
             },
             "pattern": {
              "fillmode": "overlay",
              "size": 10,
              "solidity": 0.2
             }
            },
            "type": "bar"
           }
          ],
          "barpolar": [
           {
            "marker": {
             "line": {
              "color": "#E5ECF6",
              "width": 0.5
             },
             "pattern": {
              "fillmode": "overlay",
              "size": 10,
              "solidity": 0.2
             }
            },
            "type": "barpolar"
           }
          ],
          "carpet": [
           {
            "aaxis": {
             "endlinecolor": "#2a3f5f",
             "gridcolor": "white",
             "linecolor": "white",
             "minorgridcolor": "white",
             "startlinecolor": "#2a3f5f"
            },
            "baxis": {
             "endlinecolor": "#2a3f5f",
             "gridcolor": "white",
             "linecolor": "white",
             "minorgridcolor": "white",
             "startlinecolor": "#2a3f5f"
            },
            "type": "carpet"
           }
          ],
          "choropleth": [
           {
            "colorbar": {
             "outlinewidth": 0,
             "ticks": ""
            },
            "type": "choropleth"
           }
          ],
          "contour": [
           {
            "colorbar": {
             "outlinewidth": 0,
             "ticks": ""
            },
            "colorscale": [
             [
              0,
              "#0d0887"
             ],
             [
              0.1111111111111111,
              "#46039f"
             ],
             [
              0.2222222222222222,
              "#7201a8"
             ],
             [
              0.3333333333333333,
              "#9c179e"
             ],
             [
              0.4444444444444444,
              "#bd3786"
             ],
             [
              0.5555555555555556,
              "#d8576b"
             ],
             [
              0.6666666666666666,
              "#ed7953"
             ],
             [
              0.7777777777777778,
              "#fb9f3a"
             ],
             [
              0.8888888888888888,
              "#fdca26"
             ],
             [
              1,
              "#f0f921"
             ]
            ],
            "type": "contour"
           }
          ],
          "contourcarpet": [
           {
            "colorbar": {
             "outlinewidth": 0,
             "ticks": ""
            },
            "type": "contourcarpet"
           }
          ],
          "heatmap": [
           {
            "colorbar": {
             "outlinewidth": 0,
             "ticks": ""
            },
            "colorscale": [
             [
              0,
              "#0d0887"
             ],
             [
              0.1111111111111111,
              "#46039f"
             ],
             [
              0.2222222222222222,
              "#7201a8"
             ],
             [
              0.3333333333333333,
              "#9c179e"
             ],
             [
              0.4444444444444444,
              "#bd3786"
             ],
             [
              0.5555555555555556,
              "#d8576b"
             ],
             [
              0.6666666666666666,
              "#ed7953"
             ],
             [
              0.7777777777777778,
              "#fb9f3a"
             ],
             [
              0.8888888888888888,
              "#fdca26"
             ],
             [
              1,
              "#f0f921"
             ]
            ],
            "type": "heatmap"
           }
          ],
          "histogram": [
           {
            "marker": {
             "pattern": {
              "fillmode": "overlay",
              "size": 10,
              "solidity": 0.2
             }
            },
            "type": "histogram"
           }
          ],
          "histogram2d": [
           {
            "colorbar": {
             "outlinewidth": 0,
             "ticks": ""
            },
            "colorscale": [
             [
              0,
              "#0d0887"
             ],
             [
              0.1111111111111111,
              "#46039f"
             ],
             [
              0.2222222222222222,
              "#7201a8"
             ],
             [
              0.3333333333333333,
              "#9c179e"
             ],
             [
              0.4444444444444444,
              "#bd3786"
             ],
             [
              0.5555555555555556,
              "#d8576b"
             ],
             [
              0.6666666666666666,
              "#ed7953"
             ],
             [
              0.7777777777777778,
              "#fb9f3a"
             ],
             [
              0.8888888888888888,
              "#fdca26"
             ],
             [
              1,
              "#f0f921"
             ]
            ],
            "type": "histogram2d"
           }
          ],
          "histogram2dcontour": [
           {
            "colorbar": {
             "outlinewidth": 0,
             "ticks": ""
            },
            "colorscale": [
             [
              0,
              "#0d0887"
             ],
             [
              0.1111111111111111,
              "#46039f"
             ],
             [
              0.2222222222222222,
              "#7201a8"
             ],
             [
              0.3333333333333333,
              "#9c179e"
             ],
             [
              0.4444444444444444,
              "#bd3786"
             ],
             [
              0.5555555555555556,
              "#d8576b"
             ],
             [
              0.6666666666666666,
              "#ed7953"
             ],
             [
              0.7777777777777778,
              "#fb9f3a"
             ],
             [
              0.8888888888888888,
              "#fdca26"
             ],
             [
              1,
              "#f0f921"
             ]
            ],
            "type": "histogram2dcontour"
           }
          ],
          "mesh3d": [
           {
            "colorbar": {
             "outlinewidth": 0,
             "ticks": ""
            },
            "type": "mesh3d"
           }
          ],
          "parcoords": [
           {
            "line": {
             "colorbar": {
              "outlinewidth": 0,
              "ticks": ""
             }
            },
            "type": "parcoords"
           }
          ],
          "pie": [
           {
            "automargin": true,
            "type": "pie"
           }
          ],
          "scatter": [
           {
            "fillpattern": {
             "fillmode": "overlay",
             "size": 10,
             "solidity": 0.2
            },
            "type": "scatter"
           }
          ],
          "scatter3d": [
           {
            "line": {
             "colorbar": {
              "outlinewidth": 0,
              "ticks": ""
             }
            },
            "marker": {
             "colorbar": {
              "outlinewidth": 0,
              "ticks": ""
             }
            },
            "type": "scatter3d"
           }
          ],
          "scattercarpet": [
           {
            "marker": {
             "colorbar": {
              "outlinewidth": 0,
              "ticks": ""
             }
            },
            "type": "scattercarpet"
           }
          ],
          "scattergeo": [
           {
            "marker": {
             "colorbar": {
              "outlinewidth": 0,
              "ticks": ""
             }
            },
            "type": "scattergeo"
           }
          ],
          "scattergl": [
           {
            "marker": {
             "colorbar": {
              "outlinewidth": 0,
              "ticks": ""
             }
            },
            "type": "scattergl"
           }
          ],
          "scattermap": [
           {
            "marker": {
             "colorbar": {
              "outlinewidth": 0,
              "ticks": ""
             }
            },
            "type": "scattermap"
           }
          ],
          "scattermapbox": [
           {
            "marker": {
             "colorbar": {
              "outlinewidth": 0,
              "ticks": ""
             }
            },
            "type": "scattermapbox"
           }
          ],
          "scatterpolar": [
           {
            "marker": {
             "colorbar": {
              "outlinewidth": 0,
              "ticks": ""
             }
            },
            "type": "scatterpolar"
           }
          ],
          "scatterpolargl": [
           {
            "marker": {
             "colorbar": {
              "outlinewidth": 0,
              "ticks": ""
             }
            },
            "type": "scatterpolargl"
           }
          ],
          "scatterternary": [
           {
            "marker": {
             "colorbar": {
              "outlinewidth": 0,
              "ticks": ""
             }
            },
            "type": "scatterternary"
           }
          ],
          "surface": [
           {
            "colorbar": {
             "outlinewidth": 0,
             "ticks": ""
            },
            "colorscale": [
             [
              0,
              "#0d0887"
             ],
             [
              0.1111111111111111,
              "#46039f"
             ],
             [
              0.2222222222222222,
              "#7201a8"
             ],
             [
              0.3333333333333333,
              "#9c179e"
             ],
             [
              0.4444444444444444,
              "#bd3786"
             ],
             [
              0.5555555555555556,
              "#d8576b"
             ],
             [
              0.6666666666666666,
              "#ed7953"
             ],
             [
              0.7777777777777778,
              "#fb9f3a"
             ],
             [
              0.8888888888888888,
              "#fdca26"
             ],
             [
              1,
              "#f0f921"
             ]
            ],
            "type": "surface"
           }
          ],
          "table": [
           {
            "cells": {
             "fill": {
              "color": "#EBF0F8"
             },
             "line": {
              "color": "white"
             }
            },
            "header": {
             "fill": {
              "color": "#C8D4E3"
             },
             "line": {
              "color": "white"
             }
            },
            "type": "table"
           }
          ]
         },
         "layout": {
          "annotationdefaults": {
           "arrowcolor": "#2a3f5f",
           "arrowhead": 0,
           "arrowwidth": 1
          },
          "autotypenumbers": "strict",
          "coloraxis": {
           "colorbar": {
            "outlinewidth": 0,
            "ticks": ""
           }
          },
          "colorscale": {
           "diverging": [
            [
             0,
             "#8e0152"
            ],
            [
             0.1,
             "#c51b7d"
            ],
            [
             0.2,
             "#de77ae"
            ],
            [
             0.3,
             "#f1b6da"
            ],
            [
             0.4,
             "#fde0ef"
            ],
            [
             0.5,
             "#f7f7f7"
            ],
            [
             0.6,
             "#e6f5d0"
            ],
            [
             0.7,
             "#b8e186"
            ],
            [
             0.8,
             "#7fbc41"
            ],
            [
             0.9,
             "#4d9221"
            ],
            [
             1,
             "#276419"
            ]
           ],
           "sequential": [
            [
             0,
             "#0d0887"
            ],
            [
             0.1111111111111111,
             "#46039f"
            ],
            [
             0.2222222222222222,
             "#7201a8"
            ],
            [
             0.3333333333333333,
             "#9c179e"
            ],
            [
             0.4444444444444444,
             "#bd3786"
            ],
            [
             0.5555555555555556,
             "#d8576b"
            ],
            [
             0.6666666666666666,
             "#ed7953"
            ],
            [
             0.7777777777777778,
             "#fb9f3a"
            ],
            [
             0.8888888888888888,
             "#fdca26"
            ],
            [
             1,
             "#f0f921"
            ]
           ],
           "sequentialminus": [
            [
             0,
             "#0d0887"
            ],
            [
             0.1111111111111111,
             "#46039f"
            ],
            [
             0.2222222222222222,
             "#7201a8"
            ],
            [
             0.3333333333333333,
             "#9c179e"
            ],
            [
             0.4444444444444444,
             "#bd3786"
            ],
            [
             0.5555555555555556,
             "#d8576b"
            ],
            [
             0.6666666666666666,
             "#ed7953"
            ],
            [
             0.7777777777777778,
             "#fb9f3a"
            ],
            [
             0.8888888888888888,
             "#fdca26"
            ],
            [
             1,
             "#f0f921"
            ]
           ]
          },
          "colorway": [
           "#636efa",
           "#EF553B",
           "#00cc96",
           "#ab63fa",
           "#FFA15A",
           "#19d3f3",
           "#FF6692",
           "#B6E880",
           "#FF97FF",
           "#FECB52"
          ],
          "font": {
           "color": "#2a3f5f"
          },
          "geo": {
           "bgcolor": "white",
           "lakecolor": "white",
           "landcolor": "#E5ECF6",
           "showlakes": true,
           "showland": true,
           "subunitcolor": "white"
          },
          "hoverlabel": {
           "align": "left"
          },
          "hovermode": "closest",
          "mapbox": {
           "style": "light"
          },
          "paper_bgcolor": "white",
          "plot_bgcolor": "#E5ECF6",
          "polar": {
           "angularaxis": {
            "gridcolor": "white",
            "linecolor": "white",
            "ticks": ""
           },
           "bgcolor": "#E5ECF6",
           "radialaxis": {
            "gridcolor": "white",
            "linecolor": "white",
            "ticks": ""
           }
          },
          "scene": {
           "xaxis": {
            "backgroundcolor": "#E5ECF6",
            "gridcolor": "white",
            "gridwidth": 2,
            "linecolor": "white",
            "showbackground": true,
            "ticks": "",
            "zerolinecolor": "white"
           },
           "yaxis": {
            "backgroundcolor": "#E5ECF6",
            "gridcolor": "white",
            "gridwidth": 2,
            "linecolor": "white",
            "showbackground": true,
            "ticks": "",
            "zerolinecolor": "white"
           },
           "zaxis": {
            "backgroundcolor": "#E5ECF6",
            "gridcolor": "white",
            "gridwidth": 2,
            "linecolor": "white",
            "showbackground": true,
            "ticks": "",
            "zerolinecolor": "white"
           }
          },
          "shapedefaults": {
           "line": {
            "color": "#2a3f5f"
           }
          },
          "ternary": {
           "aaxis": {
            "gridcolor": "white",
            "linecolor": "white",
            "ticks": ""
           },
           "baxis": {
            "gridcolor": "white",
            "linecolor": "white",
            "ticks": ""
           },
           "bgcolor": "#E5ECF6",
           "caxis": {
            "gridcolor": "white",
            "linecolor": "white",
            "ticks": ""
           }
          },
          "title": {
           "x": 0.05
          },
          "xaxis": {
           "automargin": true,
           "gridcolor": "white",
           "linecolor": "white",
           "ticks": "",
           "title": {
            "standoff": 15
           },
           "zerolinecolor": "white",
           "zerolinewidth": 2
          },
          "yaxis": {
           "automargin": true,
           "gridcolor": "white",
           "linecolor": "white",
           "ticks": "",
           "title": {
            "standoff": 15
           },
           "zerolinecolor": "white",
           "zerolinewidth": 2
          }
         }
        },
        "title": {
         "font": {
          "size": 20
         },
         "text": "Companies With vs Without Judicial Form"
        },
        "width": 500
       }
      }
     },
     "metadata": {},
     "output_type": "display_data"
    }
   ],
   "source": [
    "import sqlite3\n",
    "import plotly.graph_objects as go\n",
    "\n",
    "# Step 1: Connect to the SQLite database\n",
    "conn = sqlite3.connect(db_file) \n",
    "cursor = conn.cursor()\n",
    "\n",
    "# Step 2: Query to count companies with and without judicialForm\n",
    "cursor.execute(\"\"\"\n",
    "    SELECT \n",
    "        CASE \n",
    "            WHEN JuridicalForm IS NOT NULL AND TRIM(JuridicalForm) != '' THEN 'With JuridicalForm'\n",
    "            ELSE 'Without JuridicalForm'\n",
    "        END AS form_status,\n",
    "        COUNT(*) as total\n",
    "    FROM enterprise  \n",
    "    GROUP BY form_status;\n",
    "\"\"\")\n",
    "\n",
    "# Step 3: Fetch and organize data\n",
    "results = cursor.fetchall()\n",
    "labels = [row[0] for row in results]\n",
    "values = [row[1] for row in results]\n",
    "\n",
    "# Step 4: Create a pie chart using Plotly\n",
    "fig = go.Figure(data=[go.Pie(labels=labels, values=values, hole=0.4)])\n",
    "fig.update_layout(title_text = \"Companies With vs Without Judicial Form\",\n",
    "                  width = 500, height=400,\n",
    "                  title_font_size=20,  \n",
    "                  legend=dict(\n",
    "                              x = 1.0,\n",
    "                              y = 1.1,\n",
    "                              xanchor = 'center',\n",
    "                              yanchor = 'top'\n",
    "                        )  \n",
    "\n",
    "                  )\n",
    "\n",
    "# Step 5: Show the plot\n",
    "fig.show()\n",
    "\n",
    "# Close connection\n",
    "conn.close()"
   ]
  },
  {
   "cell_type": "markdown",
   "id": "3928c35c",
   "metadata": {},
   "source": [
    "What is the distribution of company statuses?"
   ]
  },
  {
   "cell_type": "code",
   "execution_count": null,
   "id": "fda1dc13",
   "metadata": {},
   "outputs": [
    {
     "name": "stdout",
     "output_type": "stream",
     "text": [
      "   Status                MunicipalityFR  Active_companies_count_FR  \\\n",
      "0      AC                     Antwerpen                      61774   \n",
      "1      AC                     Bruxelles                      40777   \n",
      "2      AC                          Gent                      29230   \n",
      "3      AC                       Ixelles                      20182   \n",
      "4      AC                         Liège                      16176   \n",
      "5      AC                         Uccle                      15652   \n",
      "6      AC                    Schaerbeek                      13384   \n",
      "7      AC                    Anderlecht                      12472   \n",
      "8      AC                        Brugge                      11901   \n",
      "9      AC                       Hasselt                      11360   \n",
      "10     AC                        Leuven                      11106   \n",
      "11     AC                     Charleroi                      10619   \n",
      "12     AC                         Namur                       9914   \n",
      "13     AC                      Kortrijk                       9250   \n",
      "14     AC          Molenbeek-Saint-Jean                       8969   \n",
      "15     AC                  Saint-Gilles                       8248   \n",
      "16     AC                  Knokke-Heist                       8233   \n",
      "17     AC                     Etterbeek                       8161   \n",
      "18     AC                      Mechelen                       8062   \n",
      "19     AC                      Oostende                       7688   \n",
      "20     AC                        Forest                       7416   \n",
      "21     AC                         Aalst                       7180   \n",
      "22     AC                     Roeselare                       6934   \n",
      "23     AC          Woluwe-Saint-Lambert                       6661   \n",
      "24     AC                  Sint-Niklaas                       6307   \n",
      "25     AC           Woluwe-Saint-Pierre                       6005   \n",
      "26     AC  Beveren-Kruibeke-Zwijndrecht                       5962   \n",
      "27     AC                          Mons                       5879   \n",
      "28     AC                      Zaventem                       5877   \n",
      "29     AC                          Genk                       5827   \n",
      "30     AC                       Tournai                       5515   \n",
      "31     AC                    Brasschaat                       5204   \n",
      "32     AC                      Waterloo                       4781   \n",
      "33     AC                        Deinze                       4752   \n",
      "34     AC                         Wavre                       4654   \n",
      "35     AC                       Dilbeek                       4632   \n",
      "36     AC                       Waregem                       4563   \n",
      "37     AC                         Jette                       4524   \n",
      "38     AC                     Auderghem                       4335   \n",
      "39     AC                    Grimbergen                       4225   \n",
      "40     AC               Braine-l'Alleud                       4199   \n",
      "41     AC                      Turnhout                       4185   \n",
      "42     AC                          Geel                       4172   \n",
      "43     AC           Watermael-Boitsfort                       4147   \n",
      "44     AC             Heist-op-den-Berg                       4065   \n",
      "45     AC                       Schilde                       4030   \n",
      "46     AC         Saint-Josse-ten-Noode                       3931   \n",
      "47     AC                       Schoten                       3916   \n",
      "48     AC                       Lokeren                       3908   \n",
      "49     AC                      Koksijde                       3869   \n",
      "\n",
      "                  MunicipalityNL  Active_companies_count_NL  \n",
      "0                      Antwerpen                      61774  \n",
      "1                        Brussel                      40777  \n",
      "2                           Gent                      29230  \n",
      "3                         Elsene                      20182  \n",
      "4                          Liège                      16176  \n",
      "5                          Ukkel                      15652  \n",
      "6                     Schaarbeek                      13384  \n",
      "7                     Anderlecht                      12472  \n",
      "8                         Brugge                      11901  \n",
      "9                        Hasselt                      11360  \n",
      "10                        Leuven                      11106  \n",
      "11                     Charleroi                      10619  \n",
      "12                         Namur                       9914  \n",
      "13                      Kortrijk                       9250  \n",
      "14           Sint-Jans-Molenbeek                       8969  \n",
      "15     Sint-Gillis (bij-Brussel)                       8248  \n",
      "16                  Knokke-Heist                       8233  \n",
      "17                     Etterbeek                       8161  \n",
      "18                      Mechelen                       8062  \n",
      "19                      Oostende                       7688  \n",
      "20                         Vorst                       7416  \n",
      "21                         Aalst                       7180  \n",
      "22                     Roeselare                       6934  \n",
      "23        Sint-Lambrechts-Woluwe                       6661  \n",
      "24                  Sint-Niklaas                       6307  \n",
      "25           Sint-Pieters-Woluwe                       6005  \n",
      "26  Beveren-Kruibeke-Zwijndrecht                       5962  \n",
      "27                          Mons                       5879  \n",
      "28                      Zaventem                       5877  \n",
      "29                          Genk                       5827  \n",
      "30                       Tournai                       5515  \n",
      "31                    Brasschaat                       5204  \n",
      "32                      Waterloo                       4781  \n",
      "33                        Deinze                       4752  \n",
      "34                         Wavre                       4654  \n",
      "35                       Dilbeek                       4632  \n",
      "36                       Waregem                       4563  \n",
      "37                         Jette                       4524  \n",
      "38                      Oudergem                       4335  \n",
      "39                    Grimbergen                       4225  \n",
      "40               Braine-l'Alleud                       4199  \n",
      "41                      Turnhout                       4185  \n",
      "42                          Geel                       4172  \n",
      "43           Watermaal-Bosvoorde                       4147  \n",
      "44             Heist-op-den-Berg                       4065  \n",
      "45                       Schilde                       4030  \n",
      "46           Sint-Joost-ten-Node                       3931  \n",
      "47                       Schoten                       3916  \n",
      "48                       Lokeren                       3908  \n",
      "49                      Koksijde                       3869  \n"
     ]
    }
   ],
   "source": [
    "query6 = \"\"\"\n",
    "    SELECT  \n",
    "        Status, MunicipalityFR, COUNT(*) AS Active_companies_count_FR,\n",
    "        MunicipalityNL, COUNT(*) AS Active_companies_count_NL\n",
    "    FROM\n",
    "        address\n",
    "        JOIN enterprise ON enterprise.EnterpriseNumber = address.EntityNumber\n",
    "    \n",
    "    GROUP BY\n",
    "        address.MunicipalityFR\n",
    "    ORDER BY\n",
    "        Active_companies_count_FR DESC\n",
    "    LIMIT 50;\n",
    "\"\"\"\n",
    "connection = sqlite3.connect(db_file)\n",
    "\n",
    "# With pandas to execute query and load into DataFrame\n",
    "status_df = pd.read_sql_query(query6, connection)\n",
    "print(status_df.head(50)) \n"
   ]
  },
  {
   "cell_type": "code",
   "execution_count": 92,
   "id": "417968bf",
   "metadata": {},
   "outputs": [],
   "source": [
    "status_df.columns = status_df.columns.str.strip()"
   ]
  },
  {
   "cell_type": "code",
   "execution_count": 99,
   "id": "b4b31125",
   "metadata": {},
   "outputs": [
    {
     "data": {
      "application/vnd.plotly.v1+json": {
       "config": {
        "plotlyServerURL": "https://plot.ly"
       },
       "data": [
        {
         "hovertemplate": "City=%{x}<br>Number of Companies=%{text}<extra></extra>",
         "legendgroup": "",
         "marker": {
          "color": "#636efa",
          "pattern": {
           "shape": ""
          }
         },
         "name": "",
         "orientation": "v",
         "showlegend": false,
         "text": {
          "bdata": "AAAAAMAp7kAAAAAAIOnjQAAAAACAi9xAAAAAAIC100AAAAAAAJjPQAAAAAAAks5AAAAAAAAkykAAAAAAAFzIQAAAAACAPsdAAAAAAAAwxkAAAAAAALHFQAAAAACAvcRAAAAAAABdw0AAAAAAABHCQAAAAACAhMFA",
          "dtype": "f8"
         },
         "textposition": "outside",
         "type": "bar",
         "x": [
          "Antwerpen",
          "Bruxelles",
          "Gent",
          "Ixelles",
          "Liège",
          "Uccle",
          "Schaerbeek",
          "Anderlecht",
          "Brugge",
          "Hasselt",
          "Leuven",
          "Charleroi",
          "Namur",
          "Kortrijk",
          "Molenbeek-Saint-Jean"
         ],
         "xaxis": "x",
         "y": {
          "bdata": "TvEAAEmfAAAucgAA1k4AADA/AAAkPQAASDQAALgwAAB9LgAAYCwAAGIrAAB7KQAAuiYAACIkAAAJIwAA",
          "dtype": "i4"
         },
         "yaxis": "y"
        }
       ],
       "layout": {
        "barmode": "relative",
        "height": 600,
        "legend": {
         "tracegroupgap": 0
        },
        "template": {
         "data": {
          "bar": [
           {
            "error_x": {
             "color": "#2a3f5f"
            },
            "error_y": {
             "color": "#2a3f5f"
            },
            "marker": {
             "line": {
              "color": "#E5ECF6",
              "width": 0.5
             },
             "pattern": {
              "fillmode": "overlay",
              "size": 10,
              "solidity": 0.2
             }
            },
            "type": "bar"
           }
          ],
          "barpolar": [
           {
            "marker": {
             "line": {
              "color": "#E5ECF6",
              "width": 0.5
             },
             "pattern": {
              "fillmode": "overlay",
              "size": 10,
              "solidity": 0.2
             }
            },
            "type": "barpolar"
           }
          ],
          "carpet": [
           {
            "aaxis": {
             "endlinecolor": "#2a3f5f",
             "gridcolor": "white",
             "linecolor": "white",
             "minorgridcolor": "white",
             "startlinecolor": "#2a3f5f"
            },
            "baxis": {
             "endlinecolor": "#2a3f5f",
             "gridcolor": "white",
             "linecolor": "white",
             "minorgridcolor": "white",
             "startlinecolor": "#2a3f5f"
            },
            "type": "carpet"
           }
          ],
          "choropleth": [
           {
            "colorbar": {
             "outlinewidth": 0,
             "ticks": ""
            },
            "type": "choropleth"
           }
          ],
          "contour": [
           {
            "colorbar": {
             "outlinewidth": 0,
             "ticks": ""
            },
            "colorscale": [
             [
              0,
              "#0d0887"
             ],
             [
              0.1111111111111111,
              "#46039f"
             ],
             [
              0.2222222222222222,
              "#7201a8"
             ],
             [
              0.3333333333333333,
              "#9c179e"
             ],
             [
              0.4444444444444444,
              "#bd3786"
             ],
             [
              0.5555555555555556,
              "#d8576b"
             ],
             [
              0.6666666666666666,
              "#ed7953"
             ],
             [
              0.7777777777777778,
              "#fb9f3a"
             ],
             [
              0.8888888888888888,
              "#fdca26"
             ],
             [
              1,
              "#f0f921"
             ]
            ],
            "type": "contour"
           }
          ],
          "contourcarpet": [
           {
            "colorbar": {
             "outlinewidth": 0,
             "ticks": ""
            },
            "type": "contourcarpet"
           }
          ],
          "heatmap": [
           {
            "colorbar": {
             "outlinewidth": 0,
             "ticks": ""
            },
            "colorscale": [
             [
              0,
              "#0d0887"
             ],
             [
              0.1111111111111111,
              "#46039f"
             ],
             [
              0.2222222222222222,
              "#7201a8"
             ],
             [
              0.3333333333333333,
              "#9c179e"
             ],
             [
              0.4444444444444444,
              "#bd3786"
             ],
             [
              0.5555555555555556,
              "#d8576b"
             ],
             [
              0.6666666666666666,
              "#ed7953"
             ],
             [
              0.7777777777777778,
              "#fb9f3a"
             ],
             [
              0.8888888888888888,
              "#fdca26"
             ],
             [
              1,
              "#f0f921"
             ]
            ],
            "type": "heatmap"
           }
          ],
          "histogram": [
           {
            "marker": {
             "pattern": {
              "fillmode": "overlay",
              "size": 10,
              "solidity": 0.2
             }
            },
            "type": "histogram"
           }
          ],
          "histogram2d": [
           {
            "colorbar": {
             "outlinewidth": 0,
             "ticks": ""
            },
            "colorscale": [
             [
              0,
              "#0d0887"
             ],
             [
              0.1111111111111111,
              "#46039f"
             ],
             [
              0.2222222222222222,
              "#7201a8"
             ],
             [
              0.3333333333333333,
              "#9c179e"
             ],
             [
              0.4444444444444444,
              "#bd3786"
             ],
             [
              0.5555555555555556,
              "#d8576b"
             ],
             [
              0.6666666666666666,
              "#ed7953"
             ],
             [
              0.7777777777777778,
              "#fb9f3a"
             ],
             [
              0.8888888888888888,
              "#fdca26"
             ],
             [
              1,
              "#f0f921"
             ]
            ],
            "type": "histogram2d"
           }
          ],
          "histogram2dcontour": [
           {
            "colorbar": {
             "outlinewidth": 0,
             "ticks": ""
            },
            "colorscale": [
             [
              0,
              "#0d0887"
             ],
             [
              0.1111111111111111,
              "#46039f"
             ],
             [
              0.2222222222222222,
              "#7201a8"
             ],
             [
              0.3333333333333333,
              "#9c179e"
             ],
             [
              0.4444444444444444,
              "#bd3786"
             ],
             [
              0.5555555555555556,
              "#d8576b"
             ],
             [
              0.6666666666666666,
              "#ed7953"
             ],
             [
              0.7777777777777778,
              "#fb9f3a"
             ],
             [
              0.8888888888888888,
              "#fdca26"
             ],
             [
              1,
              "#f0f921"
             ]
            ],
            "type": "histogram2dcontour"
           }
          ],
          "mesh3d": [
           {
            "colorbar": {
             "outlinewidth": 0,
             "ticks": ""
            },
            "type": "mesh3d"
           }
          ],
          "parcoords": [
           {
            "line": {
             "colorbar": {
              "outlinewidth": 0,
              "ticks": ""
             }
            },
            "type": "parcoords"
           }
          ],
          "pie": [
           {
            "automargin": true,
            "type": "pie"
           }
          ],
          "scatter": [
           {
            "fillpattern": {
             "fillmode": "overlay",
             "size": 10,
             "solidity": 0.2
            },
            "type": "scatter"
           }
          ],
          "scatter3d": [
           {
            "line": {
             "colorbar": {
              "outlinewidth": 0,
              "ticks": ""
             }
            },
            "marker": {
             "colorbar": {
              "outlinewidth": 0,
              "ticks": ""
             }
            },
            "type": "scatter3d"
           }
          ],
          "scattercarpet": [
           {
            "marker": {
             "colorbar": {
              "outlinewidth": 0,
              "ticks": ""
             }
            },
            "type": "scattercarpet"
           }
          ],
          "scattergeo": [
           {
            "marker": {
             "colorbar": {
              "outlinewidth": 0,
              "ticks": ""
             }
            },
            "type": "scattergeo"
           }
          ],
          "scattergl": [
           {
            "marker": {
             "colorbar": {
              "outlinewidth": 0,
              "ticks": ""
             }
            },
            "type": "scattergl"
           }
          ],
          "scattermap": [
           {
            "marker": {
             "colorbar": {
              "outlinewidth": 0,
              "ticks": ""
             }
            },
            "type": "scattermap"
           }
          ],
          "scattermapbox": [
           {
            "marker": {
             "colorbar": {
              "outlinewidth": 0,
              "ticks": ""
             }
            },
            "type": "scattermapbox"
           }
          ],
          "scatterpolar": [
           {
            "marker": {
             "colorbar": {
              "outlinewidth": 0,
              "ticks": ""
             }
            },
            "type": "scatterpolar"
           }
          ],
          "scatterpolargl": [
           {
            "marker": {
             "colorbar": {
              "outlinewidth": 0,
              "ticks": ""
             }
            },
            "type": "scatterpolargl"
           }
          ],
          "scatterternary": [
           {
            "marker": {
             "colorbar": {
              "outlinewidth": 0,
              "ticks": ""
             }
            },
            "type": "scatterternary"
           }
          ],
          "surface": [
           {
            "colorbar": {
             "outlinewidth": 0,
             "ticks": ""
            },
            "colorscale": [
             [
              0,
              "#0d0887"
             ],
             [
              0.1111111111111111,
              "#46039f"
             ],
             [
              0.2222222222222222,
              "#7201a8"
             ],
             [
              0.3333333333333333,
              "#9c179e"
             ],
             [
              0.4444444444444444,
              "#bd3786"
             ],
             [
              0.5555555555555556,
              "#d8576b"
             ],
             [
              0.6666666666666666,
              "#ed7953"
             ],
             [
              0.7777777777777778,
              "#fb9f3a"
             ],
             [
              0.8888888888888888,
              "#fdca26"
             ],
             [
              1,
              "#f0f921"
             ]
            ],
            "type": "surface"
           }
          ],
          "table": [
           {
            "cells": {
             "fill": {
              "color": "#EBF0F8"
             },
             "line": {
              "color": "white"
             }
            },
            "header": {
             "fill": {
              "color": "#C8D4E3"
             },
             "line": {
              "color": "white"
             }
            },
            "type": "table"
           }
          ]
         },
         "layout": {
          "annotationdefaults": {
           "arrowcolor": "#2a3f5f",
           "arrowhead": 0,
           "arrowwidth": 1
          },
          "autotypenumbers": "strict",
          "coloraxis": {
           "colorbar": {
            "outlinewidth": 0,
            "ticks": ""
           }
          },
          "colorscale": {
           "diverging": [
            [
             0,
             "#8e0152"
            ],
            [
             0.1,
             "#c51b7d"
            ],
            [
             0.2,
             "#de77ae"
            ],
            [
             0.3,
             "#f1b6da"
            ],
            [
             0.4,
             "#fde0ef"
            ],
            [
             0.5,
             "#f7f7f7"
            ],
            [
             0.6,
             "#e6f5d0"
            ],
            [
             0.7,
             "#b8e186"
            ],
            [
             0.8,
             "#7fbc41"
            ],
            [
             0.9,
             "#4d9221"
            ],
            [
             1,
             "#276419"
            ]
           ],
           "sequential": [
            [
             0,
             "#0d0887"
            ],
            [
             0.1111111111111111,
             "#46039f"
            ],
            [
             0.2222222222222222,
             "#7201a8"
            ],
            [
             0.3333333333333333,
             "#9c179e"
            ],
            [
             0.4444444444444444,
             "#bd3786"
            ],
            [
             0.5555555555555556,
             "#d8576b"
            ],
            [
             0.6666666666666666,
             "#ed7953"
            ],
            [
             0.7777777777777778,
             "#fb9f3a"
            ],
            [
             0.8888888888888888,
             "#fdca26"
            ],
            [
             1,
             "#f0f921"
            ]
           ],
           "sequentialminus": [
            [
             0,
             "#0d0887"
            ],
            [
             0.1111111111111111,
             "#46039f"
            ],
            [
             0.2222222222222222,
             "#7201a8"
            ],
            [
             0.3333333333333333,
             "#9c179e"
            ],
            [
             0.4444444444444444,
             "#bd3786"
            ],
            [
             0.5555555555555556,
             "#d8576b"
            ],
            [
             0.6666666666666666,
             "#ed7953"
            ],
            [
             0.7777777777777778,
             "#fb9f3a"
            ],
            [
             0.8888888888888888,
             "#fdca26"
            ],
            [
             1,
             "#f0f921"
            ]
           ]
          },
          "colorway": [
           "#636efa",
           "#EF553B",
           "#00cc96",
           "#ab63fa",
           "#FFA15A",
           "#19d3f3",
           "#FF6692",
           "#B6E880",
           "#FF97FF",
           "#FECB52"
          ],
          "font": {
           "color": "#2a3f5f"
          },
          "geo": {
           "bgcolor": "white",
           "lakecolor": "white",
           "landcolor": "#E5ECF6",
           "showlakes": true,
           "showland": true,
           "subunitcolor": "white"
          },
          "hoverlabel": {
           "align": "left"
          },
          "hovermode": "closest",
          "mapbox": {
           "style": "light"
          },
          "paper_bgcolor": "white",
          "plot_bgcolor": "#E5ECF6",
          "polar": {
           "angularaxis": {
            "gridcolor": "white",
            "linecolor": "white",
            "ticks": ""
           },
           "bgcolor": "#E5ECF6",
           "radialaxis": {
            "gridcolor": "white",
            "linecolor": "white",
            "ticks": ""
           }
          },
          "scene": {
           "xaxis": {
            "backgroundcolor": "#E5ECF6",
            "gridcolor": "white",
            "gridwidth": 2,
            "linecolor": "white",
            "showbackground": true,
            "ticks": "",
            "zerolinecolor": "white"
           },
           "yaxis": {
            "backgroundcolor": "#E5ECF6",
            "gridcolor": "white",
            "gridwidth": 2,
            "linecolor": "white",
            "showbackground": true,
            "ticks": "",
            "zerolinecolor": "white"
           },
           "zaxis": {
            "backgroundcolor": "#E5ECF6",
            "gridcolor": "white",
            "gridwidth": 2,
            "linecolor": "white",
            "showbackground": true,
            "ticks": "",
            "zerolinecolor": "white"
           }
          },
          "shapedefaults": {
           "line": {
            "color": "#2a3f5f"
           }
          },
          "ternary": {
           "aaxis": {
            "gridcolor": "white",
            "linecolor": "white",
            "ticks": ""
           },
           "baxis": {
            "gridcolor": "white",
            "linecolor": "white",
            "ticks": ""
           },
           "bgcolor": "#E5ECF6",
           "caxis": {
            "gridcolor": "white",
            "linecolor": "white",
            "ticks": ""
           }
          },
          "title": {
           "x": 0.05
          },
          "xaxis": {
           "automargin": true,
           "gridcolor": "white",
           "linecolor": "white",
           "ticks": "",
           "title": {
            "standoff": 15
           },
           "zerolinecolor": "white",
           "zerolinewidth": 2
          },
          "yaxis": {
           "automargin": true,
           "gridcolor": "white",
           "linecolor": "white",
           "ticks": "",
           "title": {
            "standoff": 15
           },
           "zerolinecolor": "white",
           "zerolinewidth": 2
          }
         }
        },
        "title": {
         "text": "Top 15 MunicipalitiesFR by Active Company Count"
        },
        "width": 800,
        "xaxis": {
         "anchor": "y",
         "domain": [
          0,
          1
         ],
         "tickangle": -45,
         "title": {
          "text": "City"
         }
        },
        "yaxis": {
         "anchor": "x",
         "domain": [
          0,
          1
         ],
         "title": {
          "text": "Number of Companies"
         }
        }
       }
      }
     },
     "metadata": {},
     "output_type": "display_data"
    }
   ],
   "source": [
    "import plotly.express as px\n",
    "\n",
    "# Step 1: Select and sort top 15 municipalities by count\n",
    "top15_df = status_df[['MunicipalityFR', 'Active_companies_count_FR']].sort_values(\n",
    "    by='Active_companies_count_FR', ascending=False\n",
    ").head(15)\n",
    "\n",
    "# Step 2: Create the Plotly bar chart\n",
    "fig = px.bar(\n",
    "    top15_df,\n",
    "    x='MunicipalityFR',\n",
    "    y='Active_companies_count_FR',\n",
    "    title='Top 15 MunicipalitiesFR by Active Company Count',\n",
    "    labels={'MunicipalityFR': 'City', 'Active_companies_count_FR': 'Number of Companies'},\n",
    "    text='Active_companies_count_FR'\n",
    ")\n",
    "\n",
    "# Step 3: Customize layout\n",
    "fig.update_layout(xaxis_tickangle=-45,\n",
    "                    width = 800,\n",
    "                    height = 600\n",
    "                )\n",
    "fig.update_traces(textposition='outside')\n",
    "\n",
    "# Step 4: Show the plot\n",
    "fig.show()\n"
   ]
  },
  {
   "cell_type": "markdown",
   "id": "8b4ad484",
   "metadata": {},
   "source": [
    "Calculate average company age by sector (NACE codes)"
   ]
  },
  {
   "cell_type": "code",
   "execution_count": null,
   "id": "a4a88c14",
   "metadata": {},
   "outputs": [
    {
     "data": {
      "application/vnd.plotly.v1+json": {
       "config": {
        "plotlyServerURL": "https://plot.ly"
       },
       "data": [
        {
         "hovertemplate": "MunicipalityNL=%{x}<br>Number of Companies=%{text}<extra></extra>",
         "legendgroup": "",
         "marker": {
          "color": "#636efa",
          "pattern": {
           "shape": ""
          }
         },
         "name": "",
         "orientation": "v",
         "showlegend": false,
         "text": {
          "bdata": "AAAAAMAp7kAAAAAAIOnjQAAAAACAi9xAAAAAAIC100AAAAAAAJjPQAAAAAAAks5AAAAAAAAkykAAAAAAAFzIQAAAAACAPsdAAAAAAAAwxkAAAAAAALHFQAAAAACAvcRAAAAAAABdw0AAAAAAABHCQAAAAACAhMFA",
          "dtype": "f8"
         },
         "textposition": "outside",
         "type": "bar",
         "x": [
          "Antwerpen",
          "Brussel",
          "Gent",
          "Elsene",
          "Liège",
          "Ukkel",
          "Schaarbeek",
          "Anderlecht",
          "Brugge",
          "Hasselt",
          "Leuven",
          "Charleroi",
          "Namur",
          "Kortrijk",
          "Sint-Jans-Molenbeek"
         ],
         "xaxis": "x",
         "y": {
          "bdata": "TvEAAEmfAAAucgAA1k4AADA/AAAkPQAASDQAALgwAAB9LgAAYCwAAGIrAAB7KQAAuiYAACIkAAAJIwAA",
          "dtype": "i4"
         },
         "yaxis": "y"
        }
       ],
       "layout": {
        "barmode": "relative",
        "height": 600,
        "legend": {
         "tracegroupgap": 0
        },
        "template": {
         "data": {
          "bar": [
           {
            "error_x": {
             "color": "#2a3f5f"
            },
            "error_y": {
             "color": "#2a3f5f"
            },
            "marker": {
             "line": {
              "color": "#E5ECF6",
              "width": 0.5
             },
             "pattern": {
              "fillmode": "overlay",
              "size": 10,
              "solidity": 0.2
             }
            },
            "type": "bar"
           }
          ],
          "barpolar": [
           {
            "marker": {
             "line": {
              "color": "#E5ECF6",
              "width": 0.5
             },
             "pattern": {
              "fillmode": "overlay",
              "size": 10,
              "solidity": 0.2
             }
            },
            "type": "barpolar"
           }
          ],
          "carpet": [
           {
            "aaxis": {
             "endlinecolor": "#2a3f5f",
             "gridcolor": "white",
             "linecolor": "white",
             "minorgridcolor": "white",
             "startlinecolor": "#2a3f5f"
            },
            "baxis": {
             "endlinecolor": "#2a3f5f",
             "gridcolor": "white",
             "linecolor": "white",
             "minorgridcolor": "white",
             "startlinecolor": "#2a3f5f"
            },
            "type": "carpet"
           }
          ],
          "choropleth": [
           {
            "colorbar": {
             "outlinewidth": 0,
             "ticks": ""
            },
            "type": "choropleth"
           }
          ],
          "contour": [
           {
            "colorbar": {
             "outlinewidth": 0,
             "ticks": ""
            },
            "colorscale": [
             [
              0,
              "#0d0887"
             ],
             [
              0.1111111111111111,
              "#46039f"
             ],
             [
              0.2222222222222222,
              "#7201a8"
             ],
             [
              0.3333333333333333,
              "#9c179e"
             ],
             [
              0.4444444444444444,
              "#bd3786"
             ],
             [
              0.5555555555555556,
              "#d8576b"
             ],
             [
              0.6666666666666666,
              "#ed7953"
             ],
             [
              0.7777777777777778,
              "#fb9f3a"
             ],
             [
              0.8888888888888888,
              "#fdca26"
             ],
             [
              1,
              "#f0f921"
             ]
            ],
            "type": "contour"
           }
          ],
          "contourcarpet": [
           {
            "colorbar": {
             "outlinewidth": 0,
             "ticks": ""
            },
            "type": "contourcarpet"
           }
          ],
          "heatmap": [
           {
            "colorbar": {
             "outlinewidth": 0,
             "ticks": ""
            },
            "colorscale": [
             [
              0,
              "#0d0887"
             ],
             [
              0.1111111111111111,
              "#46039f"
             ],
             [
              0.2222222222222222,
              "#7201a8"
             ],
             [
              0.3333333333333333,
              "#9c179e"
             ],
             [
              0.4444444444444444,
              "#bd3786"
             ],
             [
              0.5555555555555556,
              "#d8576b"
             ],
             [
              0.6666666666666666,
              "#ed7953"
             ],
             [
              0.7777777777777778,
              "#fb9f3a"
             ],
             [
              0.8888888888888888,
              "#fdca26"
             ],
             [
              1,
              "#f0f921"
             ]
            ],
            "type": "heatmap"
           }
          ],
          "histogram": [
           {
            "marker": {
             "pattern": {
              "fillmode": "overlay",
              "size": 10,
              "solidity": 0.2
             }
            },
            "type": "histogram"
           }
          ],
          "histogram2d": [
           {
            "colorbar": {
             "outlinewidth": 0,
             "ticks": ""
            },
            "colorscale": [
             [
              0,
              "#0d0887"
             ],
             [
              0.1111111111111111,
              "#46039f"
             ],
             [
              0.2222222222222222,
              "#7201a8"
             ],
             [
              0.3333333333333333,
              "#9c179e"
             ],
             [
              0.4444444444444444,
              "#bd3786"
             ],
             [
              0.5555555555555556,
              "#d8576b"
             ],
             [
              0.6666666666666666,
              "#ed7953"
             ],
             [
              0.7777777777777778,
              "#fb9f3a"
             ],
             [
              0.8888888888888888,
              "#fdca26"
             ],
             [
              1,
              "#f0f921"
             ]
            ],
            "type": "histogram2d"
           }
          ],
          "histogram2dcontour": [
           {
            "colorbar": {
             "outlinewidth": 0,
             "ticks": ""
            },
            "colorscale": [
             [
              0,
              "#0d0887"
             ],
             [
              0.1111111111111111,
              "#46039f"
             ],
             [
              0.2222222222222222,
              "#7201a8"
             ],
             [
              0.3333333333333333,
              "#9c179e"
             ],
             [
              0.4444444444444444,
              "#bd3786"
             ],
             [
              0.5555555555555556,
              "#d8576b"
             ],
             [
              0.6666666666666666,
              "#ed7953"
             ],
             [
              0.7777777777777778,
              "#fb9f3a"
             ],
             [
              0.8888888888888888,
              "#fdca26"
             ],
             [
              1,
              "#f0f921"
             ]
            ],
            "type": "histogram2dcontour"
           }
          ],
          "mesh3d": [
           {
            "colorbar": {
             "outlinewidth": 0,
             "ticks": ""
            },
            "type": "mesh3d"
           }
          ],
          "parcoords": [
           {
            "line": {
             "colorbar": {
              "outlinewidth": 0,
              "ticks": ""
             }
            },
            "type": "parcoords"
           }
          ],
          "pie": [
           {
            "automargin": true,
            "type": "pie"
           }
          ],
          "scatter": [
           {
            "fillpattern": {
             "fillmode": "overlay",
             "size": 10,
             "solidity": 0.2
            },
            "type": "scatter"
           }
          ],
          "scatter3d": [
           {
            "line": {
             "colorbar": {
              "outlinewidth": 0,
              "ticks": ""
             }
            },
            "marker": {
             "colorbar": {
              "outlinewidth": 0,
              "ticks": ""
             }
            },
            "type": "scatter3d"
           }
          ],
          "scattercarpet": [
           {
            "marker": {
             "colorbar": {
              "outlinewidth": 0,
              "ticks": ""
             }
            },
            "type": "scattercarpet"
           }
          ],
          "scattergeo": [
           {
            "marker": {
             "colorbar": {
              "outlinewidth": 0,
              "ticks": ""
             }
            },
            "type": "scattergeo"
           }
          ],
          "scattergl": [
           {
            "marker": {
             "colorbar": {
              "outlinewidth": 0,
              "ticks": ""
             }
            },
            "type": "scattergl"
           }
          ],
          "scattermap": [
           {
            "marker": {
             "colorbar": {
              "outlinewidth": 0,
              "ticks": ""
             }
            },
            "type": "scattermap"
           }
          ],
          "scattermapbox": [
           {
            "marker": {
             "colorbar": {
              "outlinewidth": 0,
              "ticks": ""
             }
            },
            "type": "scattermapbox"
           }
          ],
          "scatterpolar": [
           {
            "marker": {
             "colorbar": {
              "outlinewidth": 0,
              "ticks": ""
             }
            },
            "type": "scatterpolar"
           }
          ],
          "scatterpolargl": [
           {
            "marker": {
             "colorbar": {
              "outlinewidth": 0,
              "ticks": ""
             }
            },
            "type": "scatterpolargl"
           }
          ],
          "scatterternary": [
           {
            "marker": {
             "colorbar": {
              "outlinewidth": 0,
              "ticks": ""
             }
            },
            "type": "scatterternary"
           }
          ],
          "surface": [
           {
            "colorbar": {
             "outlinewidth": 0,
             "ticks": ""
            },
            "colorscale": [
             [
              0,
              "#0d0887"
             ],
             [
              0.1111111111111111,
              "#46039f"
             ],
             [
              0.2222222222222222,
              "#7201a8"
             ],
             [
              0.3333333333333333,
              "#9c179e"
             ],
             [
              0.4444444444444444,
              "#bd3786"
             ],
             [
              0.5555555555555556,
              "#d8576b"
             ],
             [
              0.6666666666666666,
              "#ed7953"
             ],
             [
              0.7777777777777778,
              "#fb9f3a"
             ],
             [
              0.8888888888888888,
              "#fdca26"
             ],
             [
              1,
              "#f0f921"
             ]
            ],
            "type": "surface"
           }
          ],
          "table": [
           {
            "cells": {
             "fill": {
              "color": "#EBF0F8"
             },
             "line": {
              "color": "white"
             }
            },
            "header": {
             "fill": {
              "color": "#C8D4E3"
             },
             "line": {
              "color": "white"
             }
            },
            "type": "table"
           }
          ]
         },
         "layout": {
          "annotationdefaults": {
           "arrowcolor": "#2a3f5f",
           "arrowhead": 0,
           "arrowwidth": 1
          },
          "autotypenumbers": "strict",
          "coloraxis": {
           "colorbar": {
            "outlinewidth": 0,
            "ticks": ""
           }
          },
          "colorscale": {
           "diverging": [
            [
             0,
             "#8e0152"
            ],
            [
             0.1,
             "#c51b7d"
            ],
            [
             0.2,
             "#de77ae"
            ],
            [
             0.3,
             "#f1b6da"
            ],
            [
             0.4,
             "#fde0ef"
            ],
            [
             0.5,
             "#f7f7f7"
            ],
            [
             0.6,
             "#e6f5d0"
            ],
            [
             0.7,
             "#b8e186"
            ],
            [
             0.8,
             "#7fbc41"
            ],
            [
             0.9,
             "#4d9221"
            ],
            [
             1,
             "#276419"
            ]
           ],
           "sequential": [
            [
             0,
             "#0d0887"
            ],
            [
             0.1111111111111111,
             "#46039f"
            ],
            [
             0.2222222222222222,
             "#7201a8"
            ],
            [
             0.3333333333333333,
             "#9c179e"
            ],
            [
             0.4444444444444444,
             "#bd3786"
            ],
            [
             0.5555555555555556,
             "#d8576b"
            ],
            [
             0.6666666666666666,
             "#ed7953"
            ],
            [
             0.7777777777777778,
             "#fb9f3a"
            ],
            [
             0.8888888888888888,
             "#fdca26"
            ],
            [
             1,
             "#f0f921"
            ]
           ],
           "sequentialminus": [
            [
             0,
             "#0d0887"
            ],
            [
             0.1111111111111111,
             "#46039f"
            ],
            [
             0.2222222222222222,
             "#7201a8"
            ],
            [
             0.3333333333333333,
             "#9c179e"
            ],
            [
             0.4444444444444444,
             "#bd3786"
            ],
            [
             0.5555555555555556,
             "#d8576b"
            ],
            [
             0.6666666666666666,
             "#ed7953"
            ],
            [
             0.7777777777777778,
             "#fb9f3a"
            ],
            [
             0.8888888888888888,
             "#fdca26"
            ],
            [
             1,
             "#f0f921"
            ]
           ]
          },
          "colorway": [
           "#636efa",
           "#EF553B",
           "#00cc96",
           "#ab63fa",
           "#FFA15A",
           "#19d3f3",
           "#FF6692",
           "#B6E880",
           "#FF97FF",
           "#FECB52"
          ],
          "font": {
           "color": "#2a3f5f"
          },
          "geo": {
           "bgcolor": "white",
           "lakecolor": "white",
           "landcolor": "#E5ECF6",
           "showlakes": true,
           "showland": true,
           "subunitcolor": "white"
          },
          "hoverlabel": {
           "align": "left"
          },
          "hovermode": "closest",
          "mapbox": {
           "style": "light"
          },
          "paper_bgcolor": "white",
          "plot_bgcolor": "#E5ECF6",
          "polar": {
           "angularaxis": {
            "gridcolor": "white",
            "linecolor": "white",
            "ticks": ""
           },
           "bgcolor": "#E5ECF6",
           "radialaxis": {
            "gridcolor": "white",
            "linecolor": "white",
            "ticks": ""
           }
          },
          "scene": {
           "xaxis": {
            "backgroundcolor": "#E5ECF6",
            "gridcolor": "white",
            "gridwidth": 2,
            "linecolor": "white",
            "showbackground": true,
            "ticks": "",
            "zerolinecolor": "white"
           },
           "yaxis": {
            "backgroundcolor": "#E5ECF6",
            "gridcolor": "white",
            "gridwidth": 2,
            "linecolor": "white",
            "showbackground": true,
            "ticks": "",
            "zerolinecolor": "white"
           },
           "zaxis": {
            "backgroundcolor": "#E5ECF6",
            "gridcolor": "white",
            "gridwidth": 2,
            "linecolor": "white",
            "showbackground": true,
            "ticks": "",
            "zerolinecolor": "white"
           }
          },
          "shapedefaults": {
           "line": {
            "color": "#2a3f5f"
           }
          },
          "ternary": {
           "aaxis": {
            "gridcolor": "white",
            "linecolor": "white",
            "ticks": ""
           },
           "baxis": {
            "gridcolor": "white",
            "linecolor": "white",
            "ticks": ""
           },
           "bgcolor": "#E5ECF6",
           "caxis": {
            "gridcolor": "white",
            "linecolor": "white",
            "ticks": ""
           }
          },
          "title": {
           "x": 0.05
          },
          "xaxis": {
           "automargin": true,
           "gridcolor": "white",
           "linecolor": "white",
           "ticks": "",
           "title": {
            "standoff": 15
           },
           "zerolinecolor": "white",
           "zerolinewidth": 2
          },
          "yaxis": {
           "automargin": true,
           "gridcolor": "white",
           "linecolor": "white",
           "ticks": "",
           "title": {
            "standoff": 15
           },
           "zerolinecolor": "white",
           "zerolinewidth": 2
          }
         }
        },
        "title": {
         "text": "Top 15 MunicipalitiesFR by Active Company Count"
        },
        "width": 800,
        "xaxis": {
         "anchor": "y",
         "domain": [
          0,
          1
         ],
         "tickangle": -45,
         "title": {
          "text": "MunicipalityNL"
         }
        },
        "yaxis": {
         "anchor": "x",
         "domain": [
          0,
          1
         ],
         "title": {
          "text": "Number of Companies"
         }
        }
       }
      }
     },
     "metadata": {},
     "output_type": "display_data"
    }
   ],
   "source": [
    "import plotly.express as px\n",
    "\n",
    "# Step 1: Selecting and sorting top 15 municipalities by count\n",
    "top15_df = status_df[['MunicipalityNL', 'Active_companies_count_NL']].sort_values(\n",
    "    by='Active_companies_count_NL', ascending=False\n",
    ").head(15)\n",
    "\n",
    "# Step 2: Create the Plotly bar chart\n",
    "fig = px.bar(\n",
    "    top15_df,\n",
    "    x='MunicipalityNL',\n",
    "    y='Active_companies_count_NL',\n",
    "    title='Top 15 MunicipalitiesFR by Active Company Count',\n",
    "    labels={'MunicipalityFR': 'City', 'Active_companies_count_NL': 'Number of Companies'},\n",
    "    text='Active_companies_count_NL'\n",
    ")\n",
    "\n",
    "# Step 3: Customizing layout\n",
    "fig.update_layout(xaxis_tickangle=-45,\n",
    "                    width = 800,\n",
    "                    height = 600\n",
    "                )\n",
    "fig.update_traces(textposition='outside')\n",
    "\n",
    "# Step 4: Showing the plot\n",
    "fig.show()\n"
   ]
  },
  {
   "cell_type": "code",
   "execution_count": 9,
   "id": "cae1534b",
   "metadata": {},
   "outputs": [
    {
     "name": "stdout",
     "output_type": "stream",
     "text": [
      "   NaceCode  average_age\n",
      "0     02875         87.0\n",
      "1     75302         80.0\n",
      "2   1562002         71.0\n",
      "3   1110003         70.0\n",
      "4   4543101         68.0\n",
      "5   1716002         64.0\n",
      "6     27441         63.0\n",
      "7   1110004         62.0\n",
      "8     02010         62.0\n",
      "9     00023         62.0\n",
      "10  1583002         60.0\n",
      "11    75140         59.0\n",
      "12  2470001         58.0\n",
      "13  2414012         58.0\n",
      "14    27451         58.0\n",
      "15  2413006         57.0\n",
      "16  1589004         57.0\n",
      "17    75301         57.0\n",
      "18    00141         57.0\n",
      "19  2441002         56.0\n",
      "20  1711001         56.0\n",
      "21  2710104         55.0\n",
      "22  1725002         55.0\n",
      "23  1589003         55.0\n",
      "24    24640         55.0\n",
      "25    00157         55.0\n",
      "26  1010002         54.0\n",
      "27    00212         54.0\n",
      "28    00175         54.0\n",
      "29  2954013         53.0\n",
      "30    75114         53.0\n",
      "31    84302         52.0\n",
      "32    21122         52.0\n",
      "33    15970         52.0\n",
      "34  2954001         51.0\n",
      "35  2060001         51.0\n",
      "36   620001         51.0\n",
      "37    27540         51.0\n",
      "38    26810         51.0\n",
      "39    03320         51.0\n",
      "40    01520         51.0\n",
      "41    00652         51.0\n",
      "42    00177         51.0\n",
      "43  2615001         50.0\n",
      "44  1910002         50.0\n",
      "45   620002         50.0\n",
      "46    07031         50.0\n",
      "47    03420         50.0\n",
      "48    01822         50.0\n",
      "49  2462001         49.0\n"
     ]
    }
   ],
   "source": [
    "from datetime import datetime\n",
    "import pandas as pd\n",
    "\n",
    "\n",
    "\n",
    "# Connecting to SQLite\n",
    "conn = sqlite3.connect(db_file)\n",
    "cursor = conn.cursor()\n",
    "\n",
    "# Current year\n",
    "current_year = datetime.now().year\n",
    "\n",
    "# SQL query with date reformatting\n",
    "query7 = f\"\"\"\n",
    "    SELECT \n",
    "        printf('%05d', CAST(activity.NaceCode AS INTEGER)) AS NaceCode,\n",
    "        ROUND(AVG({current_year} - CAST(SUBSTR(StartDate, 7, 4) AS INTEGER))) AS average_age\n",
    "    FROM \n",
    "        establishment\n",
    "    JOIN \n",
    "        activity ON activity.EntityNumber = establishment.EstablishmentNumber\n",
    "    WHERE \n",
    "        StartDate IS NOT NULL\n",
    "    GROUP BY \n",
    "        activity.NaceCode\n",
    "    ORDER BY \n",
    "        average_age DESC;\n",
    "\"\"\"\n",
    "\n",
    "# Using pandas to execute the query and load into a DataFrame\n",
    "status_df = pd.read_sql_query(query7, conn)\n",
    "\n",
    "# Display top 50 rows\n",
    "print(status_df.head(50))\n",
    "\n",
    "# Close the connection\n",
    "conn.close()"
   ]
  },
  {
   "cell_type": "code",
   "execution_count": 81,
   "id": "74f8a548",
   "metadata": {},
   "outputs": [
    {
     "name": "stdout",
     "output_type": "stream",
     "text": [
      "   NaceCode  average_age\n",
      "0     02875         87.0\n",
      "1     75302         80.0\n",
      "2   1562002         71.0\n",
      "3   1110003         70.0\n",
      "4   4543101         68.0\n",
      "5   1716002         64.0\n",
      "6     27441         63.0\n",
      "7   1110004         62.0\n",
      "8     02010         62.0\n",
      "9     00023         62.0\n",
      "10  1583002         60.0\n",
      "11    75140         59.0\n",
      "12  2470001         58.0\n",
      "13  2414012         58.0\n",
      "14    27451         58.0\n",
      "15  2413006         57.0\n",
      "16  1589004         57.0\n",
      "17    75301         57.0\n",
      "18    00141         57.0\n",
      "19  2441002         56.0\n",
      "20  1711001         56.0\n",
      "21  2710104         55.0\n",
      "22  1725002         55.0\n",
      "23  1589003         55.0\n",
      "24    24640         55.0\n",
      "25    00157         55.0\n",
      "26  1010002         54.0\n",
      "27    00212         54.0\n",
      "28    00175         54.0\n",
      "29  2954013         53.0\n",
      "30    75114         53.0\n",
      "31    84302         52.0\n",
      "32    21122         52.0\n",
      "33    15970         52.0\n",
      "34  2954001         51.0\n",
      "35  2060001         51.0\n",
      "36   620001         51.0\n",
      "37    27540         51.0\n",
      "38    26810         51.0\n",
      "39    03320         51.0\n",
      "40    01520         51.0\n",
      "41    00652         51.0\n",
      "42    00177         51.0\n",
      "43  2615001         50.0\n",
      "44  1910002         50.0\n",
      "45   620002         50.0\n",
      "46    07031         50.0\n",
      "47    03420         50.0\n",
      "48    01822         50.0\n",
      "49  2462001         49.0\n"
     ]
    }
   ],
   "source": [
    "from datetime import datetime\n",
    "import sqlite3\n",
    "import pandas as pd\n",
    "\n",
    "db_file = \"data/kbo_database.db\"\n",
    "\n",
    "# Connect to SQLite\n",
    "conn = sqlite3.connect(db_file)\n",
    "cursor = conn.cursor()\n",
    "\n",
    "# Current year\n",
    "current_year = datetime.now().year\n",
    "\n",
    "# Corrected SQL query with date reformatting\n",
    "query7 = f\"\"\"\n",
    "    SELECT \n",
    "        printf('%05d', CAST(NaceCode AS INTEGER)) AS NaceCode,\n",
    "        ROUND(AVG({current_year} - CAST(SUBSTR(establishment.StartDate, 7, 4) AS INTEGER))) AS average_age\n",
    "    FROM \n",
    "        activity\n",
    "    JOIN \n",
    "        establishment ON activity.EntityNumber = establishment.EstablishmentNumber\n",
    "    WHERE \n",
    "        establishment.StartDate IS NOT NULL\n",
    "    GROUP BY \n",
    "        NaceCode\n",
    "    ORDER BY \n",
    "        average_age DESC;\n",
    "\"\"\"\n",
    "\n",
    "# Use pandas to execute the query and load into a DataFrame\n",
    "status_df = pd.read_sql_query(query7, conn)\n",
    "\n",
    "# Display top 50 rows\n",
    "print(status_df.head(50))\n",
    "\n",
    "# Close the connection\n",
    "conn.close()"
   ]
  },
  {
   "cell_type": "code",
   "execution_count": null,
   "id": "c6cca323",
   "metadata": {},
   "outputs": [
    {
     "name": "stdout",
     "output_type": "stream",
     "text": [
      "<class 'pandas.core.series.Series'>\n",
      "(5583,)\n",
      "0    87.0\n",
      "1    80.0\n",
      "2    71.0\n",
      "3    70.0\n",
      "4    68.0\n",
      "Name: average_age, dtype: float64\n",
      "<class 'pandas.core.series.Series'>\n",
      "(5583,)\n",
      "<class 'numpy.ndarray'>\n",
      "(5583,)\n"
     ]
    }
   ],
   "source": [
    "print(type(status_df['average_age']))           \n",
    "print(status_df['average_age'].shape)             \n",
    "print(status_df['average_age'].head())\n",
    "\n",
    "ages = status_df['average_age'].dropna().sort_values().reset_index(drop=True)\n",
    "print(type(ages))\n",
    "print(ages.shape)\n",
    "\n",
    "import numpy as np\n",
    "\n",
    "# Converting to NumPy array \n",
    "ages = ages.to_numpy()  \n",
    "print(type(ages))\n",
    "print(ages.shape)"
   ]
  },
  {
   "cell_type": "code",
   "execution_count": 16,
   "id": "de0206b6",
   "metadata": {},
   "outputs": [
    {
     "name": "stdout",
     "output_type": "stream",
     "text": [
      "(5583,)\n"
     ]
    }
   ],
   "source": [
    "percentiles = np.linspace(0, 100, len(ages))\n",
    "print(percentiles.shape)"
   ]
  },
  {
   "cell_type": "code",
   "execution_count": null,
   "id": "2e21fc64",
   "metadata": {},
   "outputs": [
    {
     "data": {
      "application/vnd.plotly.v1+json": {
       "config": {
        "plotlyServerURL": "https://plot.ly"
       },
       "data": [
        {
         "marker": {
          "color": {
           "bdata": "AQIDBAUGBwgJCg==",
           "dtype": "i1"
          },
          "colorscale": [
           [
            0,
            "#440154"
           ],
           [
            0.1111111111111111,
            "#482878"
           ],
           [
            0.2222222222222222,
            "#3e4989"
           ],
           [
            0.3333333333333333,
            "#31688e"
           ],
           [
            0.4444444444444444,
            "#26828e"
           ],
           [
            0.5555555555555556,
            "#1f9e89"
           ],
           [
            0.6666666666666666,
            "#35b779"
           ],
           [
            0.7777777777777778,
            "#6ece58"
           ],
           [
            0.8888888888888888,
            "#b5de2b"
           ],
           [
            1,
            "#fde725"
           ]
          ],
          "showscale": true,
          "size": 8
         },
         "mode": "markers",
         "name": "Example Points",
         "type": "scatter",
         "x": {
          "bdata": "AQIDBAUGBwgJCg==",
          "dtype": "i1"
         },
         "y": {
          "bdata": "AAAAAAAAAACO4ziO4zgmQI7jOI7jODZAqqqqqqqqQECO4ziO4zhGQHIcx3Ecx0tAqqqqqqqqUEAcx3Ecx3FTQI7jOI7jOFZAAAAAAAAAWUA=",
          "dtype": "f8"
         }
        }
       ],
       "layout": {
        "template": {
         "data": {
          "bar": [
           {
            "error_x": {
             "color": "#2a3f5f"
            },
            "error_y": {
             "color": "#2a3f5f"
            },
            "marker": {
             "line": {
              "color": "#E5ECF6",
              "width": 0.5
             },
             "pattern": {
              "fillmode": "overlay",
              "size": 10,
              "solidity": 0.2
             }
            },
            "type": "bar"
           }
          ],
          "barpolar": [
           {
            "marker": {
             "line": {
              "color": "#E5ECF6",
              "width": 0.5
             },
             "pattern": {
              "fillmode": "overlay",
              "size": 10,
              "solidity": 0.2
             }
            },
            "type": "barpolar"
           }
          ],
          "carpet": [
           {
            "aaxis": {
             "endlinecolor": "#2a3f5f",
             "gridcolor": "white",
             "linecolor": "white",
             "minorgridcolor": "white",
             "startlinecolor": "#2a3f5f"
            },
            "baxis": {
             "endlinecolor": "#2a3f5f",
             "gridcolor": "white",
             "linecolor": "white",
             "minorgridcolor": "white",
             "startlinecolor": "#2a3f5f"
            },
            "type": "carpet"
           }
          ],
          "choropleth": [
           {
            "colorbar": {
             "outlinewidth": 0,
             "ticks": ""
            },
            "type": "choropleth"
           }
          ],
          "contour": [
           {
            "colorbar": {
             "outlinewidth": 0,
             "ticks": ""
            },
            "colorscale": [
             [
              0,
              "#0d0887"
             ],
             [
              0.1111111111111111,
              "#46039f"
             ],
             [
              0.2222222222222222,
              "#7201a8"
             ],
             [
              0.3333333333333333,
              "#9c179e"
             ],
             [
              0.4444444444444444,
              "#bd3786"
             ],
             [
              0.5555555555555556,
              "#d8576b"
             ],
             [
              0.6666666666666666,
              "#ed7953"
             ],
             [
              0.7777777777777778,
              "#fb9f3a"
             ],
             [
              0.8888888888888888,
              "#fdca26"
             ],
             [
              1,
              "#f0f921"
             ]
            ],
            "type": "contour"
           }
          ],
          "contourcarpet": [
           {
            "colorbar": {
             "outlinewidth": 0,
             "ticks": ""
            },
            "type": "contourcarpet"
           }
          ],
          "heatmap": [
           {
            "colorbar": {
             "outlinewidth": 0,
             "ticks": ""
            },
            "colorscale": [
             [
              0,
              "#0d0887"
             ],
             [
              0.1111111111111111,
              "#46039f"
             ],
             [
              0.2222222222222222,
              "#7201a8"
             ],
             [
              0.3333333333333333,
              "#9c179e"
             ],
             [
              0.4444444444444444,
              "#bd3786"
             ],
             [
              0.5555555555555556,
              "#d8576b"
             ],
             [
              0.6666666666666666,
              "#ed7953"
             ],
             [
              0.7777777777777778,
              "#fb9f3a"
             ],
             [
              0.8888888888888888,
              "#fdca26"
             ],
             [
              1,
              "#f0f921"
             ]
            ],
            "type": "heatmap"
           }
          ],
          "histogram": [
           {
            "marker": {
             "pattern": {
              "fillmode": "overlay",
              "size": 10,
              "solidity": 0.2
             }
            },
            "type": "histogram"
           }
          ],
          "histogram2d": [
           {
            "colorbar": {
             "outlinewidth": 0,
             "ticks": ""
            },
            "colorscale": [
             [
              0,
              "#0d0887"
             ],
             [
              0.1111111111111111,
              "#46039f"
             ],
             [
              0.2222222222222222,
              "#7201a8"
             ],
             [
              0.3333333333333333,
              "#9c179e"
             ],
             [
              0.4444444444444444,
              "#bd3786"
             ],
             [
              0.5555555555555556,
              "#d8576b"
             ],
             [
              0.6666666666666666,
              "#ed7953"
             ],
             [
              0.7777777777777778,
              "#fb9f3a"
             ],
             [
              0.8888888888888888,
              "#fdca26"
             ],
             [
              1,
              "#f0f921"
             ]
            ],
            "type": "histogram2d"
           }
          ],
          "histogram2dcontour": [
           {
            "colorbar": {
             "outlinewidth": 0,
             "ticks": ""
            },
            "colorscale": [
             [
              0,
              "#0d0887"
             ],
             [
              0.1111111111111111,
              "#46039f"
             ],
             [
              0.2222222222222222,
              "#7201a8"
             ],
             [
              0.3333333333333333,
              "#9c179e"
             ],
             [
              0.4444444444444444,
              "#bd3786"
             ],
             [
              0.5555555555555556,
              "#d8576b"
             ],
             [
              0.6666666666666666,
              "#ed7953"
             ],
             [
              0.7777777777777778,
              "#fb9f3a"
             ],
             [
              0.8888888888888888,
              "#fdca26"
             ],
             [
              1,
              "#f0f921"
             ]
            ],
            "type": "histogram2dcontour"
           }
          ],
          "mesh3d": [
           {
            "colorbar": {
             "outlinewidth": 0,
             "ticks": ""
            },
            "type": "mesh3d"
           }
          ],
          "parcoords": [
           {
            "line": {
             "colorbar": {
              "outlinewidth": 0,
              "ticks": ""
             }
            },
            "type": "parcoords"
           }
          ],
          "pie": [
           {
            "automargin": true,
            "type": "pie"
           }
          ],
          "scatter": [
           {
            "fillpattern": {
             "fillmode": "overlay",
             "size": 10,
             "solidity": 0.2
            },
            "type": "scatter"
           }
          ],
          "scatter3d": [
           {
            "line": {
             "colorbar": {
              "outlinewidth": 0,
              "ticks": ""
             }
            },
            "marker": {
             "colorbar": {
              "outlinewidth": 0,
              "ticks": ""
             }
            },
            "type": "scatter3d"
           }
          ],
          "scattercarpet": [
           {
            "marker": {
             "colorbar": {
              "outlinewidth": 0,
              "ticks": ""
             }
            },
            "type": "scattercarpet"
           }
          ],
          "scattergeo": [
           {
            "marker": {
             "colorbar": {
              "outlinewidth": 0,
              "ticks": ""
             }
            },
            "type": "scattergeo"
           }
          ],
          "scattergl": [
           {
            "marker": {
             "colorbar": {
              "outlinewidth": 0,
              "ticks": ""
             }
            },
            "type": "scattergl"
           }
          ],
          "scattermap": [
           {
            "marker": {
             "colorbar": {
              "outlinewidth": 0,
              "ticks": ""
             }
            },
            "type": "scattermap"
           }
          ],
          "scattermapbox": [
           {
            "marker": {
             "colorbar": {
              "outlinewidth": 0,
              "ticks": ""
             }
            },
            "type": "scattermapbox"
           }
          ],
          "scatterpolar": [
           {
            "marker": {
             "colorbar": {
              "outlinewidth": 0,
              "ticks": ""
             }
            },
            "type": "scatterpolar"
           }
          ],
          "scatterpolargl": [
           {
            "marker": {
             "colorbar": {
              "outlinewidth": 0,
              "ticks": ""
             }
            },
            "type": "scatterpolargl"
           }
          ],
          "scatterternary": [
           {
            "marker": {
             "colorbar": {
              "outlinewidth": 0,
              "ticks": ""
             }
            },
            "type": "scatterternary"
           }
          ],
          "surface": [
           {
            "colorbar": {
             "outlinewidth": 0,
             "ticks": ""
            },
            "colorscale": [
             [
              0,
              "#0d0887"
             ],
             [
              0.1111111111111111,
              "#46039f"
             ],
             [
              0.2222222222222222,
              "#7201a8"
             ],
             [
              0.3333333333333333,
              "#9c179e"
             ],
             [
              0.4444444444444444,
              "#bd3786"
             ],
             [
              0.5555555555555556,
              "#d8576b"
             ],
             [
              0.6666666666666666,
              "#ed7953"
             ],
             [
              0.7777777777777778,
              "#fb9f3a"
             ],
             [
              0.8888888888888888,
              "#fdca26"
             ],
             [
              1,
              "#f0f921"
             ]
            ],
            "type": "surface"
           }
          ],
          "table": [
           {
            "cells": {
             "fill": {
              "color": "#EBF0F8"
             },
             "line": {
              "color": "white"
             }
            },
            "header": {
             "fill": {
              "color": "#C8D4E3"
             },
             "line": {
              "color": "white"
             }
            },
            "type": "table"
           }
          ]
         },
         "layout": {
          "annotationdefaults": {
           "arrowcolor": "#2a3f5f",
           "arrowhead": 0,
           "arrowwidth": 1
          },
          "autotypenumbers": "strict",
          "coloraxis": {
           "colorbar": {
            "outlinewidth": 0,
            "ticks": ""
           }
          },
          "colorscale": {
           "diverging": [
            [
             0,
             "#8e0152"
            ],
            [
             0.1,
             "#c51b7d"
            ],
            [
             0.2,
             "#de77ae"
            ],
            [
             0.3,
             "#f1b6da"
            ],
            [
             0.4,
             "#fde0ef"
            ],
            [
             0.5,
             "#f7f7f7"
            ],
            [
             0.6,
             "#e6f5d0"
            ],
            [
             0.7,
             "#b8e186"
            ],
            [
             0.8,
             "#7fbc41"
            ],
            [
             0.9,
             "#4d9221"
            ],
            [
             1,
             "#276419"
            ]
           ],
           "sequential": [
            [
             0,
             "#0d0887"
            ],
            [
             0.1111111111111111,
             "#46039f"
            ],
            [
             0.2222222222222222,
             "#7201a8"
            ],
            [
             0.3333333333333333,
             "#9c179e"
            ],
            [
             0.4444444444444444,
             "#bd3786"
            ],
            [
             0.5555555555555556,
             "#d8576b"
            ],
            [
             0.6666666666666666,
             "#ed7953"
            ],
            [
             0.7777777777777778,
             "#fb9f3a"
            ],
            [
             0.8888888888888888,
             "#fdca26"
            ],
            [
             1,
             "#f0f921"
            ]
           ],
           "sequentialminus": [
            [
             0,
             "#0d0887"
            ],
            [
             0.1111111111111111,
             "#46039f"
            ],
            [
             0.2222222222222222,
             "#7201a8"
            ],
            [
             0.3333333333333333,
             "#9c179e"
            ],
            [
             0.4444444444444444,
             "#bd3786"
            ],
            [
             0.5555555555555556,
             "#d8576b"
            ],
            [
             0.6666666666666666,
             "#ed7953"
            ],
            [
             0.7777777777777778,
             "#fb9f3a"
            ],
            [
             0.8888888888888888,
             "#fdca26"
            ],
            [
             1,
             "#f0f921"
            ]
           ]
          },
          "colorway": [
           "#636efa",
           "#EF553B",
           "#00cc96",
           "#ab63fa",
           "#FFA15A",
           "#19d3f3",
           "#FF6692",
           "#B6E880",
           "#FF97FF",
           "#FECB52"
          ],
          "font": {
           "color": "#2a3f5f"
          },
          "geo": {
           "bgcolor": "white",
           "lakecolor": "white",
           "landcolor": "#E5ECF6",
           "showlakes": true,
           "showland": true,
           "subunitcolor": "white"
          },
          "hoverlabel": {
           "align": "left"
          },
          "hovermode": "closest",
          "mapbox": {
           "style": "light"
          },
          "paper_bgcolor": "white",
          "plot_bgcolor": "#E5ECF6",
          "polar": {
           "angularaxis": {
            "gridcolor": "white",
            "linecolor": "white",
            "ticks": ""
           },
           "bgcolor": "#E5ECF6",
           "radialaxis": {
            "gridcolor": "white",
            "linecolor": "white",
            "ticks": ""
           }
          },
          "scene": {
           "xaxis": {
            "backgroundcolor": "#E5ECF6",
            "gridcolor": "white",
            "gridwidth": 2,
            "linecolor": "white",
            "showbackground": true,
            "ticks": "",
            "zerolinecolor": "white"
           },
           "yaxis": {
            "backgroundcolor": "#E5ECF6",
            "gridcolor": "white",
            "gridwidth": 2,
            "linecolor": "white",
            "showbackground": true,
            "ticks": "",
            "zerolinecolor": "white"
           },
           "zaxis": {
            "backgroundcolor": "#E5ECF6",
            "gridcolor": "white",
            "gridwidth": 2,
            "linecolor": "white",
            "showbackground": true,
            "ticks": "",
            "zerolinecolor": "white"
           }
          },
          "shapedefaults": {
           "line": {
            "color": "#2a3f5f"
           }
          },
          "ternary": {
           "aaxis": {
            "gridcolor": "white",
            "linecolor": "white",
            "ticks": ""
           },
           "baxis": {
            "gridcolor": "white",
            "linecolor": "white",
            "ticks": ""
           },
           "bgcolor": "#E5ECF6",
           "caxis": {
            "gridcolor": "white",
            "linecolor": "white",
            "ticks": ""
           }
          },
          "title": {
           "x": 0.05
          },
          "xaxis": {
           "automargin": true,
           "gridcolor": "white",
           "linecolor": "white",
           "ticks": "",
           "title": {
            "standoff": 15
           },
           "zerolinecolor": "white",
           "zerolinewidth": 2
          },
          "yaxis": {
           "automargin": true,
           "gridcolor": "white",
           "linecolor": "white",
           "ticks": "",
           "title": {
            "standoff": 15
           },
           "zerolinecolor": "white",
           "zerolinewidth": 2
          }
         }
        },
        "title": {
         "text": "Test Percentile Plot"
        },
        "xaxis": {
         "title": {
          "text": "Age"
         }
        },
        "yaxis": {
         "autorange": "reversed",
         "title": {
          "text": "Percentile"
         }
        }
       }
      }
     },
     "metadata": {},
     "output_type": "display_data"
    }
   ],
   "source": [
    "import plotly.graph_objects as go\n",
    "import numpy as np\n",
    "\n",
    "ages = np.array([1, 2, 3, 4, 5, 6, 7, 8, 9, 10])\n",
    "percentiles = np.linspace(0, 100, len(ages))\n",
    "\n",
    "fig = go.Figure()\n",
    "fig.add_trace(go.Scatter(\n",
    "    x=ages,\n",
    "    y=percentiles,\n",
    "    mode='markers',\n",
    "    marker=dict(\n",
    "        size=8,\n",
    "        color=ages,\n",
    "        colorscale='Viridis',\n",
    "        showscale=True\n",
    "    ),\n",
    "    name='Example Points'\n",
    "))\n",
    "\n",
    "fig.update_layout(\n",
    "    title=\"Test Percentile Plot\",\n",
    "    xaxis_title=\"Age\",\n",
    "    yaxis_title=\"Percentile\",\n",
    "    yaxis=dict(autorange='reversed')\n",
    ")\n",
    "\n",
    "fig.show()"
   ]
  },
  {
   "cell_type": "code",
   "execution_count": 10,
   "id": "f4dfd753",
   "metadata": {},
   "outputs": [
    {
     "ename": "NameError",
     "evalue": "name 'np' is not defined",
     "output_type": "error",
     "traceback": [
      "\u001b[31m---------------------------------------------------------------------------\u001b[39m",
      "\u001b[31mNameError\u001b[39m                                 Traceback (most recent call last)",
      "\u001b[36mCell\u001b[39m\u001b[36m \u001b[39m\u001b[32mIn[10]\u001b[39m\u001b[32m, line 1\u001b[39m\n\u001b[32m----> \u001b[39m\u001b[32m1\u001b[39m ages = \u001b[43mnp\u001b[49m.array(ages).flatten()\n\u001b[32m      2\u001b[39m percentiles = np.array(percentiles).flatten()\n",
      "\u001b[31mNameError\u001b[39m: name 'np' is not defined"
     ]
    }
   ],
   "source": [
    "ages = np.array(ages).flatten()\n",
    "percentiles = np.array(percentiles).flatten()"
   ]
  },
  {
   "cell_type": "code",
   "execution_count": 25,
   "id": "5b86d262",
   "metadata": {},
   "outputs": [
    {
     "data": {
      "application/vnd.plotly.v1+json": {
       "config": {
        "plotlyServerURL": "https://plot.ly"
       },
       "data": [
        {
         "marker": {
          "color": {
           "bdata": "jNzP8/P6JkDCl7lDoCsjQLTRBn/Z4idA0J9AtV8jLUA15IclV5giQLm1MppdmCJAgysYv6t5LUB+KE2dx5ooQCOZ7CjjLiFAiOhDSl9BJ0Bu5Z2/MDghQILZ9ZujNCFAsXPDb6dzJUCyV80wZwoRQPLUTGsNTRNArsQBjFOgIEDlgkUyldgbQJMcQhSv4iVAgt5rz4waHUAr8fAsZw0XQPik24s8yyxA1jBvJTWlIkBDJ6gruWckQHYiNm8s5xZAGPGpANS7IEAlJnuJYKokQDDIpNElMBpAzszTeBJBJkDJhMRBa2UgQEEkuVn1PyJAcSAwVcdjIEBgXClrGR0vQJ373qxE6yNAzCZaR7ZOG0Cq2PXRbe8oQGsklnyRWRlA9DjjgdBAJUBu24O05HsQQMG7O/3PDxhAu3Lb/GAuJUCUne3fSG4oQCmyA8A4ByVA2NK3Pl1OI0CDb5A1gTEiQPx1e/76QRZAssHAeqNcH0Ccvwx3dTwhQOXokF+9VypAJQaYNcwPJkAGMPbN8NcSQEVAigDL8SVAkg5sfIOwIUCD6qDgfuAfQG/cUeeIqydA0N4bgp0vKkBGHUo+cpYpQAFYGnzs7R1AFTQVvwwlIkAtb9kU0vwlQICT5PNv2ilAaDbcBf0fIUDXHnrr0+IiQFytEsZWuRpAiccL1UClGUARCF4nCuAoQD9tcUcvIyxAKP3Qd2SRI0AocCUxbQUqQGbPOxJ5KyZA/80vlxghIEDldc+IGismQAwkJpZsOi1AtBDSoPjII0CysHXrSmMtQOThkTxJIAFApMAUN3HuKEAVxstMtIUkQLbpkoa5NCJAPac1zvGMJEBW6g40MCYQQOdSu3+VriJA7Mx9YIYkJkA0ta6VC94sQLcknNvv4yBAJJVGwk5MHkDCmTMaTf0gQDtRVcIOfilAhBJDMvb4JUDylszPSdIgQEDxi/dgFCdAA8EVchyVJEBQo2a11s8pQNPkNPtKkx9AQlpZALYIIkCG0OrMuKUhQPTIJgMVcBZAgwwaO9fGJUAaxCIc+5AlQBZLZrHaByRAUoz0layXIkA=",
           "dtype": "f8"
          },
          "colorbar": {
           "title": {
            "text": "Average Age"
           }
          },
          "colorscale": [
           [
            0,
            "#440154"
           ],
           [
            0.1111111111111111,
            "#482878"
           ],
           [
            0.2222222222222222,
            "#3e4989"
           ],
           [
            0.3333333333333333,
            "#31688e"
           ],
           [
            0.4444444444444444,
            "#26828e"
           ],
           [
            0.5555555555555556,
            "#1f9e89"
           ],
           [
            0.6666666666666666,
            "#35b779"
           ],
           [
            0.7777777777777778,
            "#6ece58"
           ],
           [
            0.8888888888888888,
            "#b5de2b"
           ],
           [
            1,
            "#fde725"
           ]
          ],
          "showscale": true,
          "size": 8
         },
         "mode": "markers",
         "name": "Company Age Percentiles",
         "type": "scatter",
         "x": {
          "bdata": "jNzP8/P6JkDCl7lDoCsjQLTRBn/Z4idA0J9AtV8jLUA15IclV5giQLm1MppdmCJAgysYv6t5LUB+KE2dx5ooQCOZ7CjjLiFAiOhDSl9BJ0Bu5Z2/MDghQILZ9ZujNCFAsXPDb6dzJUCyV80wZwoRQPLUTGsNTRNArsQBjFOgIEDlgkUyldgbQJMcQhSv4iVAgt5rz4waHUAr8fAsZw0XQPik24s8yyxA1jBvJTWlIkBDJ6gruWckQHYiNm8s5xZAGPGpANS7IEAlJnuJYKokQDDIpNElMBpAzszTeBJBJkDJhMRBa2UgQEEkuVn1PyJAcSAwVcdjIEBgXClrGR0vQJ373qxE6yNAzCZaR7ZOG0Cq2PXRbe8oQGsklnyRWRlA9DjjgdBAJUBu24O05HsQQMG7O/3PDxhAu3Lb/GAuJUCUne3fSG4oQCmyA8A4ByVA2NK3Pl1OI0CDb5A1gTEiQPx1e/76QRZAssHAeqNcH0Ccvwx3dTwhQOXokF+9VypAJQaYNcwPJkAGMPbN8NcSQEVAigDL8SVAkg5sfIOwIUCD6qDgfuAfQG/cUeeIqydA0N4bgp0vKkBGHUo+cpYpQAFYGnzs7R1AFTQVvwwlIkAtb9kU0vwlQICT5PNv2ilAaDbcBf0fIUDXHnrr0+IiQFytEsZWuRpAiccL1UClGUARCF4nCuAoQD9tcUcvIyxAKP3Qd2SRI0AocCUxbQUqQGbPOxJ5KyZA/80vlxghIEDldc+IGismQAwkJpZsOi1AtBDSoPjII0CysHXrSmMtQOThkTxJIAFApMAUN3HuKEAVxstMtIUkQLbpkoa5NCJAPac1zvGMJEBW6g40MCYQQOdSu3+VriJA7Mx9YIYkJkA0ta6VC94sQLcknNvv4yBAJJVGwk5MHkDCmTMaTf0gQDtRVcIOfilAhBJDMvb4JUDylszPSdIgQEDxi/dgFCdAA8EVchyVJEBQo2a11s8pQNPkNPtKkx9AQlpZALYIIkCG0OrMuKUhQPTIJgMVcBZAgwwaO9fGJUAaxCIc+5AlQBZLZrHaByRAUoz0layXIkA=",
          "dtype": "f8"
         },
         "y": {
          "bdata": "AAAAAAAAAAB/pUCtXynwP3+lQK1fKQBAPvjggw8+CEB/pUCtXykQQN/OkJi3MxRAPvjggw8+GECeITFvZ0gcQH+lQK1fKSBAL7rooosuIkDfzpCYtzMkQI/jOI7jOCZAPvjggw8+KEDuDIl5O0MqQJ4hMW9nSCxATjbZZJNNLkB/pUCtXykwQNevFKj1KzFAL7rooosuMkCHxLydITEzQN/OkJi3MzRAN9lkk002NUCP4ziO4zg2QOftDIl5OzdAPvjggw8+OECWArV+pUA5QO4MiXk7QzpARhdddNFFO0CeITFvZ0g8QPYrBWr9Sj1ATjbZZJNNPkCmQK1fKVA/QH+lQK1fKUBAq6qqqqqqQEDXrxSo9StBQAO1fqVArUFAL7rooosuQkBbv1Kg1q9CQIfEvJ0hMUNAs8kmm2yyQ0DfzpCYtzNEQAvU+pUCtURAN9lkk002RUBj3s6QmLdFQI/jOI7jOEZAu+iiiy66RkDn7QyJeTtHQBPzdobEvEdAPvjggw8+SEBq/UqBWr9IQJYCtX6lQElAwgcffPDBSUDuDIl5O0NKQBoS83aGxEpARhdddNFFS0ByHMdxHMdLQJ4hMW9nSExAyiabbLLJTED2KwVq/UpNQCIxb2dIzE1ATjbZZJNNTkB6O0Ni3s5OQKZArV8pUE9A0kUXXXTRT0B/pUCtXylQQBWo9SsFalBAq6qqqqqqUEBBrV8pUOtQQNevFKj1K1FAbbLJJptsUUADtX6lQK1RQJm3MyTm7VFAL7rooosuUkDFvJ0hMW9SQFu/UqDWr1JA8cEHH3zwUkCHxLydITFTQB3HcRzHcVNAs8kmm2yyU0BJzNsZEvNTQN/OkJi3M1RAddFFF110VEAL1PqVArVUQKHWrxSo9VRAN9lkk002VUDN2xkS83ZVQGPezpCYt1VA+eCDDz74VUCP4ziO4zhWQCXm7QyJeVZAu+iiiy66VkBR61cK1PpWQOftDIl5O1dAffDBBx98V0AT83aGxLxXQKn1KwVq/VdAPvjggw8+WEDU+pUCtX5YQGr9SoFav1hAAAAAAAAAWUA=",
          "dtype": "f8"
         }
        },
        {
         "line": {
          "color": "blue",
          "width": 3
         },
         "mode": "lines",
         "name": "Normal Distribution CDF",
         "type": "scatter",
         "x": {
          "bdata": "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",
          "dtype": "f8"
         },
         "y": {
          "bdata": "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",
          "dtype": "f8"
         }
        }
       ],
       "layout": {
        "annotations": [
         {
          "arrowhead": 2,
          "ax": 40,
          "ay": 0,
          "font": {
           "color": "red",
           "size": 14
          },
          "showarrow": true,
          "text": "Median: 9.6",
          "x": 9.619131124660862,
          "y": 95
         }
        ],
        "height": 600,
        "shapes": [
         {
          "line": {
           "color": "red",
           "dash": "dash",
           "width": 2
          },
          "type": "line",
          "x0": 9.619131124660862,
          "x1": 9.619131124660862,
          "y0": 0,
          "y1": 100
         }
        ],
        "template": {
         "data": {
          "bar": [
           {
            "error_x": {
             "color": "#2a3f5f"
            },
            "error_y": {
             "color": "#2a3f5f"
            },
            "marker": {
             "line": {
              "color": "white",
              "width": 0.5
             },
             "pattern": {
              "fillmode": "overlay",
              "size": 10,
              "solidity": 0.2
             }
            },
            "type": "bar"
           }
          ],
          "barpolar": [
           {
            "marker": {
             "line": {
              "color": "white",
              "width": 0.5
             },
             "pattern": {
              "fillmode": "overlay",
              "size": 10,
              "solidity": 0.2
             }
            },
            "type": "barpolar"
           }
          ],
          "carpet": [
           {
            "aaxis": {
             "endlinecolor": "#2a3f5f",
             "gridcolor": "#C8D4E3",
             "linecolor": "#C8D4E3",
             "minorgridcolor": "#C8D4E3",
             "startlinecolor": "#2a3f5f"
            },
            "baxis": {
             "endlinecolor": "#2a3f5f",
             "gridcolor": "#C8D4E3",
             "linecolor": "#C8D4E3",
             "minorgridcolor": "#C8D4E3",
             "startlinecolor": "#2a3f5f"
            },
            "type": "carpet"
           }
          ],
          "choropleth": [
           {
            "colorbar": {
             "outlinewidth": 0,
             "ticks": ""
            },
            "type": "choropleth"
           }
          ],
          "contour": [
           {
            "colorbar": {
             "outlinewidth": 0,
             "ticks": ""
            },
            "colorscale": [
             [
              0,
              "#0d0887"
             ],
             [
              0.1111111111111111,
              "#46039f"
             ],
             [
              0.2222222222222222,
              "#7201a8"
             ],
             [
              0.3333333333333333,
              "#9c179e"
             ],
             [
              0.4444444444444444,
              "#bd3786"
             ],
             [
              0.5555555555555556,
              "#d8576b"
             ],
             [
              0.6666666666666666,
              "#ed7953"
             ],
             [
              0.7777777777777778,
              "#fb9f3a"
             ],
             [
              0.8888888888888888,
              "#fdca26"
             ],
             [
              1,
              "#f0f921"
             ]
            ],
            "type": "contour"
           }
          ],
          "contourcarpet": [
           {
            "colorbar": {
             "outlinewidth": 0,
             "ticks": ""
            },
            "type": "contourcarpet"
           }
          ],
          "heatmap": [
           {
            "colorbar": {
             "outlinewidth": 0,
             "ticks": ""
            },
            "colorscale": [
             [
              0,
              "#0d0887"
             ],
             [
              0.1111111111111111,
              "#46039f"
             ],
             [
              0.2222222222222222,
              "#7201a8"
             ],
             [
              0.3333333333333333,
              "#9c179e"
             ],
             [
              0.4444444444444444,
              "#bd3786"
             ],
             [
              0.5555555555555556,
              "#d8576b"
             ],
             [
              0.6666666666666666,
              "#ed7953"
             ],
             [
              0.7777777777777778,
              "#fb9f3a"
             ],
             [
              0.8888888888888888,
              "#fdca26"
             ],
             [
              1,
              "#f0f921"
             ]
            ],
            "type": "heatmap"
           }
          ],
          "histogram": [
           {
            "marker": {
             "pattern": {
              "fillmode": "overlay",
              "size": 10,
              "solidity": 0.2
             }
            },
            "type": "histogram"
           }
          ],
          "histogram2d": [
           {
            "colorbar": {
             "outlinewidth": 0,
             "ticks": ""
            },
            "colorscale": [
             [
              0,
              "#0d0887"
             ],
             [
              0.1111111111111111,
              "#46039f"
             ],
             [
              0.2222222222222222,
              "#7201a8"
             ],
             [
              0.3333333333333333,
              "#9c179e"
             ],
             [
              0.4444444444444444,
              "#bd3786"
             ],
             [
              0.5555555555555556,
              "#d8576b"
             ],
             [
              0.6666666666666666,
              "#ed7953"
             ],
             [
              0.7777777777777778,
              "#fb9f3a"
             ],
             [
              0.8888888888888888,
              "#fdca26"
             ],
             [
              1,
              "#f0f921"
             ]
            ],
            "type": "histogram2d"
           }
          ],
          "histogram2dcontour": [
           {
            "colorbar": {
             "outlinewidth": 0,
             "ticks": ""
            },
            "colorscale": [
             [
              0,
              "#0d0887"
             ],
             [
              0.1111111111111111,
              "#46039f"
             ],
             [
              0.2222222222222222,
              "#7201a8"
             ],
             [
              0.3333333333333333,
              "#9c179e"
             ],
             [
              0.4444444444444444,
              "#bd3786"
             ],
             [
              0.5555555555555556,
              "#d8576b"
             ],
             [
              0.6666666666666666,
              "#ed7953"
             ],
             [
              0.7777777777777778,
              "#fb9f3a"
             ],
             [
              0.8888888888888888,
              "#fdca26"
             ],
             [
              1,
              "#f0f921"
             ]
            ],
            "type": "histogram2dcontour"
           }
          ],
          "mesh3d": [
           {
            "colorbar": {
             "outlinewidth": 0,
             "ticks": ""
            },
            "type": "mesh3d"
           }
          ],
          "parcoords": [
           {
            "line": {
             "colorbar": {
              "outlinewidth": 0,
              "ticks": ""
             }
            },
            "type": "parcoords"
           }
          ],
          "pie": [
           {
            "automargin": true,
            "type": "pie"
           }
          ],
          "scatter": [
           {
            "fillpattern": {
             "fillmode": "overlay",
             "size": 10,
             "solidity": 0.2
            },
            "type": "scatter"
           }
          ],
          "scatter3d": [
           {
            "line": {
             "colorbar": {
              "outlinewidth": 0,
              "ticks": ""
             }
            },
            "marker": {
             "colorbar": {
              "outlinewidth": 0,
              "ticks": ""
             }
            },
            "type": "scatter3d"
           }
          ],
          "scattercarpet": [
           {
            "marker": {
             "colorbar": {
              "outlinewidth": 0,
              "ticks": ""
             }
            },
            "type": "scattercarpet"
           }
          ],
          "scattergeo": [
           {
            "marker": {
             "colorbar": {
              "outlinewidth": 0,
              "ticks": ""
             }
            },
            "type": "scattergeo"
           }
          ],
          "scattergl": [
           {
            "marker": {
             "colorbar": {
              "outlinewidth": 0,
              "ticks": ""
             }
            },
            "type": "scattergl"
           }
          ],
          "scattermap": [
           {
            "marker": {
             "colorbar": {
              "outlinewidth": 0,
              "ticks": ""
             }
            },
            "type": "scattermap"
           }
          ],
          "scattermapbox": [
           {
            "marker": {
             "colorbar": {
              "outlinewidth": 0,
              "ticks": ""
             }
            },
            "type": "scattermapbox"
           }
          ],
          "scatterpolar": [
           {
            "marker": {
             "colorbar": {
              "outlinewidth": 0,
              "ticks": ""
             }
            },
            "type": "scatterpolar"
           }
          ],
          "scatterpolargl": [
           {
            "marker": {
             "colorbar": {
              "outlinewidth": 0,
              "ticks": ""
             }
            },
            "type": "scatterpolargl"
           }
          ],
          "scatterternary": [
           {
            "marker": {
             "colorbar": {
              "outlinewidth": 0,
              "ticks": ""
             }
            },
            "type": "scatterternary"
           }
          ],
          "surface": [
           {
            "colorbar": {
             "outlinewidth": 0,
             "ticks": ""
            },
            "colorscale": [
             [
              0,
              "#0d0887"
             ],
             [
              0.1111111111111111,
              "#46039f"
             ],
             [
              0.2222222222222222,
              "#7201a8"
             ],
             [
              0.3333333333333333,
              "#9c179e"
             ],
             [
              0.4444444444444444,
              "#bd3786"
             ],
             [
              0.5555555555555556,
              "#d8576b"
             ],
             [
              0.6666666666666666,
              "#ed7953"
             ],
             [
              0.7777777777777778,
              "#fb9f3a"
             ],
             [
              0.8888888888888888,
              "#fdca26"
             ],
             [
              1,
              "#f0f921"
             ]
            ],
            "type": "surface"
           }
          ],
          "table": [
           {
            "cells": {
             "fill": {
              "color": "#EBF0F8"
             },
             "line": {
              "color": "white"
             }
            },
            "header": {
             "fill": {
              "color": "#C8D4E3"
             },
             "line": {
              "color": "white"
             }
            },
            "type": "table"
           }
          ]
         },
         "layout": {
          "annotationdefaults": {
           "arrowcolor": "#2a3f5f",
           "arrowhead": 0,
           "arrowwidth": 1
          },
          "autotypenumbers": "strict",
          "coloraxis": {
           "colorbar": {
            "outlinewidth": 0,
            "ticks": ""
           }
          },
          "colorscale": {
           "diverging": [
            [
             0,
             "#8e0152"
            ],
            [
             0.1,
             "#c51b7d"
            ],
            [
             0.2,
             "#de77ae"
            ],
            [
             0.3,
             "#f1b6da"
            ],
            [
             0.4,
             "#fde0ef"
            ],
            [
             0.5,
             "#f7f7f7"
            ],
            [
             0.6,
             "#e6f5d0"
            ],
            [
             0.7,
             "#b8e186"
            ],
            [
             0.8,
             "#7fbc41"
            ],
            [
             0.9,
             "#4d9221"
            ],
            [
             1,
             "#276419"
            ]
           ],
           "sequential": [
            [
             0,
             "#0d0887"
            ],
            [
             0.1111111111111111,
             "#46039f"
            ],
            [
             0.2222222222222222,
             "#7201a8"
            ],
            [
             0.3333333333333333,
             "#9c179e"
            ],
            [
             0.4444444444444444,
             "#bd3786"
            ],
            [
             0.5555555555555556,
             "#d8576b"
            ],
            [
             0.6666666666666666,
             "#ed7953"
            ],
            [
             0.7777777777777778,
             "#fb9f3a"
            ],
            [
             0.8888888888888888,
             "#fdca26"
            ],
            [
             1,
             "#f0f921"
            ]
           ],
           "sequentialminus": [
            [
             0,
             "#0d0887"
            ],
            [
             0.1111111111111111,
             "#46039f"
            ],
            [
             0.2222222222222222,
             "#7201a8"
            ],
            [
             0.3333333333333333,
             "#9c179e"
            ],
            [
             0.4444444444444444,
             "#bd3786"
            ],
            [
             0.5555555555555556,
             "#d8576b"
            ],
            [
             0.6666666666666666,
             "#ed7953"
            ],
            [
             0.7777777777777778,
             "#fb9f3a"
            ],
            [
             0.8888888888888888,
             "#fdca26"
            ],
            [
             1,
             "#f0f921"
            ]
           ]
          },
          "colorway": [
           "#636efa",
           "#EF553B",
           "#00cc96",
           "#ab63fa",
           "#FFA15A",
           "#19d3f3",
           "#FF6692",
           "#B6E880",
           "#FF97FF",
           "#FECB52"
          ],
          "font": {
           "color": "#2a3f5f"
          },
          "geo": {
           "bgcolor": "white",
           "lakecolor": "white",
           "landcolor": "white",
           "showlakes": true,
           "showland": true,
           "subunitcolor": "#C8D4E3"
          },
          "hoverlabel": {
           "align": "left"
          },
          "hovermode": "closest",
          "mapbox": {
           "style": "light"
          },
          "paper_bgcolor": "white",
          "plot_bgcolor": "white",
          "polar": {
           "angularaxis": {
            "gridcolor": "#EBF0F8",
            "linecolor": "#EBF0F8",
            "ticks": ""
           },
           "bgcolor": "white",
           "radialaxis": {
            "gridcolor": "#EBF0F8",
            "linecolor": "#EBF0F8",
            "ticks": ""
           }
          },
          "scene": {
           "xaxis": {
            "backgroundcolor": "white",
            "gridcolor": "#DFE8F3",
            "gridwidth": 2,
            "linecolor": "#EBF0F8",
            "showbackground": true,
            "ticks": "",
            "zerolinecolor": "#EBF0F8"
           },
           "yaxis": {
            "backgroundcolor": "white",
            "gridcolor": "#DFE8F3",
            "gridwidth": 2,
            "linecolor": "#EBF0F8",
            "showbackground": true,
            "ticks": "",
            "zerolinecolor": "#EBF0F8"
           },
           "zaxis": {
            "backgroundcolor": "white",
            "gridcolor": "#DFE8F3",
            "gridwidth": 2,
            "linecolor": "#EBF0F8",
            "showbackground": true,
            "ticks": "",
            "zerolinecolor": "#EBF0F8"
           }
          },
          "shapedefaults": {
           "line": {
            "color": "#2a3f5f"
           }
          },
          "ternary": {
           "aaxis": {
            "gridcolor": "#DFE8F3",
            "linecolor": "#A2B1C6",
            "ticks": ""
           },
           "baxis": {
            "gridcolor": "#DFE8F3",
            "linecolor": "#A2B1C6",
            "ticks": ""
           },
           "bgcolor": "white",
           "caxis": {
            "gridcolor": "#DFE8F3",
            "linecolor": "#A2B1C6",
            "ticks": ""
           }
          },
          "title": {
           "x": 0.05
          },
          "xaxis": {
           "automargin": true,
           "gridcolor": "#EBF0F8",
           "linecolor": "#EBF0F8",
           "ticks": "",
           "title": {
            "standoff": 15
           },
           "zerolinecolor": "#EBF0F8",
           "zerolinewidth": 2
          },
          "yaxis": {
           "automargin": true,
           "gridcolor": "#EBF0F8",
           "linecolor": "#EBF0F8",
           "ticks": "",
           "title": {
            "standoff": 15
           },
           "zerolinecolor": "#EBF0F8",
           "zerolinewidth": 2
          }
         }
        },
        "title": {
         "text": "Percentile Distribution of Average Company Age with Normal CDF"
        },
        "xaxis": {
         "title": {
          "text": "Average Company Age (Years)"
         }
        },
        "yaxis": {
         "autorange": "reversed",
         "title": {
          "text": "Percentile"
         }
        }
       }
      }
     },
     "metadata": {},
     "output_type": "display_data"
    }
   ],
   "source": [
    "import numpy as np\n",
    "import plotly.graph_objects as go\n",
    "from scipy.stats import norm\n",
    "import pandas as pd\n",
    "\n",
    "# Example: replace this with your actual status_df['average_age']\n",
    "# For demo, let's generate synthetic data similar to yours:\n",
    "np.random.seed(42)\n",
    "ages = np.random.normal(loc=10, scale=3, size=100)  # simulated ages\n",
    "ages = ages[ages > 0]  # remove negative values if any\n",
    "\n",
    "# If using your data, do this instead:\n",
    "# ages = status_df['average_age'].dropna().sort_values().reset_index(drop=True).to_numpy()\n",
    "# ages = ages.astype(float)\n",
    "\n",
    "# Calculate percentiles\n",
    "percentiles = np.linspace(0, 100, len(ages))\n",
    "\n",
    "# Fit normal distribution\n",
    "mu, std = norm.fit(ages)\n",
    "age_vals = np.linspace(ages.min(), ages.max(), 500)\n",
    "cdf_vals = norm.cdf(age_vals, loc=mu, scale=std) * 100\n",
    "\n",
    "median_age = np.median(ages)\n",
    "\n",
    "fig = go.Figure()\n",
    "\n",
    "fig.add_trace(go.Scatter(\n",
    "    x=ages,\n",
    "    y=percentiles,\n",
    "    mode='markers',\n",
    "    marker=dict(\n",
    "        size=8,\n",
    "        color=ages,\n",
    "        colorscale='Viridis',\n",
    "        colorbar=dict(title='Average Age'),\n",
    "        showscale=True\n",
    "    ),\n",
    "    name='Company Age Percentiles'\n",
    "))\n",
    "\n",
    "fig.add_trace(go.Scatter(\n",
    "    x=age_vals,\n",
    "    y=cdf_vals,\n",
    "    mode='lines',\n",
    "    line=dict(color='blue', width=3),\n",
    "    name='Normal Distribution CDF'\n",
    "))\n",
    "\n",
    "fig.add_shape(\n",
    "    type='line',\n",
    "    x0=median_age,\n",
    "    x1=median_age,\n",
    "    y0=0,\n",
    "    y1=100,\n",
    "    line=dict(color='red', width=2, dash='dash')\n",
    ")\n",
    "\n",
    "fig.add_annotation(\n",
    "    x=median_age,\n",
    "    y=95,\n",
    "    text=f\"Median: {median_age:.1f}\",\n",
    "    showarrow=True,\n",
    "    arrowhead=2,\n",
    "    ax=40,\n",
    "    ay=0,\n",
    "    font=dict(color='red', size=14)\n",
    ")\n",
    "\n",
    "fig.update_layout(\n",
    "    title=\"Percentile Distribution of Average Company Age with Normal CDF\",\n",
    "    xaxis_title=\"Average Company Age (Years)\",\n",
    "    yaxis_title=\"Percentile\",\n",
    "    yaxis=dict(autorange='reversed'),\n",
    "    template='plotly_white',\n",
    "    height=600\n",
    ")\n",
    "\n",
    "fig.show()"
   ]
  },
  {
   "cell_type": "code",
   "execution_count": 26,
   "id": "cc3bb38b",
   "metadata": {},
   "outputs": [
    {
     "data": {
      "application/vnd.plotly.v1+json": {
       "config": {
        "plotlyServerURL": "https://plot.ly"
       },
       "data": [
        {
         "marker": {
          "color": {
           "bdata": "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",
           "dtype": "f8"
          },
          "colorbar": {
           "title": {
            "text": "Average Age"
           }
          },
          "colorscale": [
           [
            0,
            "#440154"
           ],
           [
            0.1111111111111111,
            "#482878"
           ],
           [
            0.2222222222222222,
            "#3e4989"
           ],
           [
            0.3333333333333333,
            "#31688e"
           ],
           [
            0.4444444444444444,
            "#26828e"
           ],
           [
            0.5555555555555556,
            "#1f9e89"
           ],
           [
            0.6666666666666666,
            "#35b779"
           ],
           [
            0.7777777777777778,
            "#6ece58"
           ],
           [
            0.8888888888888888,
            "#b5de2b"
           ],
           [
            1,
            "#fde725"
           ]
          ],
          "showscale": true,
          "size": 8
         },
         "mode": "markers",
         "name": "Company Age Percentiles",
         "type": "scatter",
         "x": {
          "bdata": "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",
          "dtype": "f8"
         },
         "y": {
          "bdata": "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",
          "dtype": "f8"
         }
        },
        {
         "line": {
          "color": "blue",
          "width": 3
         },
         "mode": "lines",
         "name": "Normal Distribution CDF",
         "type": "scatter",
         "x": {
          "bdata": "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",
          "dtype": "f8"
         },
         "y": {
          "bdata": "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",
          "dtype": "f8"
         }
        }
       ],
       "layout": {
        "annotations": [
         {
          "arrowhead": 2,
          "ax": 40,
          "ay": 0,
          "font": {
           "color": "red",
           "size": 14
          },
          "showarrow": true,
          "text": "Median: 20.0",
          "x": 20,
          "y": 95
         }
        ],
        "height": 600,
        "shapes": [
         {
          "line": {
           "color": "red",
           "dash": "dash",
           "width": 2
          },
          "type": "line",
          "x0": 20,
          "x1": 20,
          "y0": 0,
          "y1": 100
         }
        ],
        "template": {
         "data": {
          "bar": [
           {
            "error_x": {
             "color": "#2a3f5f"
            },
            "error_y": {
             "color": "#2a3f5f"
            },
            "marker": {
             "line": {
              "color": "white",
              "width": 0.5
             },
             "pattern": {
              "fillmode": "overlay",
              "size": 10,
              "solidity": 0.2
             }
            },
            "type": "bar"
           }
          ],
          "barpolar": [
           {
            "marker": {
             "line": {
              "color": "white",
              "width": 0.5
             },
             "pattern": {
              "fillmode": "overlay",
              "size": 10,
              "solidity": 0.2
             }
            },
            "type": "barpolar"
           }
          ],
          "carpet": [
           {
            "aaxis": {
             "endlinecolor": "#2a3f5f",
             "gridcolor": "#C8D4E3",
             "linecolor": "#C8D4E3",
             "minorgridcolor": "#C8D4E3",
             "startlinecolor": "#2a3f5f"
            },
            "baxis": {
             "endlinecolor": "#2a3f5f",
             "gridcolor": "#C8D4E3",
             "linecolor": "#C8D4E3",
             "minorgridcolor": "#C8D4E3",
             "startlinecolor": "#2a3f5f"
            },
            "type": "carpet"
           }
          ],
          "choropleth": [
           {
            "colorbar": {
             "outlinewidth": 0,
             "ticks": ""
            },
            "type": "choropleth"
           }
          ],
          "contour": [
           {
            "colorbar": {
             "outlinewidth": 0,
             "ticks": ""
            },
            "colorscale": [
             [
              0,
              "#0d0887"
             ],
             [
              0.1111111111111111,
              "#46039f"
             ],
             [
              0.2222222222222222,
              "#7201a8"
             ],
             [
              0.3333333333333333,
              "#9c179e"
             ],
             [
              0.4444444444444444,
              "#bd3786"
             ],
             [
              0.5555555555555556,
              "#d8576b"
             ],
             [
              0.6666666666666666,
              "#ed7953"
             ],
             [
              0.7777777777777778,
              "#fb9f3a"
             ],
             [
              0.8888888888888888,
              "#fdca26"
             ],
             [
              1,
              "#f0f921"
             ]
            ],
            "type": "contour"
           }
          ],
          "contourcarpet": [
           {
            "colorbar": {
             "outlinewidth": 0,
             "ticks": ""
            },
            "type": "contourcarpet"
           }
          ],
          "heatmap": [
           {
            "colorbar": {
             "outlinewidth": 0,
             "ticks": ""
            },
            "colorscale": [
             [
              0,
              "#0d0887"
             ],
             [
              0.1111111111111111,
              "#46039f"
             ],
             [
              0.2222222222222222,
              "#7201a8"
             ],
             [
              0.3333333333333333,
              "#9c179e"
             ],
             [
              0.4444444444444444,
              "#bd3786"
             ],
             [
              0.5555555555555556,
              "#d8576b"
             ],
             [
              0.6666666666666666,
              "#ed7953"
             ],
             [
              0.7777777777777778,
              "#fb9f3a"
             ],
             [
              0.8888888888888888,
              "#fdca26"
             ],
             [
              1,
              "#f0f921"
             ]
            ],
            "type": "heatmap"
           }
          ],
          "histogram": [
           {
            "marker": {
             "pattern": {
              "fillmode": "overlay",
              "size": 10,
              "solidity": 0.2
             }
            },
            "type": "histogram"
           }
          ],
          "histogram2d": [
           {
            "colorbar": {
             "outlinewidth": 0,
             "ticks": ""
            },
            "colorscale": [
             [
              0,
              "#0d0887"
             ],
             [
              0.1111111111111111,
              "#46039f"
             ],
             [
              0.2222222222222222,
              "#7201a8"
             ],
             [
              0.3333333333333333,
              "#9c179e"
             ],
             [
              0.4444444444444444,
              "#bd3786"
             ],
             [
              0.5555555555555556,
              "#d8576b"
             ],
             [
              0.6666666666666666,
              "#ed7953"
             ],
             [
              0.7777777777777778,
              "#fb9f3a"
             ],
             [
              0.8888888888888888,
              "#fdca26"
             ],
             [
              1,
              "#f0f921"
             ]
            ],
            "type": "histogram2d"
           }
          ],
          "histogram2dcontour": [
           {
            "colorbar": {
             "outlinewidth": 0,
             "ticks": ""
            },
            "colorscale": [
             [
              0,
              "#0d0887"
             ],
             [
              0.1111111111111111,
              "#46039f"
             ],
             [
              0.2222222222222222,
              "#7201a8"
             ],
             [
              0.3333333333333333,
              "#9c179e"
             ],
             [
              0.4444444444444444,
              "#bd3786"
             ],
             [
              0.5555555555555556,
              "#d8576b"
             ],
             [
              0.6666666666666666,
              "#ed7953"
             ],
             [
              0.7777777777777778,
              "#fb9f3a"
             ],
             [
              0.8888888888888888,
              "#fdca26"
             ],
             [
              1,
              "#f0f921"
             ]
            ],
            "type": "histogram2dcontour"
           }
          ],
          "mesh3d": [
           {
            "colorbar": {
             "outlinewidth": 0,
             "ticks": ""
            },
            "type": "mesh3d"
           }
          ],
          "parcoords": [
           {
            "line": {
             "colorbar": {
              "outlinewidth": 0,
              "ticks": ""
             }
            },
            "type": "parcoords"
           }
          ],
          "pie": [
           {
            "automargin": true,
            "type": "pie"
           }
          ],
          "scatter": [
           {
            "fillpattern": {
             "fillmode": "overlay",
             "size": 10,
             "solidity": 0.2
            },
            "type": "scatter"
           }
          ],
          "scatter3d": [
           {
            "line": {
             "colorbar": {
              "outlinewidth": 0,
              "ticks": ""
             }
            },
            "marker": {
             "colorbar": {
              "outlinewidth": 0,
              "ticks": ""
             }
            },
            "type": "scatter3d"
           }
          ],
          "scattercarpet": [
           {
            "marker": {
             "colorbar": {
              "outlinewidth": 0,
              "ticks": ""
             }
            },
            "type": "scattercarpet"
           }
          ],
          "scattergeo": [
           {
            "marker": {
             "colorbar": {
              "outlinewidth": 0,
              "ticks": ""
             }
            },
            "type": "scattergeo"
           }
          ],
          "scattergl": [
           {
            "marker": {
             "colorbar": {
              "outlinewidth": 0,
              "ticks": ""
             }
            },
            "type": "scattergl"
           }
          ],
          "scattermap": [
           {
            "marker": {
             "colorbar": {
              "outlinewidth": 0,
              "ticks": ""
             }
            },
            "type": "scattermap"
           }
          ],
          "scattermapbox": [
           {
            "marker": {
             "colorbar": {
              "outlinewidth": 0,
              "ticks": ""
             }
            },
            "type": "scattermapbox"
           }
          ],
          "scatterpolar": [
           {
            "marker": {
             "colorbar": {
              "outlinewidth": 0,
              "ticks": ""
             }
            },
            "type": "scatterpolar"
           }
          ],
          "scatterpolargl": [
           {
            "marker": {
             "colorbar": {
              "outlinewidth": 0,
              "ticks": ""
             }
            },
            "type": "scatterpolargl"
           }
          ],
          "scatterternary": [
           {
            "marker": {
             "colorbar": {
              "outlinewidth": 0,
              "ticks": ""
             }
            },
            "type": "scatterternary"
           }
          ],
          "surface": [
           {
            "colorbar": {
             "outlinewidth": 0,
             "ticks": ""
            },
            "colorscale": [
             [
              0,
              "#0d0887"
             ],
             [
              0.1111111111111111,
              "#46039f"
             ],
             [
              0.2222222222222222,
              "#7201a8"
             ],
             [
              0.3333333333333333,
              "#9c179e"
             ],
             [
              0.4444444444444444,
              "#bd3786"
             ],
             [
              0.5555555555555556,
              "#d8576b"
             ],
             [
              0.6666666666666666,
              "#ed7953"
             ],
             [
              0.7777777777777778,
              "#fb9f3a"
             ],
             [
              0.8888888888888888,
              "#fdca26"
             ],
             [
              1,
              "#f0f921"
             ]
            ],
            "type": "surface"
           }
          ],
          "table": [
           {
            "cells": {
             "fill": {
              "color": "#EBF0F8"
             },
             "line": {
              "color": "white"
             }
            },
            "header": {
             "fill": {
              "color": "#C8D4E3"
             },
             "line": {
              "color": "white"
             }
            },
            "type": "table"
           }
          ]
         },
         "layout": {
          "annotationdefaults": {
           "arrowcolor": "#2a3f5f",
           "arrowhead": 0,
           "arrowwidth": 1
          },
          "autotypenumbers": "strict",
          "coloraxis": {
           "colorbar": {
            "outlinewidth": 0,
            "ticks": ""
           }
          },
          "colorscale": {
           "diverging": [
            [
             0,
             "#8e0152"
            ],
            [
             0.1,
             "#c51b7d"
            ],
            [
             0.2,
             "#de77ae"
            ],
            [
             0.3,
             "#f1b6da"
            ],
            [
             0.4,
             "#fde0ef"
            ],
            [
             0.5,
             "#f7f7f7"
            ],
            [
             0.6,
             "#e6f5d0"
            ],
            [
             0.7,
             "#b8e186"
            ],
            [
             0.8,
             "#7fbc41"
            ],
            [
             0.9,
             "#4d9221"
            ],
            [
             1,
             "#276419"
            ]
           ],
           "sequential": [
            [
             0,
             "#0d0887"
            ],
            [
             0.1111111111111111,
             "#46039f"
            ],
            [
             0.2222222222222222,
             "#7201a8"
            ],
            [
             0.3333333333333333,
             "#9c179e"
            ],
            [
             0.4444444444444444,
             "#bd3786"
            ],
            [
             0.5555555555555556,
             "#d8576b"
            ],
            [
             0.6666666666666666,
             "#ed7953"
            ],
            [
             0.7777777777777778,
             "#fb9f3a"
            ],
            [
             0.8888888888888888,
             "#fdca26"
            ],
            [
             1,
             "#f0f921"
            ]
           ],
           "sequentialminus": [
            [
             0,
             "#0d0887"
            ],
            [
             0.1111111111111111,
             "#46039f"
            ],
            [
             0.2222222222222222,
             "#7201a8"
            ],
            [
             0.3333333333333333,
             "#9c179e"
            ],
            [
             0.4444444444444444,
             "#bd3786"
            ],
            [
             0.5555555555555556,
             "#d8576b"
            ],
            [
             0.6666666666666666,
             "#ed7953"
            ],
            [
             0.7777777777777778,
             "#fb9f3a"
            ],
            [
             0.8888888888888888,
             "#fdca26"
            ],
            [
             1,
             "#f0f921"
            ]
           ]
          },
          "colorway": [
           "#636efa",
           "#EF553B",
           "#00cc96",
           "#ab63fa",
           "#FFA15A",
           "#19d3f3",
           "#FF6692",
           "#B6E880",
           "#FF97FF",
           "#FECB52"
          ],
          "font": {
           "color": "#2a3f5f"
          },
          "geo": {
           "bgcolor": "white",
           "lakecolor": "white",
           "landcolor": "white",
           "showlakes": true,
           "showland": true,
           "subunitcolor": "#C8D4E3"
          },
          "hoverlabel": {
           "align": "left"
          },
          "hovermode": "closest",
          "mapbox": {
           "style": "light"
          },
          "paper_bgcolor": "white",
          "plot_bgcolor": "white",
          "polar": {
           "angularaxis": {
            "gridcolor": "#EBF0F8",
            "linecolor": "#EBF0F8",
            "ticks": ""
           },
           "bgcolor": "white",
           "radialaxis": {
            "gridcolor": "#EBF0F8",
            "linecolor": "#EBF0F8",
            "ticks": ""
           }
          },
          "scene": {
           "xaxis": {
            "backgroundcolor": "white",
            "gridcolor": "#DFE8F3",
            "gridwidth": 2,
            "linecolor": "#EBF0F8",
            "showbackground": true,
            "ticks": "",
            "zerolinecolor": "#EBF0F8"
           },
           "yaxis": {
            "backgroundcolor": "white",
            "gridcolor": "#DFE8F3",
            "gridwidth": 2,
            "linecolor": "#EBF0F8",
            "showbackground": true,
            "ticks": "",
            "zerolinecolor": "#EBF0F8"
           },
           "zaxis": {
            "backgroundcolor": "white",
            "gridcolor": "#DFE8F3",
            "gridwidth": 2,
            "linecolor": "#EBF0F8",
            "showbackground": true,
            "ticks": "",
            "zerolinecolor": "#EBF0F8"
           }
          },
          "shapedefaults": {
           "line": {
            "color": "#2a3f5f"
           }
          },
          "ternary": {
           "aaxis": {
            "gridcolor": "#DFE8F3",
            "linecolor": "#A2B1C6",
            "ticks": ""
           },
           "baxis": {
            "gridcolor": "#DFE8F3",
            "linecolor": "#A2B1C6",
            "ticks": ""
           },
           "bgcolor": "white",
           "caxis": {
            "gridcolor": "#DFE8F3",
            "linecolor": "#A2B1C6",
            "ticks": ""
           }
          },
          "title": {
           "x": 0.05
          },
          "xaxis": {
           "automargin": true,
           "gridcolor": "#EBF0F8",
           "linecolor": "#EBF0F8",
           "ticks": "",
           "title": {
            "standoff": 15
           },
           "zerolinecolor": "#EBF0F8",
           "zerolinewidth": 2
          },
          "yaxis": {
           "automargin": true,
           "gridcolor": "#EBF0F8",
           "linecolor": "#EBF0F8",
           "ticks": "",
           "title": {
            "standoff": 15
           },
           "zerolinecolor": "#EBF0F8",
           "zerolinewidth": 2
          }
         }
        },
        "title": {
         "text": "Percentile Distribution of Average Company Age with Normal CDF and Median"
        },
        "xaxis": {
         "title": {
          "text": "Average Company Age (Years)"
         }
        },
        "yaxis": {
         "autorange": "reversed",
         "title": {
          "text": "Percentile"
         }
        }
       }
      }
     },
     "metadata": {},
     "output_type": "display_data"
    }
   ],
   "source": [
    "import numpy as np\n",
    "import plotly.graph_objects as go\n",
    "from scipy.stats import norm\n",
    "\n",
    "# Use your cleaned data (replace this with your actual DataFrame column)\n",
    "# Example cleaning step:\n",
    "ages = status_df['average_age'].dropna().sort_values().reset_index(drop=True).to_numpy()\n",
    "\n",
    "# Calculate percentiles for each age point (0 to 100%)\n",
    "percentiles = np.linspace(0, 100, len(ages))\n",
    "\n",
    "# Fit normal distribution to the same cleaned data\n",
    "mu, std = norm.fit(ages)\n",
    "\n",
    "# Generate smooth x values for plotting the normal CDF\n",
    "age_vals = np.linspace(ages.min(), ages.max(), 500)\n",
    "cdf_vals = norm.cdf(age_vals, loc=mu, scale=std) * 100  # scale to 0-100 percentile\n",
    "\n",
    "# Calculate median from the exact same data\n",
    "median_age = np.median(ages)\n",
    "\n",
    "# Create figure\n",
    "fig = go.Figure()\n",
    "\n",
    "# Scatter plot: actual data percentiles\n",
    "fig.add_trace(go.Scatter(\n",
    "    x=ages,\n",
    "    y=percentiles,\n",
    "    mode='markers',\n",
    "    marker=dict(\n",
    "        size=8,\n",
    "        color=ages,\n",
    "        colorscale='Viridis',\n",
    "        colorbar=dict(title='Average Age'),\n",
    "        showscale=True,\n",
    "    ),\n",
    "    name='Company Age Percentiles'\n",
    "))\n",
    "\n",
    "# Add normal distribution CDF line\n",
    "fig.add_trace(go.Scatter(\n",
    "    x=age_vals,\n",
    "    y=cdf_vals,\n",
    "    mode='lines',\n",
    "    line=dict(color='blue', width=3),\n",
    "    name='Normal Distribution CDF'\n",
    "))\n",
    "\n",
    "# Add median vertical dashed line\n",
    "fig.add_shape(\n",
    "    type='line',\n",
    "    x0=median_age,\n",
    "    x1=median_age,\n",
    "    y0=0,\n",
    "    y1=100,\n",
    "    line=dict(color='red', width=2, dash='dash'),\n",
    ")\n",
    "\n",
    "# Add median annotation\n",
    "fig.add_annotation(\n",
    "    x=median_age,\n",
    "    y=95,\n",
    "    text=f\"Median: {median_age:.1f}\",\n",
    "    showarrow=True,\n",
    "    arrowhead=2,\n",
    "    ax=40,\n",
    "    ay=0,\n",
    "    font=dict(color='red', size=14)\n",
    ")\n",
    "\n",
    "# Layout settings\n",
    "fig.update_layout(\n",
    "    title=\"Percentile Distribution of Average Company Age with Normal CDF and Median\",\n",
    "    xaxis_title=\"Average Company Age (Years)\",\n",
    "    yaxis_title=\"Percentile\",\n",
    "    yaxis=dict(autorange='reversed'),  # So 0% is at bottom, 100% at top\n",
    "    template='plotly_white',\n",
    "    height=600\n",
    ")\n",
    "\n",
    "fig.show()"
   ]
  },
  {
   "cell_type": "code",
   "execution_count": null,
   "id": "c128d40f",
   "metadata": {},
   "outputs": [
    {
     "ename": "SyntaxError",
     "evalue": "invalid syntax (510361664.py, line 1)",
     "output_type": "error",
     "traceback": [
      "  \u001b[36mCell\u001b[39m\u001b[36m \u001b[39m\u001b[32mIn[3]\u001b[39m\u001b[32m, line 1\u001b[39m\n\u001b[31m    \u001b[39m\u001b[31mrom datetime import datetime\u001b[39m\n        ^\n\u001b[31mSyntaxError\u001b[39m\u001b[31m:\u001b[39m invalid syntax\n"
     ]
    }
   ],
   "source": [
    "rom datetime import datetime\n",
    "import sqlite3\n",
    "import pandas as pd\n",
    "\n",
    "db_file = \"data/kbo_database.db\"\n",
    "\n",
    "conn = sqlite3.connect(db_file)\n",
    "cursor = conn.cursor()\n",
    "\n",
    "# Current year\n",
    "current_year = datetime.now().year\n",
    "\n",
    "# Corrected SQL query with date reformatting\n",
    "query8 = f\"\"\"\n",
    "    SELECT \n",
    "        printf('%05d', CAST(NaceCode AS INTEGER)) AS NaceCode,\n",
    "        ({current_year} - CAST(SUBSTR(establishment.StartDate, 7, 4) AS INTEGER))) AS average_age\n",
    "    FROM \n",
    "        activity\n",
    "    JOIN \n",
    "        establishment ON activity.EntityNumber = establishment.EstablishmentNumber\n",
    "    WHERE \n",
    "        establishment.StartDate IS NOT NULL\n",
    "    GROUP BY \n",
    "        NaceCode\n",
    "    ORDER BY \n",
    "        average_age DESC;\n",
    "\"\"\"\n",
    "\n",
    "# Use pandas to execute the query and load into a DataFrame\n",
    "status_df = pd.read_sql_query(query8, conn)\n",
    "\n",
    "# Display top 50 rows\n",
    "print(status_df.head(50))\n",
    "\n",
    "# Close the connection\n",
    "conn.close()\n",
    "    "
   ]
  },
  {
   "cell_type": "code",
   "execution_count": null,
   "id": "bf4013f4",
   "metadata": {},
   "outputs": [],
   "source": [
    "import sqlite3\n",
    "import pandas as pd\n",
    "import matplotlib.pyplot as plt\n",
    "import seaborn as sns\n",
    "\n",
    "\n",
    "conn = sqlite3.connect(\"data/kbo_database.db\")\n",
    "\n",
    "# Query: extract year and count companies\n",
    "query = \"\"\"\n",
    "    SELECT \n",
    "        substr(StartDate, 7, 4) AS Year,\n",
    "        COUNT(*) AS CompanyCount\n",
    "    FROM establishment\n",
    "    WHERE StartDate IS NOT NULL AND StartDate NOT LIKE '%2025'\n",
    "    GROUP BY Year\n",
    "    ORDER BY Year;\n",
    "\"\"\"\n",
    "\n",
    "# Execute the query and load into a DataFrame\n",
    "trend_df = pd.read_sql_query(query, conn)\n",
    "\n",
    "# Close connection\n",
    "conn.close()\n",
    "\n",
    "# Convert 'Year' to integer (drop rows with invalid years if needed)\n",
    "trend_df = trend_df[trend_df['Year'].str.match(r'^\\d{4}$')]  # Keep valid years only\n",
    "trend_df['Year'] = trend_df['Year'].astype(int)\n",
    "\n",
    "# Sort just in case\n",
    "trend_df = trend_df.sort_values(by='Year')"
   ]
  },
  {
   "cell_type": "code",
   "execution_count": 5,
   "id": "8c99b3c5",
   "metadata": {},
   "outputs": [
    {
     "data": {
      "application/vnd.plotly.v1+json": {
       "config": {
        "plotlyServerURL": "https://plot.ly"
       },
       "data": [
        {
         "hovertemplate": "Year=%{x}<br>CompanyCount=%{y}<extra></extra>",
         "legendgroup": "",
         "line": {
          "color": "green",
          "dash": "solid"
         },
         "marker": {
          "symbol": "circle"
         },
         "mode": "lines+markers",
         "name": "",
         "orientation": "v",
         "showlegend": false,
         "type": "scatter",
         "x": {
          "bdata": "CAcmB1AHUgdUB1YHVwdaB14HYgdjB2kHagdrB2wHbQduB28HcAdxB3IHcwd0B3UHdgd3B3gHeQd6B3sHfAd9B34HfweAB4EHggeDB4QHhQeGB4cHiAeJB4oHiweMB40HjgePB5AHkQeSB5MHlAeVB5YHlweYB5kHmgebB5wHnQeeB58HoAehB6IHowekB6UHpgenB6gHqQeqB6sHrAetB64HrwewB7EHsgezB7QHtQe2B7cHuAe5B7oHuwe8B70Hvge/B8AHwQfCB8MHxAfFB8YHxwfIB8kHygfLB8wHzQfOB88H0AfRB9IH0wfUB9UH1gfXB9gH2QfaB9sH3AfdB94H3wfgB+EH4gfjB+QH5QfmB+cH6Ac=",
          "dtype": "i2"
         },
         "xaxis": "x",
         "y": {
          "bdata": "agEAAAEAAAABAAAADAAAAAkAAAACAAAAAgAAAAQAAAACAAAAAgAAAEYAAAAKAAAAEgAAAD8AAABSAAAASQAAAAUAAAAbAAAACAAAAA8AAAAhAAAADAAAAAkAAAANAAAAigAAABcAAAApAAAATwAAAAkAAAABAAAAAwAAAAYAAAAwAAAASwAAADoAAAAMAQAAkQAAAGAAAAA/AAAAVQAAAEAAAABsAAAAbwAAAHoBAABNAAAAQQAAAFIAAABGAAAATgAAAH8AAAA/AAAAiQAAAGwAAABMAAAANQAAAEQAAAA8AAAAGQAAAC0AAACYAQAA0wAAAMYAAAAFAQAA1gAAAOwAAACtAAAA2wAAAOUAAAApAQAApgEAAHoBAAA4AQAAXgEAAHsBAADFAQAAOgIAAPABAABVAgAADQMAANsDAAA6BAAAywQAAMgUAADABgAApAcAAN4QAABDCAAA1gkAAA0LAAC4CwAAJA8AAPYRAAAgEgAACRIAAKYSAAB+FAAAjBcAAEEcAAAvHgAAYiEAAOYlAADCLQAAQTQAAJo6AAA3NwAAWzgAAJA7AACXOQAAuTgAAOY7AADYPQAAQT8AAEBGAAB/PwAAmUcAANJKAAAfUgAACFwAAORRAAADXgAAenMAABOHAADZlgAAIn8AACqSAACYnQAAx5YAALWbAAAmsgAAGbwAAE/TAADT5gAAoQoBAJswAQB/QQEAaXgBAJiNAQBmtQEAtesBAA==",
          "dtype": "i4"
         },
         "yaxis": "y"
        }
       ],
       "layout": {
        "height": 500,
        "legend": {
         "tracegroupgap": 0
        },
        "template": {
         "data": {
          "bar": [
           {
            "error_x": {
             "color": "#2a3f5f"
            },
            "error_y": {
             "color": "#2a3f5f"
            },
            "marker": {
             "line": {
              "color": "white",
              "width": 0.5
             },
             "pattern": {
              "fillmode": "overlay",
              "size": 10,
              "solidity": 0.2
             }
            },
            "type": "bar"
           }
          ],
          "barpolar": [
           {
            "marker": {
             "line": {
              "color": "white",
              "width": 0.5
             },
             "pattern": {
              "fillmode": "overlay",
              "size": 10,
              "solidity": 0.2
             }
            },
            "type": "barpolar"
           }
          ],
          "carpet": [
           {
            "aaxis": {
             "endlinecolor": "#2a3f5f",
             "gridcolor": "#C8D4E3",
             "linecolor": "#C8D4E3",
             "minorgridcolor": "#C8D4E3",
             "startlinecolor": "#2a3f5f"
            },
            "baxis": {
             "endlinecolor": "#2a3f5f",
             "gridcolor": "#C8D4E3",
             "linecolor": "#C8D4E3",
             "minorgridcolor": "#C8D4E3",
             "startlinecolor": "#2a3f5f"
            },
            "type": "carpet"
           }
          ],
          "choropleth": [
           {
            "colorbar": {
             "outlinewidth": 0,
             "ticks": ""
            },
            "type": "choropleth"
           }
          ],
          "contour": [
           {
            "colorbar": {
             "outlinewidth": 0,
             "ticks": ""
            },
            "colorscale": [
             [
              0,
              "#0d0887"
             ],
             [
              0.1111111111111111,
              "#46039f"
             ],
             [
              0.2222222222222222,
              "#7201a8"
             ],
             [
              0.3333333333333333,
              "#9c179e"
             ],
             [
              0.4444444444444444,
              "#bd3786"
             ],
             [
              0.5555555555555556,
              "#d8576b"
             ],
             [
              0.6666666666666666,
              "#ed7953"
             ],
             [
              0.7777777777777778,
              "#fb9f3a"
             ],
             [
              0.8888888888888888,
              "#fdca26"
             ],
             [
              1,
              "#f0f921"
             ]
            ],
            "type": "contour"
           }
          ],
          "contourcarpet": [
           {
            "colorbar": {
             "outlinewidth": 0,
             "ticks": ""
            },
            "type": "contourcarpet"
           }
          ],
          "heatmap": [
           {
            "colorbar": {
             "outlinewidth": 0,
             "ticks": ""
            },
            "colorscale": [
             [
              0,
              "#0d0887"
             ],
             [
              0.1111111111111111,
              "#46039f"
             ],
             [
              0.2222222222222222,
              "#7201a8"
             ],
             [
              0.3333333333333333,
              "#9c179e"
             ],
             [
              0.4444444444444444,
              "#bd3786"
             ],
             [
              0.5555555555555556,
              "#d8576b"
             ],
             [
              0.6666666666666666,
              "#ed7953"
             ],
             [
              0.7777777777777778,
              "#fb9f3a"
             ],
             [
              0.8888888888888888,
              "#fdca26"
             ],
             [
              1,
              "#f0f921"
             ]
            ],
            "type": "heatmap"
           }
          ],
          "histogram": [
           {
            "marker": {
             "pattern": {
              "fillmode": "overlay",
              "size": 10,
              "solidity": 0.2
             }
            },
            "type": "histogram"
           }
          ],
          "histogram2d": [
           {
            "colorbar": {
             "outlinewidth": 0,
             "ticks": ""
            },
            "colorscale": [
             [
              0,
              "#0d0887"
             ],
             [
              0.1111111111111111,
              "#46039f"
             ],
             [
              0.2222222222222222,
              "#7201a8"
             ],
             [
              0.3333333333333333,
              "#9c179e"
             ],
             [
              0.4444444444444444,
              "#bd3786"
             ],
             [
              0.5555555555555556,
              "#d8576b"
             ],
             [
              0.6666666666666666,
              "#ed7953"
             ],
             [
              0.7777777777777778,
              "#fb9f3a"
             ],
             [
              0.8888888888888888,
              "#fdca26"
             ],
             [
              1,
              "#f0f921"
             ]
            ],
            "type": "histogram2d"
           }
          ],
          "histogram2dcontour": [
           {
            "colorbar": {
             "outlinewidth": 0,
             "ticks": ""
            },
            "colorscale": [
             [
              0,
              "#0d0887"
             ],
             [
              0.1111111111111111,
              "#46039f"
             ],
             [
              0.2222222222222222,
              "#7201a8"
             ],
             [
              0.3333333333333333,
              "#9c179e"
             ],
             [
              0.4444444444444444,
              "#bd3786"
             ],
             [
              0.5555555555555556,
              "#d8576b"
             ],
             [
              0.6666666666666666,
              "#ed7953"
             ],
             [
              0.7777777777777778,
              "#fb9f3a"
             ],
             [
              0.8888888888888888,
              "#fdca26"
             ],
             [
              1,
              "#f0f921"
             ]
            ],
            "type": "histogram2dcontour"
           }
          ],
          "mesh3d": [
           {
            "colorbar": {
             "outlinewidth": 0,
             "ticks": ""
            },
            "type": "mesh3d"
           }
          ],
          "parcoords": [
           {
            "line": {
             "colorbar": {
              "outlinewidth": 0,
              "ticks": ""
             }
            },
            "type": "parcoords"
           }
          ],
          "pie": [
           {
            "automargin": true,
            "type": "pie"
           }
          ],
          "scatter": [
           {
            "fillpattern": {
             "fillmode": "overlay",
             "size": 10,
             "solidity": 0.2
            },
            "type": "scatter"
           }
          ],
          "scatter3d": [
           {
            "line": {
             "colorbar": {
              "outlinewidth": 0,
              "ticks": ""
             }
            },
            "marker": {
             "colorbar": {
              "outlinewidth": 0,
              "ticks": ""
             }
            },
            "type": "scatter3d"
           }
          ],
          "scattercarpet": [
           {
            "marker": {
             "colorbar": {
              "outlinewidth": 0,
              "ticks": ""
             }
            },
            "type": "scattercarpet"
           }
          ],
          "scattergeo": [
           {
            "marker": {
             "colorbar": {
              "outlinewidth": 0,
              "ticks": ""
             }
            },
            "type": "scattergeo"
           }
          ],
          "scattergl": [
           {
            "marker": {
             "colorbar": {
              "outlinewidth": 0,
              "ticks": ""
             }
            },
            "type": "scattergl"
           }
          ],
          "scattermap": [
           {
            "marker": {
             "colorbar": {
              "outlinewidth": 0,
              "ticks": ""
             }
            },
            "type": "scattermap"
           }
          ],
          "scattermapbox": [
           {
            "marker": {
             "colorbar": {
              "outlinewidth": 0,
              "ticks": ""
             }
            },
            "type": "scattermapbox"
           }
          ],
          "scatterpolar": [
           {
            "marker": {
             "colorbar": {
              "outlinewidth": 0,
              "ticks": ""
             }
            },
            "type": "scatterpolar"
           }
          ],
          "scatterpolargl": [
           {
            "marker": {
             "colorbar": {
              "outlinewidth": 0,
              "ticks": ""
             }
            },
            "type": "scatterpolargl"
           }
          ],
          "scatterternary": [
           {
            "marker": {
             "colorbar": {
              "outlinewidth": 0,
              "ticks": ""
             }
            },
            "type": "scatterternary"
           }
          ],
          "surface": [
           {
            "colorbar": {
             "outlinewidth": 0,
             "ticks": ""
            },
            "colorscale": [
             [
              0,
              "#0d0887"
             ],
             [
              0.1111111111111111,
              "#46039f"
             ],
             [
              0.2222222222222222,
              "#7201a8"
             ],
             [
              0.3333333333333333,
              "#9c179e"
             ],
             [
              0.4444444444444444,
              "#bd3786"
             ],
             [
              0.5555555555555556,
              "#d8576b"
             ],
             [
              0.6666666666666666,
              "#ed7953"
             ],
             [
              0.7777777777777778,
              "#fb9f3a"
             ],
             [
              0.8888888888888888,
              "#fdca26"
             ],
             [
              1,
              "#f0f921"
             ]
            ],
            "type": "surface"
           }
          ],
          "table": [
           {
            "cells": {
             "fill": {
              "color": "#EBF0F8"
             },
             "line": {
              "color": "white"
             }
            },
            "header": {
             "fill": {
              "color": "#C8D4E3"
             },
             "line": {
              "color": "white"
             }
            },
            "type": "table"
           }
          ]
         },
         "layout": {
          "annotationdefaults": {
           "arrowcolor": "#2a3f5f",
           "arrowhead": 0,
           "arrowwidth": 1
          },
          "autotypenumbers": "strict",
          "coloraxis": {
           "colorbar": {
            "outlinewidth": 0,
            "ticks": ""
           }
          },
          "colorscale": {
           "diverging": [
            [
             0,
             "#8e0152"
            ],
            [
             0.1,
             "#c51b7d"
            ],
            [
             0.2,
             "#de77ae"
            ],
            [
             0.3,
             "#f1b6da"
            ],
            [
             0.4,
             "#fde0ef"
            ],
            [
             0.5,
             "#f7f7f7"
            ],
            [
             0.6,
             "#e6f5d0"
            ],
            [
             0.7,
             "#b8e186"
            ],
            [
             0.8,
             "#7fbc41"
            ],
            [
             0.9,
             "#4d9221"
            ],
            [
             1,
             "#276419"
            ]
           ],
           "sequential": [
            [
             0,
             "#0d0887"
            ],
            [
             0.1111111111111111,
             "#46039f"
            ],
            [
             0.2222222222222222,
             "#7201a8"
            ],
            [
             0.3333333333333333,
             "#9c179e"
            ],
            [
             0.4444444444444444,
             "#bd3786"
            ],
            [
             0.5555555555555556,
             "#d8576b"
            ],
            [
             0.6666666666666666,
             "#ed7953"
            ],
            [
             0.7777777777777778,
             "#fb9f3a"
            ],
            [
             0.8888888888888888,
             "#fdca26"
            ],
            [
             1,
             "#f0f921"
            ]
           ],
           "sequentialminus": [
            [
             0,
             "#0d0887"
            ],
            [
             0.1111111111111111,
             "#46039f"
            ],
            [
             0.2222222222222222,
             "#7201a8"
            ],
            [
             0.3333333333333333,
             "#9c179e"
            ],
            [
             0.4444444444444444,
             "#bd3786"
            ],
            [
             0.5555555555555556,
             "#d8576b"
            ],
            [
             0.6666666666666666,
             "#ed7953"
            ],
            [
             0.7777777777777778,
             "#fb9f3a"
            ],
            [
             0.8888888888888888,
             "#fdca26"
            ],
            [
             1,
             "#f0f921"
            ]
           ]
          },
          "colorway": [
           "#636efa",
           "#EF553B",
           "#00cc96",
           "#ab63fa",
           "#FFA15A",
           "#19d3f3",
           "#FF6692",
           "#B6E880",
           "#FF97FF",
           "#FECB52"
          ],
          "font": {
           "color": "#2a3f5f"
          },
          "geo": {
           "bgcolor": "white",
           "lakecolor": "white",
           "landcolor": "white",
           "showlakes": true,
           "showland": true,
           "subunitcolor": "#C8D4E3"
          },
          "hoverlabel": {
           "align": "left"
          },
          "hovermode": "closest",
          "mapbox": {
           "style": "light"
          },
          "paper_bgcolor": "white",
          "plot_bgcolor": "white",
          "polar": {
           "angularaxis": {
            "gridcolor": "#EBF0F8",
            "linecolor": "#EBF0F8",
            "ticks": ""
           },
           "bgcolor": "white",
           "radialaxis": {
            "gridcolor": "#EBF0F8",
            "linecolor": "#EBF0F8",
            "ticks": ""
           }
          },
          "scene": {
           "xaxis": {
            "backgroundcolor": "white",
            "gridcolor": "#DFE8F3",
            "gridwidth": 2,
            "linecolor": "#EBF0F8",
            "showbackground": true,
            "ticks": "",
            "zerolinecolor": "#EBF0F8"
           },
           "yaxis": {
            "backgroundcolor": "white",
            "gridcolor": "#DFE8F3",
            "gridwidth": 2,
            "linecolor": "#EBF0F8",
            "showbackground": true,
            "ticks": "",
            "zerolinecolor": "#EBF0F8"
           },
           "zaxis": {
            "backgroundcolor": "white",
            "gridcolor": "#DFE8F3",
            "gridwidth": 2,
            "linecolor": "#EBF0F8",
            "showbackground": true,
            "ticks": "",
            "zerolinecolor": "#EBF0F8"
           }
          },
          "shapedefaults": {
           "line": {
            "color": "#2a3f5f"
           }
          },
          "ternary": {
           "aaxis": {
            "gridcolor": "#DFE8F3",
            "linecolor": "#A2B1C6",
            "ticks": ""
           },
           "baxis": {
            "gridcolor": "#DFE8F3",
            "linecolor": "#A2B1C6",
            "ticks": ""
           },
           "bgcolor": "white",
           "caxis": {
            "gridcolor": "#DFE8F3",
            "linecolor": "#A2B1C6",
            "ticks": ""
           }
          },
          "title": {
           "x": 0.05
          },
          "xaxis": {
           "automargin": true,
           "gridcolor": "#EBF0F8",
           "linecolor": "#EBF0F8",
           "ticks": "",
           "title": {
            "standoff": 15
           },
           "zerolinecolor": "#EBF0F8",
           "zerolinewidth": 2
          },
          "yaxis": {
           "automargin": true,
           "gridcolor": "#EBF0F8",
           "linecolor": "#EBF0F8",
           "ticks": "",
           "title": {
            "standoff": 15
           },
           "zerolinecolor": "#EBF0F8",
           "zerolinewidth": 2
          }
         }
        },
        "title": {
         "text": "Number of Companies Established per Year"
        },
        "width": 700,
        "xaxis": {
         "anchor": "y",
         "domain": [
          0,
          1
         ],
         "title": {
          "text": "Year"
         }
        },
        "yaxis": {
         "anchor": "x",
         "domain": [
          0,
          1
         ],
         "title": {
          "text": "Number of Companies"
         }
        }
       }
      }
     },
     "metadata": {},
     "output_type": "display_data"
    }
   ],
   "source": [
    "import plotly.express as px\n",
    "\n",
    "fig = px.line(trend_df, x='Year', y='CompanyCount', markers=True, color_discrete_sequence=['green'], \n",
    "              title='Number of Companies Established per Year')\n",
    "fig.update_layout(\n",
    "    xaxis_title='Year',\n",
    "    yaxis_title='Number of Companies',\n",
    "    template='plotly_white',\n",
    "    width = 700,\n",
    "    height = 500  \n",
    "\n",
    ")\n",
    "fig.show()"
   ]
  },
  {
   "cell_type": "code",
   "execution_count": null,
   "id": "c31af392",
   "metadata": {},
   "outputs": [
    {
     "name": "stdout",
     "output_type": "stream",
     "text": [
      "Empty DataFrame\n",
      "Columns: [NaceCode, average_age]\n",
      "Index: []\n"
     ]
    }
   ],
   "source": [
    "\n",
    "\n",
    "# Connect to SQLite\n",
    "conn = sqlite3.connect(db_file)\n",
    "cursor = conn.cursor()\n",
    "\n",
    "from datetime import datetime\n",
    "import sqlite3\n",
    "import pandas as pd\n",
    "\n",
    "db_file = \"data/kbo_database.db\"\n",
    "conn = sqlite3.connect(db_file)\n",
    "\n",
    "current_year = datetime.now().year\n",
    "\n",
    "query = f\"\"\"\n",
    "    SELECT \n",
    "        code.Category AS NaceCode,\n",
    "        ROUND(AVG({current_year} - CAST(SUBSTR(enterprise.StartDate, 7, 4) AS INTEGER))) AS average_age\n",
    "    FROM \n",
    "        enterprise\n",
    "    JOIN \n",
    "        code ON enterprise.EnterpriseNumber = code.Code\n",
    "    WHERE \n",
    "        enterprise.StartDate IS NOT NULL\n",
    "        AND LENGTH(SUBSTR(enterprise.StartDate, 7, 4)) = 4  \n",
    "    GROUP BY \n",
    "        code.Category\n",
    "    ORDER BY \n",
    "        average_age DESC;\n",
    "\"\"\"\n",
    "\n",
    "status_df = pd.read_sql_query(query, conn)\n",
    "print(status_df.head(50))\n",
    "conn.close()"
   ]
  },
  {
   "cell_type": "code",
   "execution_count": null,
   "id": "48a285db",
   "metadata": {},
   "outputs": [],
   "source": [
    "query = \"\"\"SELECT kind_of_business,\n",
    "                strftime('%Y', sales_month) AS sales_year,\n",
    "                SUM(sales) AS total_sales\n",
    "        FROM \n",
    "                retail_sales\n",
    "\n",
    "        GROUP BY \n",
    "                kind_of_business, sales_year   \n",
    "        ORDER BY \n",
    "                sales_year, kind_of_business\n",
    "       \n",
    "        \"\"\"\n",
    "kind_of_business_sales_df = pd.read_sql_query(query, conn)\n",
    "kind_of_business_sales_df.head(10)"
   ]
  },
  {
   "cell_type": "code",
   "execution_count": 14,
   "id": "8c7c0d55",
   "metadata": {},
   "outputs": [
    {
     "data": {
      "text/html": [
       "<div>\n",
       "<style scoped>\n",
       "    .dataframe tbody tr th:only-of-type {\n",
       "        vertical-align: middle;\n",
       "    }\n",
       "\n",
       "    .dataframe tbody tr th {\n",
       "        vertical-align: top;\n",
       "    }\n",
       "\n",
       "    .dataframe thead th {\n",
       "        text-align: right;\n",
       "    }\n",
       "</style>\n",
       "<table border=\"1\" class=\"dataframe\">\n",
       "  <thead>\n",
       "    <tr style=\"text-align: right;\">\n",
       "      <th></th>\n",
       "      <th>form_status</th>\n",
       "      <th>number_of_businesses</th>\n",
       "    </tr>\n",
       "  </thead>\n",
       "  <tbody>\n",
       "    <tr>\n",
       "      <th>0</th>\n",
       "      <td>companies_in_Duist</td>\n",
       "      <td>186</td>\n",
       "    </tr>\n",
       "    <tr>\n",
       "      <th>1</th>\n",
       "      <td>Companies_in_Wallonia</td>\n",
       "      <td>10657</td>\n",
       "    </tr>\n",
       "    <tr>\n",
       "      <th>2</th>\n",
       "      <td>companies_in_Flanders</td>\n",
       "      <td>10657</td>\n",
       "    </tr>\n",
       "  </tbody>\n",
       "</table>\n",
       "</div>"
      ],
      "text/plain": [
       "             form_status  number_of_businesses\n",
       "0     companies_in_Duist                   186\n",
       "1  Companies_in_Wallonia                 10657\n",
       "2  companies_in_Flanders                 10657"
      ]
     },
     "execution_count": 14,
     "metadata": {},
     "output_type": "execute_result"
    }
   ],
   "source": [
    "\n",
    "from datetime import datetime\n",
    "import sqlite3\n",
    "import pandas as pd\n",
    "\n",
    "db_file = \"data/kbo_database.db\"\n",
    "conn = sqlite3.connect(db_file)\n",
    "\n",
    "query8 = \"\"\"\n",
    "    SELECT  \n",
    "        CASE \n",
    "            WHEN Language = 'FR' THEN 'Companies_in_Wallonia'\n",
    "            WHEN Language = 'NL' THEN 'companies_in_Flanders'\n",
    "            ELSE 'companies_in_Duist'\n",
    "        END AS form_status,\n",
    "\n",
    "        COUNT(Category) AS number_of_businesses     \n",
    "    FROM code\n",
    "    \n",
    "    GROUP BY Language\n",
    "    \"\"\"\n",
    "Region_df = pd.read_sql_query(query8, conn)\n",
    "Region_df.head(10)"
   ]
  },
  {
   "cell_type": "code",
   "execution_count": 8,
   "id": "d78c8101",
   "metadata": {},
   "outputs": [
    {
     "name": "stderr",
     "output_type": "stream",
     "text": [
      "C:\\Users\\Becode\\AppData\\Local\\Temp\\ipykernel_13856\\2103903281.py:4: FutureWarning:\n",
      "\n",
      "\n",
      "\n",
      "Passing `palette` without assigning `hue` is deprecated and will be removed in v0.14.0. Assign the `x` variable to `hue` and set `legend=False` for the same effect.\n",
      "\n",
      "\n"
     ]
    },
    {
     "data": {
      "image/png": "[encoded data removed]",
      "text/plain": [
       "<Figure size 640x480 with 1 Axes>"
      ]
     },
     "metadata": {},
     "output_type": "display_data"
    }
   ],
   "source": [
    "import seaborn as sns\n",
    "import matplotlib.pyplot as plt\n",
    "\n",
    "sns.barplot(data=Region_df, x='form_status', y='number_of_businesses', palette='viridis')\n",
    "plt.title('Number of business by Language')\n",
    "plt.xlabel('Language')  \n",
    "plt.ylabel('Nace Code Count')\n",
    "plt.xticks(rotation=45)\n",
    "plt.tight_layout()\n",
    "plt.show()\n"
   ]
  },
  {
   "cell_type": "markdown",
   "id": "e1ef2941",
   "metadata": {},
   "source": [
    "Find growth trends by sector with year-over-year analysis"
   ]
  },
  {
   "cell_type": "markdown",
   "id": "892da8f9",
   "metadata": {},
   "source": [
    "year over year analysis"
   ]
  },
  {
   "cell_type": "code",
   "execution_count": 20,
   "id": "461296a9",
   "metadata": {},
   "outputs": [
    {
     "ename": "ProgrammingError",
     "evalue": "Cannot operate on a closed database.",
     "output_type": "error",
     "traceback": [
      "\u001b[31m---------------------------------------------------------------------------\u001b[39m",
      "\u001b[31mProgrammingError\u001b[39m                          Traceback (most recent call last)",
      "\u001b[36mCell\u001b[39m\u001b[36m \u001b[39m\u001b[32mIn[20]\u001b[39m\u001b[32m, line 19\u001b[39m\n\u001b[32m      1\u001b[39m query = \u001b[33m\"\"\"\u001b[39m\u001b[33mWITH yearly_counts AS (\u001b[39m\n\u001b[32m      2\u001b[39m \u001b[33m        SELECT \u001b[39m\n\u001b[32m      3\u001b[39m \u001b[33m            CAST(SUBSTR(StartDate, 7, 4) AS INTEGER) AS establishment_year,\u001b[39m\n\u001b[32m   (...)\u001b[39m\u001b[32m     17\u001b[39m \u001b[33m    ORDER BY establishment_year;\u001b[39m\n\u001b[32m     18\u001b[39m \u001b[33m\"\"\"\u001b[39m\n\u001b[32m---> \u001b[39m\u001b[32m19\u001b[39m df = \u001b[43mpd\u001b[49m\u001b[43m.\u001b[49m\u001b[43mread_sql_query\u001b[49m\u001b[43m(\u001b[49m\u001b[43mquery\u001b[49m\u001b[43m,\u001b[49m\u001b[43m \u001b[49m\u001b[43mconn\u001b[49m\u001b[43m)\u001b[49m\n\u001b[32m     21\u001b[39m plt.figure(figsize=(\u001b[32m10\u001b[39m, \u001b[32m6\u001b[39m))\n\u001b[32m     22\u001b[39m plt.scatter(df[\u001b[33m'\u001b[39m\u001b[33mestablishment_year\u001b[39m\u001b[33m'\u001b[39m], df[\u001b[33m'\u001b[39m\u001b[33myoy_percentage\u001b[39m\u001b[33m'\u001b[39m], color=\u001b[33m'\u001b[39m\u001b[33mblue\u001b[39m\u001b[33m'\u001b[39m, alpha=\u001b[32m0.7\u001b[39m, edgecolor=\u001b[33m'\u001b[39m\u001b[33mblack\u001b[39m\u001b[33m'\u001b[39m)\n",
      "\u001b[36mFile \u001b[39m\u001b[32m~\\AppData\\Local\\Packages\\PythonSoftwareFoundation.Python.3.12_qbz5n2kfra8p0\\LocalCache\\local-packages\\Python312\\site-packages\\pandas\\io\\sql.py:528\u001b[39m, in \u001b[36mread_sql_query\u001b[39m\u001b[34m(sql, con, index_col, coerce_float, params, parse_dates, chunksize, dtype, dtype_backend)\u001b[39m\n\u001b[32m    525\u001b[39m \u001b[38;5;28;01massert\u001b[39;00m dtype_backend \u001b[38;5;129;01mis\u001b[39;00m \u001b[38;5;129;01mnot\u001b[39;00m lib.no_default\n\u001b[32m    527\u001b[39m \u001b[38;5;28;01mwith\u001b[39;00m pandasSQL_builder(con) \u001b[38;5;28;01mas\u001b[39;00m pandas_sql:\n\u001b[32m--> \u001b[39m\u001b[32m528\u001b[39m     \u001b[38;5;28;01mreturn\u001b[39;00m \u001b[43mpandas_sql\u001b[49m\u001b[43m.\u001b[49m\u001b[43mread_query\u001b[49m\u001b[43m(\u001b[49m\n\u001b[32m    529\u001b[39m \u001b[43m        \u001b[49m\u001b[43msql\u001b[49m\u001b[43m,\u001b[49m\n\u001b[32m    530\u001b[39m \u001b[43m        \u001b[49m\u001b[43mindex_col\u001b[49m\u001b[43m=\u001b[49m\u001b[43mindex_col\u001b[49m\u001b[43m,\u001b[49m\n\u001b[32m    531\u001b[39m \u001b[43m        \u001b[49m\u001b[43mparams\u001b[49m\u001b[43m=\u001b[49m\u001b[43mparams\u001b[49m\u001b[43m,\u001b[49m\n\u001b[32m    532\u001b[39m \u001b[43m        \u001b[49m\u001b[43mcoerce_float\u001b[49m\u001b[43m=\u001b[49m\u001b[43mcoerce_float\u001b[49m\u001b[43m,\u001b[49m\n\u001b[32m    533\u001b[39m \u001b[43m        \u001b[49m\u001b[43mparse_dates\u001b[49m\u001b[43m=\u001b[49m\u001b[43mparse_dates\u001b[49m\u001b[43m,\u001b[49m\n\u001b[32m    534\u001b[39m \u001b[43m        \u001b[49m\u001b[43mchunksize\u001b[49m\u001b[43m=\u001b[49m\u001b[43mchunksize\u001b[49m\u001b[43m,\u001b[49m\n\u001b[32m    535\u001b[39m \u001b[43m        \u001b[49m\u001b[43mdtype\u001b[49m\u001b[43m=\u001b[49m\u001b[43mdtype\u001b[49m\u001b[43m,\u001b[49m\n\u001b[32m    536\u001b[39m \u001b[43m        \u001b[49m\u001b[43mdtype_backend\u001b[49m\u001b[43m=\u001b[49m\u001b[43mdtype_backend\u001b[49m\u001b[43m,\u001b[49m\n\u001b[32m    537\u001b[39m \u001b[43m    \u001b[49m\u001b[43m)\u001b[49m\n",
      "\u001b[36mFile \u001b[39m\u001b[32m~\\AppData\\Local\\Packages\\PythonSoftwareFoundation.Python.3.12_qbz5n2kfra8p0\\LocalCache\\local-packages\\Python312\\site-packages\\pandas\\io\\sql.py:2728\u001b[39m, in \u001b[36mSQLiteDatabase.read_query\u001b[39m\u001b[34m(self, sql, index_col, coerce_float, parse_dates, params, chunksize, dtype, dtype_backend)\u001b[39m\n\u001b[32m   2717\u001b[39m \u001b[38;5;28;01mdef\u001b[39;00m\u001b[38;5;250m \u001b[39m\u001b[34mread_query\u001b[39m(\n\u001b[32m   2718\u001b[39m     \u001b[38;5;28mself\u001b[39m,\n\u001b[32m   2719\u001b[39m     sql,\n\u001b[32m   (...)\u001b[39m\u001b[32m   2726\u001b[39m     dtype_backend: DtypeBackend | Literal[\u001b[33m\"\u001b[39m\u001b[33mnumpy\u001b[39m\u001b[33m\"\u001b[39m] = \u001b[33m\"\u001b[39m\u001b[33mnumpy\u001b[39m\u001b[33m\"\u001b[39m,\n\u001b[32m   2727\u001b[39m ) -> DataFrame | Iterator[DataFrame]:\n\u001b[32m-> \u001b[39m\u001b[32m2728\u001b[39m     cursor = \u001b[38;5;28;43mself\u001b[39;49m\u001b[43m.\u001b[49m\u001b[43mexecute\u001b[49m\u001b[43m(\u001b[49m\u001b[43msql\u001b[49m\u001b[43m,\u001b[49m\u001b[43m \u001b[49m\u001b[43mparams\u001b[49m\u001b[43m)\u001b[49m\n\u001b[32m   2729\u001b[39m     columns = [col_desc[\u001b[32m0\u001b[39m] \u001b[38;5;28;01mfor\u001b[39;00m col_desc \u001b[38;5;129;01min\u001b[39;00m cursor.description]\n\u001b[32m   2731\u001b[39m     \u001b[38;5;28;01mif\u001b[39;00m chunksize \u001b[38;5;129;01mis\u001b[39;00m \u001b[38;5;129;01mnot\u001b[39;00m \u001b[38;5;28;01mNone\u001b[39;00m:\n",
      "\u001b[36mFile \u001b[39m\u001b[32m~\\AppData\\Local\\Packages\\PythonSoftwareFoundation.Python.3.12_qbz5n2kfra8p0\\LocalCache\\local-packages\\Python312\\site-packages\\pandas\\io\\sql.py:2662\u001b[39m, in \u001b[36mSQLiteDatabase.execute\u001b[39m\u001b[34m(self, sql, params)\u001b[39m\n\u001b[32m   2660\u001b[39m     \u001b[38;5;28;01mraise\u001b[39;00m \u001b[38;5;167;01mTypeError\u001b[39;00m(\u001b[33m\"\u001b[39m\u001b[33mQuery must be a string unless using sqlalchemy.\u001b[39m\u001b[33m\"\u001b[39m)\n\u001b[32m   2661\u001b[39m args = [] \u001b[38;5;28;01mif\u001b[39;00m params \u001b[38;5;129;01mis\u001b[39;00m \u001b[38;5;28;01mNone\u001b[39;00m \u001b[38;5;28;01melse\u001b[39;00m [params]\n\u001b[32m-> \u001b[39m\u001b[32m2662\u001b[39m cur = \u001b[38;5;28;43mself\u001b[39;49m\u001b[43m.\u001b[49m\u001b[43mcon\u001b[49m\u001b[43m.\u001b[49m\u001b[43mcursor\u001b[49m\u001b[43m(\u001b[49m\u001b[43m)\u001b[49m\n\u001b[32m   2663\u001b[39m \u001b[38;5;28;01mtry\u001b[39;00m:\n\u001b[32m   2664\u001b[39m     cur.execute(sql, *args)\n",
      "\u001b[31mProgrammingError\u001b[39m: Cannot operate on a closed database."
     ]
    }
   ],
   "source": [
    "query = \"\"\"WITH yearly_counts AS (\n",
    "        SELECT \n",
    "            CAST(SUBSTR(StartDate, 7, 4) AS INTEGER) AS establishment_year,\n",
    "            COUNT(*) AS company_count\n",
    "        FROM establishment\n",
    "        WHERE StartDate NOT LIKE '%2015'\n",
    "        GROUP BY CAST(SUBSTR(StartDate, 7, 4) AS INTEGER)\n",
    "    )\n",
    "    SELECT \n",
    "        establishment_year,\n",
    "        company_count,\n",
    "        LAG(company_count) OVER (ORDER BY establishment_year) AS prev_year_count,\n",
    "        (company_count - LAG(company_count) OVER (ORDER BY establishment_year)) * 100.0 / \n",
    "        NULLIF(LAG(company_count) OVER (ORDER BY establishment_year), 0) AS yoy_percentage\n",
    "    FROM yearly_counts\n",
    "    WHERE \n",
    "    ORDER BY establishment_year;\n",
    "\"\"\"\n",
    "df = pd.read_sql_query(query, conn)\n",
    "\n",
    "plt.figure(figsize=(10, 6))\n",
    "plt.scatter(df['establishment_year'], df['yoy_percentage'], color='blue', alpha=0.7, edgecolor='black')\n",
    "plt.title('Year-over-Year Percentage Change in Company Establishments', fontsize=14)\n",
    "plt.xlabel('Year', fontsize=12)\n",
    "plt.ylabel('YoY Percentage Change (%)', fontsize=12)\n",
    "plt.grid(True, linestyle='--', alpha=0.6)\n",
    "plt.show()\n",
    "\n"
   ]
  },
  {
   "cell_type": "code",
   "execution_count": null,
   "id": "02549328",
   "metadata": {},
   "outputs": [
    {
     "data": {
      "application/vnd.plotly.v1+json": {
       "config": {
        "plotlyServerURL": "https://plot.ly"
       },
       "data": [
        {
         "hovertemplate": "Year=%{x}<br>YoY Percentage Change (%)=%{y}<extra></extra>",
         "legendgroup": "",
         "marker": {
          "color": "blue",
          "line": {
           "color": "black",
           "width": 1
          },
          "size": 10,
          "symbol": "circle"
         },
         "mode": "markers",
         "name": "",
         "orientation": "v",
         "showlegend": false,
         "type": "scatter",
         "x": {
          "bdata": "WgdqB2wHcQd1B3gHeQd9B38HhQeHB4wHjgePB5UHmAecB54HoAeiB6MHpgeoB6kHqwesB60HrweyB7UHtge4B7kHvge/B8EHwgfDB8QHxQfOB9AH0wfVB9YH1wfYB9oH3gfgB+IH4wflB+cH6Ac=",
          "dtype": "i2"
         },
         "xaxis": "x",
         "y": {
          "bdata": "AAAAAAAAWUAAAAAAAABUQIqiKIqiKD5AAAAAAADgVUCO4ziO4zhGQFnIQhaykFNALFG7ErUrV0AAAAAAAABZQAAAAAAAIExAXdd1Xdd1QUAAAAAAADBRQHZiJ3ZiJzpAt23btm3bJkCQBmmQBmlPQOOt7HNITTxAAAAAAAAAVEDRRRdddNE/QP5CrCiNjyRA5Zn4uO+WOkA5yVwpv7E9QCiCQZQ0C0VAvuVbvuVbKEChlhO5aoYzQK9P16fr0zlAnXPOOedcNEBlwUkEHtI+QCOp7GZeYDpAFnqWKl7NKkA5juM4jmMqQGe6VGzrDTNAabfuvr+zKEAzMzMzMzM9QKGgoKCgoDJAD90ZSS3QLUDp1yOvc/0zQIKnwAfKMiVAO3H+ObgNK0BHGPwN7bw0QFX93EC0ZCxApUgsdqFLKEC/QgIx5B4mQJUIoXGvhClAtZXGNK4iKED902ysZpotQLRDYRgE1TZASilwxJr4MEDJKbxo71onQN7XBv1s8C1A8impLD7TLECQpk6m/q0oQO4z/2f5BS9AkO2zWoh8LEC6qmhyrhQxQNgDO8nVBSRAtDQeBiLVKEA=",
          "dtype": "f8"
         },
         "yaxis": "y"
        }
       ],
       "layout": {
        "height": 500,
        "legend": {
         "tracegroupgap": 0
        },
        "template": {
         "data": {
          "bar": [
           {
            "error_x": {
             "color": "#2a3f5f"
            },
            "error_y": {
             "color": "#2a3f5f"
            },
            "marker": {
             "line": {
              "color": "white",
              "width": 0.5
             },
             "pattern": {
              "fillmode": "overlay",
              "size": 10,
              "solidity": 0.2
             }
            },
            "type": "bar"
           }
          ],
          "barpolar": [
           {
            "marker": {
             "line": {
              "color": "white",
              "width": 0.5
             },
             "pattern": {
              "fillmode": "overlay",
              "size": 10,
              "solidity": 0.2
             }
            },
            "type": "barpolar"
           }
          ],
          "carpet": [
           {
            "aaxis": {
             "endlinecolor": "#2a3f5f",
             "gridcolor": "#C8D4E3",
             "linecolor": "#C8D4E3",
             "minorgridcolor": "#C8D4E3",
             "startlinecolor": "#2a3f5f"
            },
            "baxis": {
             "endlinecolor": "#2a3f5f",
             "gridcolor": "#C8D4E3",
             "linecolor": "#C8D4E3",
             "minorgridcolor": "#C8D4E3",
             "startlinecolor": "#2a3f5f"
            },
            "type": "carpet"
           }
          ],
          "choropleth": [
           {
            "colorbar": {
             "outlinewidth": 0,
             "ticks": ""
            },
            "type": "choropleth"
           }
          ],
          "contour": [
           {
            "colorbar": {
             "outlinewidth": 0,
             "ticks": ""
            },
            "colorscale": [
             [
              0,
              "#0d0887"
             ],
             [
              0.1111111111111111,
              "#46039f"
             ],
             [
              0.2222222222222222,
              "#7201a8"
             ],
             [
              0.3333333333333333,
              "#9c179e"
             ],
             [
              0.4444444444444444,
              "#bd3786"
             ],
             [
              0.5555555555555556,
              "#d8576b"
             ],
             [
              0.6666666666666666,
              "#ed7953"
             ],
             [
              0.7777777777777778,
              "#fb9f3a"
             ],
             [
              0.8888888888888888,
              "#fdca26"
             ],
             [
              1,
              "#f0f921"
             ]
            ],
            "type": "contour"
           }
          ],
          "contourcarpet": [
           {
            "colorbar": {
             "outlinewidth": 0,
             "ticks": ""
            },
            "type": "contourcarpet"
           }
          ],
          "heatmap": [
           {
            "colorbar": {
             "outlinewidth": 0,
             "ticks": ""
            },
            "colorscale": [
             [
              0,
              "#0d0887"
             ],
             [
              0.1111111111111111,
              "#46039f"
             ],
             [
              0.2222222222222222,
              "#7201a8"
             ],
             [
              0.3333333333333333,
              "#9c179e"
             ],
             [
              0.4444444444444444,
              "#bd3786"
             ],
             [
              0.5555555555555556,
              "#d8576b"
             ],
             [
              0.6666666666666666,
              "#ed7953"
             ],
             [
              0.7777777777777778,
              "#fb9f3a"
             ],
             [
              0.8888888888888888,
              "#fdca26"
             ],
             [
              1,
              "#f0f921"
             ]
            ],
            "type": "heatmap"
           }
          ],
          "histogram": [
           {
            "marker": {
             "pattern": {
              "fillmode": "overlay",
              "size": 10,
              "solidity": 0.2
             }
            },
            "type": "histogram"
           }
          ],
          "histogram2d": [
           {
            "colorbar": {
             "outlinewidth": 0,
             "ticks": ""
            },
            "colorscale": [
             [
              0,
              "#0d0887"
             ],
             [
              0.1111111111111111,
              "#46039f"
             ],
             [
              0.2222222222222222,
              "#7201a8"
             ],
             [
              0.3333333333333333,
              "#9c179e"
             ],
             [
              0.4444444444444444,
              "#bd3786"
             ],
             [
              0.5555555555555556,
              "#d8576b"
             ],
             [
              0.6666666666666666,
              "#ed7953"
             ],
             [
              0.7777777777777778,
              "#fb9f3a"
             ],
             [
              0.8888888888888888,
              "#fdca26"
             ],
             [
              1,
              "#f0f921"
             ]
            ],
            "type": "histogram2d"
           }
          ],
          "histogram2dcontour": [
           {
            "colorbar": {
             "outlinewidth": 0,
             "ticks": ""
            },
            "colorscale": [
             [
              0,
              "#0d0887"
             ],
             [
              0.1111111111111111,
              "#46039f"
             ],
             [
              0.2222222222222222,
              "#7201a8"
             ],
             [
              0.3333333333333333,
              "#9c179e"
             ],
             [
              0.4444444444444444,
              "#bd3786"
             ],
             [
              0.5555555555555556,
              "#d8576b"
             ],
             [
              0.6666666666666666,
              "#ed7953"
             ],
             [
              0.7777777777777778,
              "#fb9f3a"
             ],
             [
              0.8888888888888888,
              "#fdca26"
             ],
             [
              1,
              "#f0f921"
             ]
            ],
            "type": "histogram2dcontour"
           }
          ],
          "mesh3d": [
           {
            "colorbar": {
             "outlinewidth": 0,
             "ticks": ""
            },
            "type": "mesh3d"
           }
          ],
          "parcoords": [
           {
            "line": {
             "colorbar": {
              "outlinewidth": 0,
              "ticks": ""
             }
            },
            "type": "parcoords"
           }
          ],
          "pie": [
           {
            "automargin": true,
            "type": "pie"
           }
          ],
          "scatter": [
           {
            "fillpattern": {
             "fillmode": "overlay",
             "size": 10,
             "solidity": 0.2
            },
            "type": "scatter"
           }
          ],
          "scatter3d": [
           {
            "line": {
             "colorbar": {
              "outlinewidth": 0,
              "ticks": ""
             }
            },
            "marker": {
             "colorbar": {
              "outlinewidth": 0,
              "ticks": ""
             }
            },
            "type": "scatter3d"
           }
          ],
          "scattercarpet": [
           {
            "marker": {
             "colorbar": {
              "outlinewidth": 0,
              "ticks": ""
             }
            },
            "type": "scattercarpet"
           }
          ],
          "scattergeo": [
           {
            "marker": {
             "colorbar": {
              "outlinewidth": 0,
              "ticks": ""
             }
            },
            "type": "scattergeo"
           }
          ],
          "scattergl": [
           {
            "marker": {
             "colorbar": {
              "outlinewidth": 0,
              "ticks": ""
             }
            },
            "type": "scattergl"
           }
          ],
          "scattermap": [
           {
            "marker": {
             "colorbar": {
              "outlinewidth": 0,
              "ticks": ""
             }
            },
            "type": "scattermap"
           }
          ],
          "scattermapbox": [
           {
            "marker": {
             "colorbar": {
              "outlinewidth": 0,
              "ticks": ""
             }
            },
            "type": "scattermapbox"
           }
          ],
          "scatterpolar": [
           {
            "marker": {
             "colorbar": {
              "outlinewidth": 0,
              "ticks": ""
             }
            },
            "type": "scatterpolar"
           }
          ],
          "scatterpolargl": [
           {
            "marker": {
             "colorbar": {
              "outlinewidth": 0,
              "ticks": ""
             }
            },
            "type": "scatterpolargl"
           }
          ],
          "scatterternary": [
           {
            "marker": {
             "colorbar": {
              "outlinewidth": 0,
              "ticks": ""
             }
            },
            "type": "scatterternary"
           }
          ],
          "surface": [
           {
            "colorbar": {
             "outlinewidth": 0,
             "ticks": ""
            },
            "colorscale": [
             [
              0,
              "#0d0887"
             ],
             [
              0.1111111111111111,
              "#46039f"
             ],
             [
              0.2222222222222222,
              "#7201a8"
             ],
             [
              0.3333333333333333,
              "#9c179e"
             ],
             [
              0.4444444444444444,
              "#bd3786"
             ],
             [
              0.5555555555555556,
              "#d8576b"
             ],
             [
              0.6666666666666666,
              "#ed7953"
             ],
             [
              0.7777777777777778,
              "#fb9f3a"
             ],
             [
              0.8888888888888888,
              "#fdca26"
             ],
             [
              1,
              "#f0f921"
             ]
            ],
            "type": "surface"
           }
          ],
          "table": [
           {
            "cells": {
             "fill": {
              "color": "#EBF0F8"
             },
             "line": {
              "color": "white"
             }
            },
            "header": {
             "fill": {
              "color": "#C8D4E3"
             },
             "line": {
              "color": "white"
             }
            },
            "type": "table"
           }
          ]
         },
         "layout": {
          "annotationdefaults": {
           "arrowcolor": "#2a3f5f",
           "arrowhead": 0,
           "arrowwidth": 1
          },
          "autotypenumbers": "strict",
          "coloraxis": {
           "colorbar": {
            "outlinewidth": 0,
            "ticks": ""
           }
          },
          "colorscale": {
           "diverging": [
            [
             0,
             "#8e0152"
            ],
            [
             0.1,
             "#c51b7d"
            ],
            [
             0.2,
             "#de77ae"
            ],
            [
             0.3,
             "#f1b6da"
            ],
            [
             0.4,
             "#fde0ef"
            ],
            [
             0.5,
             "#f7f7f7"
            ],
            [
             0.6,
             "#e6f5d0"
            ],
            [
             0.7,
             "#b8e186"
            ],
            [
             0.8,
             "#7fbc41"
            ],
            [
             0.9,
             "#4d9221"
            ],
            [
             1,
             "#276419"
            ]
           ],
           "sequential": [
            [
             0,
             "#0d0887"
            ],
            [
             0.1111111111111111,
             "#46039f"
            ],
            [
             0.2222222222222222,
             "#7201a8"
            ],
            [
             0.3333333333333333,
             "#9c179e"
            ],
            [
             0.4444444444444444,
             "#bd3786"
            ],
            [
             0.5555555555555556,
             "#d8576b"
            ],
            [
             0.6666666666666666,
             "#ed7953"
            ],
            [
             0.7777777777777778,
             "#fb9f3a"
            ],
            [
             0.8888888888888888,
             "#fdca26"
            ],
            [
             1,
             "#f0f921"
            ]
           ],
           "sequentialminus": [
            [
             0,
             "#0d0887"
            ],
            [
             0.1111111111111111,
             "#46039f"
            ],
            [
             0.2222222222222222,
             "#7201a8"
            ],
            [
             0.3333333333333333,
             "#9c179e"
            ],
            [
             0.4444444444444444,
             "#bd3786"
            ],
            [
             0.5555555555555556,
             "#d8576b"
            ],
            [
             0.6666666666666666,
             "#ed7953"
            ],
            [
             0.7777777777777778,
             "#fb9f3a"
            ],
            [
             0.8888888888888888,
             "#fdca26"
            ],
            [
             1,
             "#f0f921"
            ]
           ]
          },
          "colorway": [
           "#636efa",
           "#EF553B",
           "#00cc96",
           "#ab63fa",
           "#FFA15A",
           "#19d3f3",
           "#FF6692",
           "#B6E880",
           "#FF97FF",
           "#FECB52"
          ],
          "font": {
           "color": "#2a3f5f"
          },
          "geo": {
           "bgcolor": "white",
           "lakecolor": "white",
           "landcolor": "white",
           "showlakes": true,
           "showland": true,
           "subunitcolor": "#C8D4E3"
          },
          "hoverlabel": {
           "align": "left"
          },
          "hovermode": "closest",
          "mapbox": {
           "style": "light"
          },
          "paper_bgcolor": "white",
          "plot_bgcolor": "white",
          "polar": {
           "angularaxis": {
            "gridcolor": "#EBF0F8",
            "linecolor": "#EBF0F8",
            "ticks": ""
           },
           "bgcolor": "white",
           "radialaxis": {
            "gridcolor": "#EBF0F8",
            "linecolor": "#EBF0F8",
            "ticks": ""
           }
          },
          "scene": {
           "xaxis": {
            "backgroundcolor": "white",
            "gridcolor": "#DFE8F3",
            "gridwidth": 2,
            "linecolor": "#EBF0F8",
            "showbackground": true,
            "ticks": "",
            "zerolinecolor": "#EBF0F8"
           },
           "yaxis": {
            "backgroundcolor": "white",
            "gridcolor": "#DFE8F3",
            "gridwidth": 2,
            "linecolor": "#EBF0F8",
            "showbackground": true,
            "ticks": "",
            "zerolinecolor": "#EBF0F8"
           },
           "zaxis": {
            "backgroundcolor": "white",
            "gridcolor": "#DFE8F3",
            "gridwidth": 2,
            "linecolor": "#EBF0F8",
            "showbackground": true,
            "ticks": "",
            "zerolinecolor": "#EBF0F8"
           }
          },
          "shapedefaults": {
           "line": {
            "color": "#2a3f5f"
           }
          },
          "ternary": {
           "aaxis": {
            "gridcolor": "#DFE8F3",
            "linecolor": "#A2B1C6",
            "ticks": ""
           },
           "baxis": {
            "gridcolor": "#DFE8F3",
            "linecolor": "#A2B1C6",
            "ticks": ""
           },
           "bgcolor": "white",
           "caxis": {
            "gridcolor": "#DFE8F3",
            "linecolor": "#A2B1C6",
            "ticks": ""
           }
          },
          "title": {
           "x": 0.05
          },
          "xaxis": {
           "automargin": true,
           "gridcolor": "#EBF0F8",
           "linecolor": "#EBF0F8",
           "ticks": "",
           "title": {
            "standoff": 15
           },
           "zerolinecolor": "#EBF0F8",
           "zerolinewidth": 2
          },
          "yaxis": {
           "automargin": true,
           "gridcolor": "#EBF0F8",
           "linecolor": "#EBF0F8",
           "ticks": "",
           "title": {
            "standoff": 15
           },
           "zerolinecolor": "#EBF0F8",
           "zerolinewidth": 2
          }
         }
        },
        "title": {
         "font": {
          "size": 18
         },
         "text": "Year-over-Year Percentage Change in Company Establishments (10%–100%)"
        },
        "width": 800,
        "xaxis": {
         "anchor": "y",
         "domain": [
          0,
          1
         ],
         "title": {
          "font": {
           "size": 14
          },
          "text": "Year"
         }
        },
        "yaxis": {
         "anchor": "x",
         "domain": [
          0,
          1
         ],
         "title": {
          "font": {
           "size": 20
          },
          "text": "YoY Percentage Change (%)"
         }
        }
       }
      }
     },
     "metadata": {},
     "output_type": "display_data"
    }
   ],
   "source": [
    "\n",
    "import pandas as pd\n",
    "import plotly.express as px\n",
    "\n",
    "# Step 1: Connect to SQLite database\n",
    "conn = sqlite3.connect(db_file)\n",
    "\n",
    "# Step 2: Run the corrected SQL query\n",
    "query = '''\n",
    "    WITH yearly_counts AS (\n",
    "        SELECT \n",
    "            CAST(SUBSTR(StartDate, 7, 4) AS INTEGER) AS establishment_year,\n",
    "            COUNT(*) AS company_count\n",
    "        FROM establishment\n",
    "        GROUP BY CAST(SUBSTR(StartDate, 7, 4) AS INTEGER)\n",
    "    )\n",
    "    SELECT \n",
    "        establishment_year,\n",
    "        company_count,\n",
    "        LAG(company_count) OVER (ORDER BY establishment_year) AS prev_year_count,\n",
    "        (company_count - LAG(company_count) OVER (ORDER BY establishment_year)) * 100.0 / \n",
    "        NULLIF(LAG(company_count) OVER (ORDER BY establishment_year), 0) AS yoy_percentage\n",
    "    FROM yearly_counts\n",
    "    ORDER BY establishment_year;\n",
    "'''\n",
    "df = pd.read_sql_query(query, conn)\n",
    "conn.close()\n",
    "\n",
    "# Step 3: Filter rows with YoY% between 10 and 100\n",
    "df_filtered = df[(df['yoy_percentage'] >= 10) & (df['yoy_percentage'] <= 100)]\n",
    "\n",
    "# Step 4: Plot using Plotly\n",
    "fig = px.scatter(\n",
    "    df_filtered,\n",
    "    x='establishment_year',\n",
    "    y='yoy_percentage',\n",
    "    title='Year-over-Year Percentage Change in Company Establishments (10%–100%)',\n",
    "    labels={\n",
    "        'establishment_year': 'Year',\n",
    "        'yoy_percentage': 'YoY Percentage Change (%)'\n",
    "    },\n",
    "    template='plotly_white'\n",
    ")\n",
    "\n",
    "fig.update_traces(marker=dict(size=10, color='blue', line=dict(width=1, color='black')))\n",
    "fig.update_layout(title_font_size=18, xaxis_title_font_size=14, yaxis_title_font_size=20,\n",
    "                  width = 800,\n",
    "                  height = 500\n",
    "                  )\n",
    "fig.show()"
   ]
  },
  {
   "cell_type": "code",
   "execution_count": null,
   "id": "a373e878",
   "metadata": {},
   "outputs": [
    {
     "data": {
      "application/vnd.plotly.v1+json": {
       "config": {
        "plotlyServerURL": "https://plot.ly"
       },
       "data": [
        {
         "customdata": {
          "bdata": "BAAAABIAAABSAAAADwAAAA0AAAApAAAATwAAAAYAAABLAAAAVQAAAGwAAABSAAAATgAAAH8AAABEAAAALQAAAAUBAADsAAAA2wAAACkBAACmAQAAXgEAAMUBAAA6AgAAVQIAAA0DAADbAwAAywQAAKQHAADWCQAADQsAACQPAAD2EQAAjBcAAEEcAABiIQAA5iUAAMItAABBNAAAmjoAAEBGAACZRwAACFwAAANeAAB6cwAAE4cAANmWAAAqkgAAJrIAAE/TAAChCgEAmzABAGl4AQBmtQEAtesBAA==",
          "dtype": "i4"
         },
         "hovertemplate": "Year: %{x}<br>YoY: %{y:.2f}%<br>Companies: %{customdata}",
         "marker": {
          "color": {
           "bdata": "Ov8LQdAAJECG/LUkqQMkQCjwdTWtECRAGv3s8wwDJEB9/WbTpAIkQBT4uppWCCRAvfCsBBEQJEDX/pFhOAEkQILxoMNADyRAlO8+ZkkRJEAi60Pc9hUkQCjwdTWtECRA7vBp9NwPJEB35zwR1BkkQN3yy1HUDSRATvfG2yYJJECTzU6UFDUkQGfSw/3+LyRAsNVQ6YksJECexrrdZjwkQHiucc7SVSRAYbyZOy5HJEB6qI7GIFwkQOCRLTXscyRAqIw+7Gl5JEAbaWac1Z4kQE9BULK6yCRA8BIg8Yn5JEAYhuo/zI0lQIMZAPMXACZAbd1ktFc/JkAkE2k2RhQnQKWHXhMcpydAXXOf6e7JKECOiv10/74pQOCMn9wGyipAiK0qSyC1K0DOKL0ZUE4tQIHn+LyFoC5AjK1C9gDrL0C1NlkxuyQxQGCVfibQRzFADRwDS7xbM0ATa1tlSo8zQD7Ya+wOvjVAl3PvRDi8N0CC7VaF1FY5QFbhcHDo3DhAXMrnf4QdPEBNFsIevHw/QBzf+/VojkJAh4kVWrV8RECokcxETyNIQIhfVzYgPUtAAAAAAAAATkA=",
           "dtype": "f8"
          },
          "colorbar": {
           "title": {
            "text": "Company Count in Each year"
           }
          },
          "colorscale": [
           [
            0,
            "#440154"
           ],
           [
            0.1111111111111111,
            "#482878"
           ],
           [
            0.2222222222222222,
            "#3e4989"
           ],
           [
            0.3333333333333333,
            "#31688e"
           ],
           [
            0.4444444444444444,
            "#26828e"
           ],
           [
            0.5555555555555556,
            "#1f9e89"
           ],
           [
            0.6666666666666666,
            "#35b779"
           ],
           [
            0.7777777777777778,
            "#6ece58"
           ],
           [
            0.8888888888888888,
            "#b5de2b"
           ],
           [
            1,
            "#fde725"
           ]
          ],
          "line": {
           "color": "black",
           "width": 1
          },
          "showscale": true,
          "size": {
           "bdata": "Ov8LQdAAJECG/LUkqQMkQCjwdTWtECRAGv3s8wwDJEB9/WbTpAIkQBT4uppWCCRAvfCsBBEQJEDX/pFhOAEkQILxoMNADyRAlO8+ZkkRJEAi60Pc9hUkQCjwdTWtECRA7vBp9NwPJEB35zwR1BkkQN3yy1HUDSRATvfG2yYJJECTzU6UFDUkQGfSw/3+LyRAsNVQ6YksJECexrrdZjwkQHiucc7SVSRAYbyZOy5HJEB6qI7GIFwkQOCRLTXscyRAqIw+7Gl5JEAbaWac1Z4kQE9BULK6yCRA8BIg8Yn5JEAYhuo/zI0lQIMZAPMXACZAbd1ktFc/JkAkE2k2RhQnQKWHXhMcpydAXXOf6e7JKECOiv10/74pQOCMn9wGyipAiK0qSyC1K0DOKL0ZUE4tQIHn+LyFoC5AjK1C9gDrL0C1NlkxuyQxQGCVfibQRzFADRwDS7xbM0ATa1tlSo8zQD7Ya+wOvjVAl3PvRDi8N0CC7VaF1FY5QFbhcHDo3DhAXMrnf4QdPEBNFsIevHw/QBzf+/VojkJAh4kVWrV8RECokcxETyNIQIhfVzYgPUtAAAAAAAAATkA=",
           "dtype": "f8"
          },
          "symbol": "diamond"
         },
         "mode": "markers",
         "name": "Actual Data",
         "type": "scatter",
         "x": {
          "bdata": "WgdqB2wHcQd1B3gHeQd9B38HhQeHB4wHjgePB5UHmAecB54HoAeiB6MHpgeoB6kHqwesB60HrweyB7UHtge4B7kHvge/B8EHwgfDB8QHxQfOB9AH0wfVB9YH1wfYB9oH3gfgB+IH4wflB+cH6Ac=",
          "dtype": "i2"
         },
         "y": {
          "bdata": "AAAAAAAAWUAAAAAAAABUQIqiKIqiKD5AAAAAAADgVUCO4ziO4zhGQFnIQhaykFNALFG7ErUrV0AAAAAAAABZQAAAAAAAIExAXdd1Xdd1QUAAAAAAADBRQHZiJ3ZiJzpAt23btm3bJkCQBmmQBmlPQOOt7HNITTxAAAAAAAAAVEDRRRdddNE/QP5CrCiNjyRA5Zn4uO+WOkA5yVwpv7E9QCiCQZQ0C0VAvuVbvuVbKEChlhO5aoYzQK9P16fr0zlAnXPOOedcNEBlwUkEHtI+QCOp7GZeYDpAFnqWKl7NKkA5juM4jmMqQGe6VGzrDTNAabfuvr+zKEAzMzMzMzM9QKGgoKCgoDJAD90ZSS3QLUDp1yOvc/0zQIKnwAfKMiVAO3H+ObgNK0BHGPwN7bw0QFX93EC0ZCxApUgsdqFLKEC/QgIx5B4mQJUIoXGvhClAtZXGNK4iKED902ysZpotQLRDYRgE1TZASilwxJr4MEDJKbxo71onQN7XBv1s8C1A8impLD7TLECQpk6m/q0oQO4z/2f5BS9AkO2zWoh8LEC6qmhyrhQxQNgDO8nVBSRAtDQeBiLVKEA=",
          "dtype": "f8"
         }
        },
        {
         "hoverinfo": "skip",
         "line": {
          "color": "red",
          "width": 2
         },
         "mode": "lines",
         "name": "Fitted Curve (Poly Deg 2)",
         "type": "scatter",
         "x": {
          "bdata": "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",
          "dtype": "f8"
         },
         "y": {
          "bdata": "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",
          "dtype": "f8"
         }
        }
       ],
       "layout": {
        "height": 600,
        "legend": {
         "bgcolor": "rgba(255,255,255,0.8)",
         "bordercolor": "black",
         "borderwidth": 1,
         "font": {
          "size": 22
         },
         "title": {
          "text": "Legend"
         },
         "x": 0.55,
         "y": 1
        },
        "template": {
         "data": {
          "bar": [
           {
            "error_x": {
             "color": "#2a3f5f"
            },
            "error_y": {
             "color": "#2a3f5f"
            },
            "marker": {
             "line": {
              "color": "white",
              "width": 0.5
             },
             "pattern": {
              "fillmode": "overlay",
              "size": 10,
              "solidity": 0.2
             }
            },
            "type": "bar"
           }
          ],
          "barpolar": [
           {
            "marker": {
             "line": {
              "color": "white",
              "width": 0.5
             },
             "pattern": {
              "fillmode": "overlay",
              "size": 10,
              "solidity": 0.2
             }
            },
            "type": "barpolar"
           }
          ],
          "carpet": [
           {
            "aaxis": {
             "endlinecolor": "#2a3f5f",
             "gridcolor": "#C8D4E3",
             "linecolor": "#C8D4E3",
             "minorgridcolor": "#C8D4E3",
             "startlinecolor": "#2a3f5f"
            },
            "baxis": {
             "endlinecolor": "#2a3f5f",
             "gridcolor": "#C8D4E3",
             "linecolor": "#C8D4E3",
             "minorgridcolor": "#C8D4E3",
             "startlinecolor": "#2a3f5f"
            },
            "type": "carpet"
           }
          ],
          "choropleth": [
           {
            "colorbar": {
             "outlinewidth": 0,
             "ticks": ""
            },
            "type": "choropleth"
           }
          ],
          "contour": [
           {
            "colorbar": {
             "outlinewidth": 0,
             "ticks": ""
            },
            "colorscale": [
             [
              0,
              "#0d0887"
             ],
             [
              0.1111111111111111,
              "#46039f"
             ],
             [
              0.2222222222222222,
              "#7201a8"
             ],
             [
              0.3333333333333333,
              "#9c179e"
             ],
             [
              0.4444444444444444,
              "#bd3786"
             ],
             [
              0.5555555555555556,
              "#d8576b"
             ],
             [
              0.6666666666666666,
              "#ed7953"
             ],
             [
              0.7777777777777778,
              "#fb9f3a"
             ],
             [
              0.8888888888888888,
              "#fdca26"
             ],
             [
              1,
              "#f0f921"
             ]
            ],
            "type": "contour"
           }
          ],
          "contourcarpet": [
           {
            "colorbar": {
             "outlinewidth": 0,
             "ticks": ""
            },
            "type": "contourcarpet"
           }
          ],
          "heatmap": [
           {
            "colorbar": {
             "outlinewidth": 0,
             "ticks": ""
            },
            "colorscale": [
             [
              0,
              "#0d0887"
             ],
             [
              0.1111111111111111,
              "#46039f"
             ],
             [
              0.2222222222222222,
              "#7201a8"
             ],
             [
              0.3333333333333333,
              "#9c179e"
             ],
             [
              0.4444444444444444,
              "#bd3786"
             ],
             [
              0.5555555555555556,
              "#d8576b"
             ],
             [
              0.6666666666666666,
              "#ed7953"
             ],
             [
              0.7777777777777778,
              "#fb9f3a"
             ],
             [
              0.8888888888888888,
              "#fdca26"
             ],
             [
              1,
              "#f0f921"
             ]
            ],
            "type": "heatmap"
           }
          ],
          "histogram": [
           {
            "marker": {
             "pattern": {
              "fillmode": "overlay",
              "size": 10,
              "solidity": 0.2
             }
            },
            "type": "histogram"
           }
          ],
          "histogram2d": [
           {
            "colorbar": {
             "outlinewidth": 0,
             "ticks": ""
            },
            "colorscale": [
             [
              0,
              "#0d0887"
             ],
             [
              0.1111111111111111,
              "#46039f"
             ],
             [
              0.2222222222222222,
              "#7201a8"
             ],
             [
              0.3333333333333333,
              "#9c179e"
             ],
             [
              0.4444444444444444,
              "#bd3786"
             ],
             [
              0.5555555555555556,
              "#d8576b"
             ],
             [
              0.6666666666666666,
              "#ed7953"
             ],
             [
              0.7777777777777778,
              "#fb9f3a"
             ],
             [
              0.8888888888888888,
              "#fdca26"
             ],
             [
              1,
              "#f0f921"
             ]
            ],
            "type": "histogram2d"
           }
          ],
          "histogram2dcontour": [
           {
            "colorbar": {
             "outlinewidth": 0,
             "ticks": ""
            },
            "colorscale": [
             [
              0,
              "#0d0887"
             ],
             [
              0.1111111111111111,
              "#46039f"
             ],
             [
              0.2222222222222222,
              "#7201a8"
             ],
             [
              0.3333333333333333,
              "#9c179e"
             ],
             [
              0.4444444444444444,
              "#bd3786"
             ],
             [
              0.5555555555555556,
              "#d8576b"
             ],
             [
              0.6666666666666666,
              "#ed7953"
             ],
             [
              0.7777777777777778,
              "#fb9f3a"
             ],
             [
              0.8888888888888888,
              "#fdca26"
             ],
             [
              1,
              "#f0f921"
             ]
            ],
            "type": "histogram2dcontour"
           }
          ],
          "mesh3d": [
           {
            "colorbar": {
             "outlinewidth": 0,
             "ticks": ""
            },
            "type": "mesh3d"
           }
          ],
          "parcoords": [
           {
            "line": {
             "colorbar": {
              "outlinewidth": 0,
              "ticks": ""
             }
            },
            "type": "parcoords"
           }
          ],
          "pie": [
           {
            "automargin": true,
            "type": "pie"
           }
          ],
          "scatter": [
           {
            "fillpattern": {
             "fillmode": "overlay",
             "size": 10,
             "solidity": 0.2
            },
            "type": "scatter"
           }
          ],
          "scatter3d": [
           {
            "line": {
             "colorbar": {
              "outlinewidth": 0,
              "ticks": ""
             }
            },
            "marker": {
             "colorbar": {
              "outlinewidth": 0,
              "ticks": ""
             }
            },
            "type": "scatter3d"
           }
          ],
          "scattercarpet": [
           {
            "marker": {
             "colorbar": {
              "outlinewidth": 0,
              "ticks": ""
             }
            },
            "type": "scattercarpet"
           }
          ],
          "scattergeo": [
           {
            "marker": {
             "colorbar": {
              "outlinewidth": 0,
              "ticks": ""
             }
            },
            "type": "scattergeo"
           }
          ],
          "scattergl": [
           {
            "marker": {
             "colorbar": {
              "outlinewidth": 0,
              "ticks": ""
             }
            },
            "type": "scattergl"
           }
          ],
          "scattermap": [
           {
            "marker": {
             "colorbar": {
              "outlinewidth": 0,
              "ticks": ""
             }
            },
            "type": "scattermap"
           }
          ],
          "scattermapbox": [
           {
            "marker": {
             "colorbar": {
              "outlinewidth": 0,
              "ticks": ""
             }
            },
            "type": "scattermapbox"
           }
          ],
          "scatterpolar": [
           {
            "marker": {
             "colorbar": {
              "outlinewidth": 0,
              "ticks": ""
             }
            },
            "type": "scatterpolar"
           }
          ],
          "scatterpolargl": [
           {
            "marker": {
             "colorbar": {
              "outlinewidth": 0,
              "ticks": ""
             }
            },
            "type": "scatterpolargl"
           }
          ],
          "scatterternary": [
           {
            "marker": {
             "colorbar": {
              "outlinewidth": 0,
              "ticks": ""
             }
            },
            "type": "scatterternary"
           }
          ],
          "surface": [
           {
            "colorbar": {
             "outlinewidth": 0,
             "ticks": ""
            },
            "colorscale": [
             [
              0,
              "#0d0887"
             ],
             [
              0.1111111111111111,
              "#46039f"
             ],
             [
              0.2222222222222222,
              "#7201a8"
             ],
             [
              0.3333333333333333,
              "#9c179e"
             ],
             [
              0.4444444444444444,
              "#bd3786"
             ],
             [
              0.5555555555555556,
              "#d8576b"
             ],
             [
              0.6666666666666666,
              "#ed7953"
             ],
             [
              0.7777777777777778,
              "#fb9f3a"
             ],
             [
              0.8888888888888888,
              "#fdca26"
             ],
             [
              1,
              "#f0f921"
             ]
            ],
            "type": "surface"
           }
          ],
          "table": [
           {
            "cells": {
             "fill": {
              "color": "#EBF0F8"
             },
             "line": {
              "color": "white"
             }
            },
            "header": {
             "fill": {
              "color": "#C8D4E3"
             },
             "line": {
              "color": "white"
             }
            },
            "type": "table"
           }
          ]
         },
         "layout": {
          "annotationdefaults": {
           "arrowcolor": "#2a3f5f",
           "arrowhead": 0,
           "arrowwidth": 1
          },
          "autotypenumbers": "strict",
          "coloraxis": {
           "colorbar": {
            "outlinewidth": 0,
            "ticks": ""
           }
          },
          "colorscale": {
           "diverging": [
            [
             0,
             "#8e0152"
            ],
            [
             0.1,
             "#c51b7d"
            ],
            [
             0.2,
             "#de77ae"
            ],
            [
             0.3,
             "#f1b6da"
            ],
            [
             0.4,
             "#fde0ef"
            ],
            [
             0.5,
             "#f7f7f7"
            ],
            [
             0.6,
             "#e6f5d0"
            ],
            [
             0.7,
             "#b8e186"
            ],
            [
             0.8,
             "#7fbc41"
            ],
            [
             0.9,
             "#4d9221"
            ],
            [
             1,
             "#276419"
            ]
           ],
           "sequential": [
            [
             0,
             "#0d0887"
            ],
            [
             0.1111111111111111,
             "#46039f"
            ],
            [
             0.2222222222222222,
             "#7201a8"
            ],
            [
             0.3333333333333333,
             "#9c179e"
            ],
            [
             0.4444444444444444,
             "#bd3786"
            ],
            [
             0.5555555555555556,
             "#d8576b"
            ],
            [
             0.6666666666666666,
             "#ed7953"
            ],
            [
             0.7777777777777778,
             "#fb9f3a"
            ],
            [
             0.8888888888888888,
             "#fdca26"
            ],
            [
             1,
             "#f0f921"
            ]
           ],
           "sequentialminus": [
            [
             0,
             "#0d0887"
            ],
            [
             0.1111111111111111,
             "#46039f"
            ],
            [
             0.2222222222222222,
             "#7201a8"
            ],
            [
             0.3333333333333333,
             "#9c179e"
            ],
            [
             0.4444444444444444,
             "#bd3786"
            ],
            [
             0.5555555555555556,
             "#d8576b"
            ],
            [
             0.6666666666666666,
             "#ed7953"
            ],
            [
             0.7777777777777778,
             "#fb9f3a"
            ],
            [
             0.8888888888888888,
             "#fdca26"
            ],
            [
             1,
             "#f0f921"
            ]
           ]
          },
          "colorway": [
           "#636efa",
           "#EF553B",
           "#00cc96",
           "#ab63fa",
           "#FFA15A",
           "#19d3f3",
           "#FF6692",
           "#B6E880",
           "#FF97FF",
           "#FECB52"
          ],
          "font": {
           "color": "#2a3f5f"
          },
          "geo": {
           "bgcolor": "white",
           "lakecolor": "white",
           "landcolor": "white",
           "showlakes": true,
           "showland": true,
           "subunitcolor": "#C8D4E3"
          },
          "hoverlabel": {
           "align": "left"
          },
          "hovermode": "closest",
          "mapbox": {
           "style": "light"
          },
          "paper_bgcolor": "white",
          "plot_bgcolor": "white",
          "polar": {
           "angularaxis": {
            "gridcolor": "#EBF0F8",
            "linecolor": "#EBF0F8",
            "ticks": ""
           },
           "bgcolor": "white",
           "radialaxis": {
            "gridcolor": "#EBF0F8",
            "linecolor": "#EBF0F8",
            "ticks": ""
           }
          },
          "scene": {
           "xaxis": {
            "backgroundcolor": "white",
            "gridcolor": "#DFE8F3",
            "gridwidth": 2,
            "linecolor": "#EBF0F8",
            "showbackground": true,
            "ticks": "",
            "zerolinecolor": "#EBF0F8"
           },
           "yaxis": {
            "backgroundcolor": "white",
            "gridcolor": "#DFE8F3",
            "gridwidth": 2,
            "linecolor": "#EBF0F8",
            "showbackground": true,
            "ticks": "",
            "zerolinecolor": "#EBF0F8"
           },
           "zaxis": {
            "backgroundcolor": "white",
            "gridcolor": "#DFE8F3",
            "gridwidth": 2,
            "linecolor": "#EBF0F8",
            "showbackground": true,
            "ticks": "",
            "zerolinecolor": "#EBF0F8"
           }
          },
          "shapedefaults": {
           "line": {
            "color": "#2a3f5f"
           }
          },
          "ternary": {
           "aaxis": {
            "gridcolor": "#DFE8F3",
            "linecolor": "#A2B1C6",
            "ticks": ""
           },
           "baxis": {
            "gridcolor": "#DFE8F3",
            "linecolor": "#A2B1C6",
            "ticks": ""
           },
           "bgcolor": "white",
           "caxis": {
            "gridcolor": "#DFE8F3",
            "linecolor": "#A2B1C6",
            "ticks": ""
           }
          },
          "title": {
           "x": 0.05
          },
          "xaxis": {
           "automargin": true,
           "gridcolor": "#EBF0F8",
           "linecolor": "#EBF0F8",
           "ticks": "",
           "title": {
            "standoff": 15
           },
           "zerolinecolor": "#EBF0F8",
           "zerolinewidth": 2
          },
          "yaxis": {
           "automargin": true,
           "gridcolor": "#EBF0F8",
           "linecolor": "#EBF0F8",
           "ticks": "",
           "title": {
            "standoff": 15
           },
           "zerolinecolor": "#EBF0F8",
           "zerolinewidth": 2
          }
         }
        },
        "title": {
         "font": {
          "family": "Arial, sans-serif",
          "size": 24
         },
         "text": "Year-over-Year % Change in Company Establishments with Fitting Curve"
        },
        "width": 1100,
        "xaxis": {
         "tickfont": {
          "size": 18
         },
         "title": {
          "font": {
           "size": 20
          },
          "text": "Year"
         }
        },
        "yaxis": {
         "tickfont": {
          "size": 18
         },
         "title": {
          "font": {
           "size": 20
          },
          "text": "YoY Percentage Change (%)"
         }
        }
       }
      }
     },
     "metadata": {},
     "output_type": "display_data"
    }
   ],
   "source": [
    "import sqlite3\n",
    "import pandas as pd\n",
    "import plotly.graph_objects as go\n",
    "import numpy as np\n",
    "\n",
    "# Step 1: Connect to SQLite database\n",
    "conn = sqlite3.connect(db_file)\n",
    "\n",
    "# Step 2: Query data with YoY percentage and company counts\n",
    "query = '''\n",
    "    WITH yearly_counts AS (\n",
    "        SELECT \n",
    "            CAST(SUBSTR(StartDate, 7, 4) AS INTEGER) AS establishment_year,\n",
    "            COUNT(*) AS company_count\n",
    "        FROM establishment\n",
    "        GROUP BY CAST(SUBSTR(StartDate, 7, 4) AS INTEGER)\n",
    "    )\n",
    "    SELECT \n",
    "        establishment_year,\n",
    "        company_count,\n",
    "        LAG(company_count) OVER (ORDER BY establishment_year) AS prev_year_count,\n",
    "        (company_count - LAG(company_count) OVER (ORDER BY establishment_year)) * 100.0 / \n",
    "        NULLIF(LAG(company_count) OVER (ORDER BY establishment_year), 0) AS yoy_percentage\n",
    "    FROM yearly_counts\n",
    "    ORDER BY establishment_year;\n",
    "'''\n",
    "df = pd.read_sql_query(query, conn)\n",
    "conn.close()\n",
    "\n",
    "# Filter YoY percentage between 10% and 100%\n",
    "df_filtered = df[(df['yoy_percentage'] >= 10) & (df['yoy_percentage'] <= 100)]\n",
    "\n",
    "\n",
    "x = df_filtered['establishment_year']\n",
    "y = df_filtered['yoy_percentage']\n",
    "coeffs = np.polyfit(x, y, deg=2)\n",
    "x_fit = np.linspace(x.min(), x.max(), 300)\n",
    "y_fit = np.polyval(coeffs, x_fit)\n",
    "\n",
    "\n",
    "size_ref = 50  # adjust size scaling factor\n",
    "marker_sizes = (df_filtered['company_count'] / df_filtered['company_count'].max()) * size_ref + 10\n",
    "\n",
    "# Create Plotly figure\n",
    "fig = go.Figure()\n",
    "\n",
    "\n",
    "fig.add_trace(go.Scatter(\n",
    "    x=x,\n",
    "    y=y,\n",
    "    mode='markers',\n",
    "    name='Actual Data',\n",
    "    marker=dict(\n",
    "        size=marker_sizes,\n",
    "        color=marker_sizes,              # color scaled by size\n",
    "        colorscale='Viridis',\n",
    "        showscale=True,\n",
    "        colorbar=dict(title='Company Count in Each year'),\n",
    "        line=dict(width=1, color='black'),\n",
    "        symbol='diamond'\n",
    "    ),\n",
    "    hovertemplate=(\n",
    "        'Year: %{x}<br>'\n",
    "        'YoY: %{y:.2f}%<br>'\n",
    "        'Companies: %{customdata}'\n",
    "    ),\n",
    "    customdata=df_filtered['company_count']\n",
    "))\n",
    "\n",
    "# Fitted curve\n",
    "fig.add_trace(go.Scatter(\n",
    "    x=x_fit,\n",
    "    y=y_fit,\n",
    "    mode='lines',\n",
    "    name='Fitted Curve (Poly Deg 2)',\n",
    "    line=dict(color='red', width=2),\n",
    "    hoverinfo='skip'\n",
    "))\n",
    "\n",
    "# Layout with font sizes and legend position\n",
    "\n",
    "fig.update_layout(\n",
    "    width=1100,\n",
    "    height=600,\n",
    "    title='Year-over-Year % Change in Company Establishments with Fitting Curve',\n",
    "    title_font=dict(size=24, family='Arial, sans-serif'),\n",
    "    xaxis_title='Year',\n",
    "    xaxis=dict(\n",
    "        title_font=dict(size=20),\n",
    "        tickfont=dict(size=18)    # <-- adjust x-axis tick labels font size here\n",
    "    ),\n",
    "    yaxis_title='YoY Percentage Change (%)',\n",
    "    yaxis=dict(\n",
    "        title_font=dict(size=20),\n",
    "        tickfont=dict(size=18)    # <-- adjust y-axis tick labels font size here\n",
    "    ),\n",
    "    legend=dict(\n",
    "        title='Legend',\n",
    "        font=dict(size=22),\n",
    "        x=0.55,\n",
    "        y=1,\n",
    "        bgcolor='rgba(255,255,255,0.8)',\n",
    "        bordercolor='black',\n",
    "        borderwidth=1\n",
    "    ),\n",
    "    template='plotly_white'\n",
    ")\n",
    "\n",
    "fig.show()\n"
   ]
  },
  {
   "cell_type": "markdown",
   "id": "bcf8b47e",
   "metadata": {},
   "source": [
    "Find growth trends by sector with year-over-year analysis"
   ]
  },
  {
   "cell_type": "code",
   "execution_count": 88,
   "id": "41d73bd2",
   "metadata": {},
   "outputs": [],
   "source": [
    "conn = sqlite3.connect(db_file)\n",
    "\n",
    "# SQL: Year-over-year by sector\n",
    "query = '''\n",
    "    WITH sector_year_counts AS (\n",
    "        SELECT\n",
    "            c.description AS sector,\n",
    "            CAST(SUBSTR(e.StartDate, 7, 4) AS INTEGER) AS establishment_year,\n",
    "            COUNT(*) AS company_count\n",
    "        FROM enterprise e\n",
    "        JOIN code c ON c.Code = e.EnterpriseNumber\n",
    "        GROUP BY Description, establishment_year\n",
    "    ),\n",
    "    sector_yoy AS (\n",
    "        SELECT\n",
    "            sector,\n",
    "            establishment_year,\n",
    "            company_count,\n",
    "            LAG(company_count) OVER (\n",
    "                PARTITION BY sector\n",
    "                ORDER BY establishment_year\n",
    "            ) AS prev_year_count,\n",
    "            (company_count - LAG(company_count) OVER (\n",
    "                PARTITION BY sector\n",
    "                ORDER BY establishment_year\n",
    "            )) * 100.0 /\n",
    "            NULLIF(LAG(company_count) OVER (\n",
    "                PARTITION BY sector\n",
    "                ORDER BY establishment_year\n",
    "            ), 0) AS yoy_percentage\n",
    "        FROM sector_year_counts\n",
    "    )\n",
    "    SELECT *\n",
    "    FROM sector_yoy\n",
    "    WHERE yoy_percentage BETWEEN 10 AND 100\n",
    "    ORDER BY sector, establishment_year;\n",
    "'''\n",
    "\n",
    "df = pd.read_sql_query(query, conn)\n",
    "conn.close()"
   ]
  },
  {
   "cell_type": "code",
   "execution_count": null,
   "id": "0cd1f928",
   "metadata": {},
   "outputs": [
    {
     "data": {
      "application/vnd.plotly.v1+json": {
       "config": {
        "plotlyServerURL": "https://plot.ly"
       },
       "data": [],
       "layout": {
        "height": 700,
        "legend": {
         "bgcolor": "rgba(255,255,255,0.7)",
         "bordercolor": "gray",
         "borderwidth": 1,
         "font": {
          "size": 14
         },
         "itemsizing": "constant",
         "tracegroupgap": 0,
         "x": 1.02,
         "xanchor": "left",
         "y": 1,
         "yanchor": "top"
        },
        "margin": {
         "b": 50,
         "l": 50,
         "r": 50,
         "t": 80
        },
        "template": {
         "data": {
          "bar": [
           {
            "error_x": {
             "color": "#2a3f5f"
            },
            "error_y": {
             "color": "#2a3f5f"
            },
            "marker": {
             "line": {
              "color": "white",
              "width": 0.5
             },
             "pattern": {
              "fillmode": "overlay",
              "size": 10,
              "solidity": 0.2
             }
            },
            "type": "bar"
           }
          ],
          "barpolar": [
           {
            "marker": {
             "line": {
              "color": "white",
              "width": 0.5
             },
             "pattern": {
              "fillmode": "overlay",
              "size": 10,
              "solidity": 0.2
             }
            },
            "type": "barpolar"
           }
          ],
          "carpet": [
           {
            "aaxis": {
             "endlinecolor": "#2a3f5f",
             "gridcolor": "#C8D4E3",
             "linecolor": "#C8D4E3",
             "minorgridcolor": "#C8D4E3",
             "startlinecolor": "#2a3f5f"
            },
            "baxis": {
             "endlinecolor": "#2a3f5f",
             "gridcolor": "#C8D4E3",
             "linecolor": "#C8D4E3",
             "minorgridcolor": "#C8D4E3",
             "startlinecolor": "#2a3f5f"
            },
            "type": "carpet"
           }
          ],
          "choropleth": [
           {
            "colorbar": {
             "outlinewidth": 0,
             "ticks": ""
            },
            "type": "choropleth"
           }
          ],
          "contour": [
           {
            "colorbar": {
             "outlinewidth": 0,
             "ticks": ""
            },
            "colorscale": [
             [
              0,
              "#0d0887"
             ],
             [
              0.1111111111111111,
              "#46039f"
             ],
             [
              0.2222222222222222,
              "#7201a8"
             ],
             [
              0.3333333333333333,
              "#9c179e"
             ],
             [
              0.4444444444444444,
              "#bd3786"
             ],
             [
              0.5555555555555556,
              "#d8576b"
             ],
             [
              0.6666666666666666,
              "#ed7953"
             ],
             [
              0.7777777777777778,
              "#fb9f3a"
             ],
             [
              0.8888888888888888,
              "#fdca26"
             ],
             [
              1,
              "#f0f921"
             ]
            ],
            "type": "contour"
           }
          ],
          "contourcarpet": [
           {
            "colorbar": {
             "outlinewidth": 0,
             "ticks": ""
            },
            "type": "contourcarpet"
           }
          ],
          "heatmap": [
           {
            "colorbar": {
             "outlinewidth": 0,
             "ticks": ""
            },
            "colorscale": [
             [
              0,
              "#0d0887"
             ],
             [
              0.1111111111111111,
              "#46039f"
             ],
             [
              0.2222222222222222,
              "#7201a8"
             ],
             [
              0.3333333333333333,
              "#9c179e"
             ],
             [
              0.4444444444444444,
              "#bd3786"
             ],
             [
              0.5555555555555556,
              "#d8576b"
             ],
             [
              0.6666666666666666,
              "#ed7953"
             ],
             [
              0.7777777777777778,
              "#fb9f3a"
             ],
             [
              0.8888888888888888,
              "#fdca26"
             ],
             [
              1,
              "#f0f921"
             ]
            ],
            "type": "heatmap"
           }
          ],
          "histogram": [
           {
            "marker": {
             "pattern": {
              "fillmode": "overlay",
              "size": 10,
              "solidity": 0.2
             }
            },
            "type": "histogram"
           }
          ],
          "histogram2d": [
           {
            "colorbar": {
             "outlinewidth": 0,
             "ticks": ""
            },
            "colorscale": [
             [
              0,
              "#0d0887"
             ],
             [
              0.1111111111111111,
              "#46039f"
             ],
             [
              0.2222222222222222,
              "#7201a8"
             ],
             [
              0.3333333333333333,
              "#9c179e"
             ],
             [
              0.4444444444444444,
              "#bd3786"
             ],
             [
              0.5555555555555556,
              "#d8576b"
             ],
             [
              0.6666666666666666,
              "#ed7953"
             ],
             [
              0.7777777777777778,
              "#fb9f3a"
             ],
             [
              0.8888888888888888,
              "#fdca26"
             ],
             [
              1,
              "#f0f921"
             ]
            ],
            "type": "histogram2d"
           }
          ],
          "histogram2dcontour": [
           {
            "colorbar": {
             "outlinewidth": 0,
             "ticks": ""
            },
            "colorscale": [
             [
              0,
              "#0d0887"
             ],
             [
              0.1111111111111111,
              "#46039f"
             ],
             [
              0.2222222222222222,
              "#7201a8"
             ],
             [
              0.3333333333333333,
              "#9c179e"
             ],
             [
              0.4444444444444444,
              "#bd3786"
             ],
             [
              0.5555555555555556,
              "#d8576b"
             ],
             [
              0.6666666666666666,
              "#ed7953"
             ],
             [
              0.7777777777777778,
              "#fb9f3a"
             ],
             [
              0.8888888888888888,
              "#fdca26"
             ],
             [
              1,
              "#f0f921"
             ]
            ],
            "type": "histogram2dcontour"
           }
          ],
          "mesh3d": [
           {
            "colorbar": {
             "outlinewidth": 0,
             "ticks": ""
            },
            "type": "mesh3d"
           }
          ],
          "parcoords": [
           {
            "line": {
             "colorbar": {
              "outlinewidth": 0,
              "ticks": ""
             }
            },
            "type": "parcoords"
           }
          ],
          "pie": [
           {
            "automargin": true,
            "type": "pie"
           }
          ],
          "scatter": [
           {
            "fillpattern": {
             "fillmode": "overlay",
             "size": 10,
             "solidity": 0.2
            },
            "type": "scatter"
           }
          ],
          "scatter3d": [
           {
            "line": {
             "colorbar": {
              "outlinewidth": 0,
              "ticks": ""
             }
            },
            "marker": {
             "colorbar": {
              "outlinewidth": 0,
              "ticks": ""
             }
            },
            "type": "scatter3d"
           }
          ],
          "scattercarpet": [
           {
            "marker": {
             "colorbar": {
              "outlinewidth": 0,
              "ticks": ""
             }
            },
            "type": "scattercarpet"
           }
          ],
          "scattergeo": [
           {
            "marker": {
             "colorbar": {
              "outlinewidth": 0,
              "ticks": ""
             }
            },
            "type": "scattergeo"
           }
          ],
          "scattergl": [
           {
            "marker": {
             "colorbar": {
              "outlinewidth": 0,
              "ticks": ""
             }
            },
            "type": "scattergl"
           }
          ],
          "scattermap": [
           {
            "marker": {
             "colorbar": {
              "outlinewidth": 0,
              "ticks": ""
             }
            },
            "type": "scattermap"
           }
          ],
          "scattermapbox": [
           {
            "marker": {
             "colorbar": {
              "outlinewidth": 0,
              "ticks": ""
             }
            },
            "type": "scattermapbox"
           }
          ],
          "scatterpolar": [
           {
            "marker": {
             "colorbar": {
              "outlinewidth": 0,
              "ticks": ""
             }
            },
            "type": "scatterpolar"
           }
          ],
          "scatterpolargl": [
           {
            "marker": {
             "colorbar": {
              "outlinewidth": 0,
              "ticks": ""
             }
            },
            "type": "scatterpolargl"
           }
          ],
          "scatterternary": [
           {
            "marker": {
             "colorbar": {
              "outlinewidth": 0,
              "ticks": ""
             }
            },
            "type": "scatterternary"
           }
          ],
          "surface": [
           {
            "colorbar": {
             "outlinewidth": 0,
             "ticks": ""
            },
            "colorscale": [
             [
              0,
              "#0d0887"
             ],
             [
              0.1111111111111111,
              "#46039f"
             ],
             [
              0.2222222222222222,
              "#7201a8"
             ],
             [
              0.3333333333333333,
              "#9c179e"
             ],
             [
              0.4444444444444444,
              "#bd3786"
             ],
             [
              0.5555555555555556,
              "#d8576b"
             ],
             [
              0.6666666666666666,
              "#ed7953"
             ],
             [
              0.7777777777777778,
              "#fb9f3a"
             ],
             [
              0.8888888888888888,
              "#fdca26"
             ],
             [
              1,
              "#f0f921"
             ]
            ],
            "type": "surface"
           }
          ],
          "table": [
           {
            "cells": {
             "fill": {
              "color": "#EBF0F8"
             },
             "line": {
              "color": "white"
             }
            },
            "header": {
             "fill": {
              "color": "#C8D4E3"
             },
             "line": {
              "color": "white"
             }
            },
            "type": "table"
           }
          ]
         },
         "layout": {
          "annotationdefaults": {
           "arrowcolor": "#2a3f5f",
           "arrowhead": 0,
           "arrowwidth": 1
          },
          "autotypenumbers": "strict",
          "coloraxis": {
           "colorbar": {
            "outlinewidth": 0,
            "ticks": ""
           }
          },
          "colorscale": {
           "diverging": [
            [
             0,
             "#8e0152"
            ],
            [
             0.1,
             "#c51b7d"
            ],
            [
             0.2,
             "#de77ae"
            ],
            [
             0.3,
             "#f1b6da"
            ],
            [
             0.4,
             "#fde0ef"
            ],
            [
             0.5,
             "#f7f7f7"
            ],
            [
             0.6,
             "#e6f5d0"
            ],
            [
             0.7,
             "#b8e186"
            ],
            [
             0.8,
             "#7fbc41"
            ],
            [
             0.9,
             "#4d9221"
            ],
            [
             1,
             "#276419"
            ]
           ],
           "sequential": [
            [
             0,
             "#0d0887"
            ],
            [
             0.1111111111111111,
             "#46039f"
            ],
            [
             0.2222222222222222,
             "#7201a8"
            ],
            [
             0.3333333333333333,
             "#9c179e"
            ],
            [
             0.4444444444444444,
             "#bd3786"
            ],
            [
             0.5555555555555556,
             "#d8576b"
            ],
            [
             0.6666666666666666,
             "#ed7953"
            ],
            [
             0.7777777777777778,
             "#fb9f3a"
            ],
            [
             0.8888888888888888,
             "#fdca26"
            ],
            [
             1,
             "#f0f921"
            ]
           ],
           "sequentialminus": [
            [
             0,
             "#0d0887"
            ],
            [
             0.1111111111111111,
             "#46039f"
            ],
            [
             0.2222222222222222,
             "#7201a8"
            ],
            [
             0.3333333333333333,
             "#9c179e"
            ],
            [
             0.4444444444444444,
             "#bd3786"
            ],
            [
             0.5555555555555556,
             "#d8576b"
            ],
            [
             0.6666666666666666,
             "#ed7953"
            ],
            [
             0.7777777777777778,
             "#fb9f3a"
            ],
            [
             0.8888888888888888,
             "#fdca26"
            ],
            [
             1,
             "#f0f921"
            ]
           ]
          },
          "colorway": [
           "#636efa",
           "#EF553B",
           "#00cc96",
           "#ab63fa",
           "#FFA15A",
           "#19d3f3",
           "#FF6692",
           "#B6E880",
           "#FF97FF",
           "#FECB52"
          ],
          "font": {
           "color": "#2a3f5f"
          },
          "geo": {
           "bgcolor": "white",
           "lakecolor": "white",
           "landcolor": "white",
           "showlakes": true,
           "showland": true,
           "subunitcolor": "#C8D4E3"
          },
          "hoverlabel": {
           "align": "left"
          },
          "hovermode": "closest",
          "mapbox": {
           "style": "light"
          },
          "paper_bgcolor": "white",
          "plot_bgcolor": "white",
          "polar": {
           "angularaxis": {
            "gridcolor": "#EBF0F8",
            "linecolor": "#EBF0F8",
            "ticks": ""
           },
           "bgcolor": "white",
           "radialaxis": {
            "gridcolor": "#EBF0F8",
            "linecolor": "#EBF0F8",
            "ticks": ""
           }
          },
          "scene": {
           "xaxis": {
            "backgroundcolor": "white",
            "gridcolor": "#DFE8F3",
            "gridwidth": 2,
            "linecolor": "#EBF0F8",
            "showbackground": true,
            "ticks": "",
            "zerolinecolor": "#EBF0F8"
           },
           "yaxis": {
            "backgroundcolor": "white",
            "gridcolor": "#DFE8F3",
            "gridwidth": 2,
            "linecolor": "#EBF0F8",
            "showbackground": true,
            "ticks": "",
            "zerolinecolor": "#EBF0F8"
           },
           "zaxis": {
            "backgroundcolor": "white",
            "gridcolor": "#DFE8F3",
            "gridwidth": 2,
            "linecolor": "#EBF0F8",
            "showbackground": true,
            "ticks": "",
            "zerolinecolor": "#EBF0F8"
           }
          },
          "shapedefaults": {
           "line": {
            "color": "#2a3f5f"
           }
          },
          "ternary": {
           "aaxis": {
            "gridcolor": "#DFE8F3",
            "linecolor": "#A2B1C6",
            "ticks": ""
           },
           "baxis": {
            "gridcolor": "#DFE8F3",
            "linecolor": "#A2B1C6",
            "ticks": ""
           },
           "bgcolor": "white",
           "caxis": {
            "gridcolor": "#DFE8F3",
            "linecolor": "#A2B1C6",
            "ticks": ""
           }
          },
          "title": {
           "x": 0.05
          },
          "xaxis": {
           "automargin": true,
           "gridcolor": "#EBF0F8",
           "linecolor": "#EBF0F8",
           "ticks": "",
           "title": {
            "standoff": 15
           },
           "zerolinecolor": "#EBF0F8",
           "zerolinewidth": 2
          },
          "yaxis": {
           "automargin": true,
           "gridcolor": "#EBF0F8",
           "linecolor": "#EBF0F8",
           "ticks": "",
           "title": {
            "standoff": 15
           },
           "zerolinecolor": "#EBF0F8",
           "zerolinewidth": 2
          }
         }
        },
        "title": {
         "font": {
          "size": 22
         },
         "text": "Year-over-Year Growth Trends by Sector"
        },
        "width": 1200,
        "xaxis": {
         "anchor": "y",
         "domain": [
          0,
          1
         ],
         "tickfont": {
          "size": 13
         },
         "title": {
          "font": {
           "size": 14
          },
          "text": "Year"
         }
        },
        "yaxis": {
         "anchor": "x",
         "domain": [
          0,
          1
         ],
         "tickfont": {
          "size": 13
         },
         "title": {
          "font": {
           "size": 14
          },
          "text": "YoY Growth (%)"
         }
        }
       }
      }
     },
     "metadata": {},
     "output_type": "display_data"
    }
   ],
   "source": [
    "size_ref = 40\n",
    "df['marker_size'] = (df['company_count'] / df['company_count'].max()) * size_ref + 10\n",
    "\n",
    "# Create Plotly scatter plot with facet per sector\n",
    "fig = px.scatter(\n",
    "    df,\n",
    "    x='establishment_year',\n",
    "    y='yoy_percentage',\n",
    "    size='marker_size',\n",
    "    color='sector',\n",
    "    facet_col='sector',\n",
    "    facet_col_wrap=3,  \n",
    "    title='Year-over-Year Growth Trends by Sector',\n",
    "    labels={\n",
    "        'establishment_year': 'Year',\n",
    "        'yoy_percentage': 'YoY Growth (%)'\n",
    "    },\n",
    "    template='plotly_white',\n",
    "    opacity=0.8\n",
    ")\n",
    "\n",
    "# Update marker style\n",
    "fig.update_traces(marker=dict(\n",
    "    line=dict(width=1, color='black'),\n",
    "    symbol='circle'\n",
    "))\n",
    "\n",
    "# Update layout fonts and sizing\n",
    "fig.update_layout(\n",
    "    width=1200,\n",
    "    height=700,\n",
    "    title_font=dict(size=22),\n",
    "    legend=dict(\n",
    "        font=dict(size=14),\n",
    "        x=1.02, y=1,\n",
    "        xanchor='left',\n",
    "        yanchor='top',\n",
    "        bgcolor='rgba(255,255,255,0.7)',\n",
    "        bordercolor='gray',\n",
    "        borderwidth=1\n",
    "    ),\n",
    "    margin=dict(l=50, r=50, t=80, b=50)\n",
    ")\n",
    "\n",
    "# Tick font size\n",
    "fig.update_xaxes(tickfont=dict(size=13), title_font=dict(size=14))\n",
    "fig.update_yaxes(tickfont=dict(size=13), title_font=dict(size=14))\n",
    "\n",
    "fig.show()"
   ]
  }
 ],
 "metadata": {
  "kernelspec": {
   "display_name": "Python 3",
   "language": "python",
   "name": "python3"
  },
  "language_info": {
   "codemirror_mode": {
    "name": "ipython",
    "version": 3
   },
   "file_extension": ".py",
   "mimetype": "text/x-python",
   "name": "python",
   "nbconvert_exporter": "python",
   "pygments_lexer": "ipython3",
   "version": "3.12.10"
  }
 },
 "nbformat": 4,
 "nbformat_minor": 5
}
